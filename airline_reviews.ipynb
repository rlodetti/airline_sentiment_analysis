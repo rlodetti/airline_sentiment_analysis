{
 "cells": [
  {
   "cell_type": "code",
   "execution_count": 1,
   "id": "6239a0a2-bc70-4129-8669-5589e4dd8691",
   "metadata": {
    "scrolled": true,
    "tags": []
   },
   "outputs": [
    {
     "name": "stdout",
     "output_type": "stream",
     "text": [
      "<class 'pandas.core.frame.DataFrame'>\n",
      "RangeIndex: 23171 entries, 0 to 23170\n",
      "Data columns (total 19 columns):\n",
      " #   Column                  Non-Null Count  Dtype  \n",
      "---  ------                  --------------  -----  \n",
      " 0   Airline Name            23171 non-null  object \n",
      " 1   Overall_Rating          23171 non-null  object \n",
      " 2   Review_Title            23171 non-null  object \n",
      " 3   Review Date             23171 non-null  object \n",
      " 4   Verified                23171 non-null  bool   \n",
      " 5   Review                  23171 non-null  object \n",
      " 6   Aircraft                7129 non-null   object \n",
      " 7   Type Of Traveller       19433 non-null  object \n",
      " 8   Seat Type               22075 non-null  object \n",
      " 9   Route                   19343 non-null  object \n",
      " 10  Date Flown              19417 non-null  object \n",
      " 11  Seat Comfort            19016 non-null  float64\n",
      " 12  Cabin Staff Service     18911 non-null  float64\n",
      " 13  Food & Beverages        14500 non-null  float64\n",
      " 14  Ground Service          18378 non-null  float64\n",
      " 15  Inflight Entertainment  10829 non-null  float64\n",
      " 16  Wifi & Connectivity     5920 non-null   float64\n",
      " 17  Value For Money         22105 non-null  float64\n",
      " 18  Recommended             23171 non-null  object \n",
      "dtypes: bool(1), float64(7), object(11)\n",
      "memory usage: 3.2+ MB\n"
     ]
    }
   ],
   "source": [
    "import pandas as pd\n",
    "from sklearn.pro\n",
    "df = pd.read_csv('data/Airline_review.csv').iloc[:,1:]\n",
    "df.info()"
   ]
  },
  {
   "cell_type": "code",
   "execution_count": null,
   "id": "b23bd1f6-36b2-4fc7-beae-3fa0ead3e12b",
   "metadata": {},
   "outputs": [],
   "source": []
  },
  {
   "cell_type": "code",
   "execution_count": 4,
   "id": "76355063-60bc-46a1-acce-2bf502f56216",
   "metadata": {},
   "outputs": [
    {
     "data": {
      "text/html": [
       "<div>\n",
       "<style scoped>\n",
       "    .dataframe tbody tr th:only-of-type {\n",
       "        vertical-align: middle;\n",
       "    }\n",
       "\n",
       "    .dataframe tbody tr th {\n",
       "        vertical-align: top;\n",
       "    }\n",
       "\n",
       "    .dataframe thead th {\n",
       "        text-align: right;\n",
       "    }\n",
       "</style>\n",
       "<table border=\"1\" class=\"dataframe\">\n",
       "  <thead>\n",
       "    <tr style=\"text-align: right;\">\n",
       "      <th></th>\n",
       "      <th>Airline Name</th>\n",
       "      <th>Overall_Rating</th>\n",
       "      <th>Review_Title</th>\n",
       "      <th>Review Date</th>\n",
       "      <th>Verified</th>\n",
       "      <th>Review</th>\n",
       "      <th>Aircraft</th>\n",
       "      <th>Type Of Traveller</th>\n",
       "      <th>Seat Type</th>\n",
       "      <th>Route</th>\n",
       "      <th>Date Flown</th>\n",
       "      <th>Seat Comfort</th>\n",
       "      <th>Cabin Staff Service</th>\n",
       "      <th>Food &amp; Beverages</th>\n",
       "      <th>Ground Service</th>\n",
       "      <th>Inflight Entertainment</th>\n",
       "      <th>Wifi &amp; Connectivity</th>\n",
       "      <th>Value For Money</th>\n",
       "      <th>Recommended</th>\n",
       "      <th>combined_text</th>\n",
       "    </tr>\n",
       "  </thead>\n",
       "  <tbody>\n",
       "    <tr>\n",
       "      <th>0</th>\n",
       "      <td>AB Aviation</td>\n",
       "      <td>9</td>\n",
       "      <td>\"pretty decent airline\"</td>\n",
       "      <td>11th November 2019</td>\n",
       "      <td>True</td>\n",
       "      <td>Moroni to Moheli. Turned out to be a pretty ...</td>\n",
       "      <td>NaN</td>\n",
       "      <td>Solo Leisure</td>\n",
       "      <td>Economy Class</td>\n",
       "      <td>Moroni to Moheli</td>\n",
       "      <td>November 2019</td>\n",
       "      <td>4.0</td>\n",
       "      <td>5.0</td>\n",
       "      <td>4.0</td>\n",
       "      <td>4.0</td>\n",
       "      <td>NaN</td>\n",
       "      <td>NaN</td>\n",
       "      <td>3.0</td>\n",
       "      <td>yes</td>\n",
       "      <td>\"pretty decent airline\"   Moroni to Moheli. Tu...</td>\n",
       "    </tr>\n",
       "    <tr>\n",
       "      <th>1</th>\n",
       "      <td>AB Aviation</td>\n",
       "      <td>1</td>\n",
       "      <td>\"Not a good airline\"</td>\n",
       "      <td>25th June 2019</td>\n",
       "      <td>True</td>\n",
       "      <td>Moroni to Anjouan. It is a very small airline...</td>\n",
       "      <td>E120</td>\n",
       "      <td>Solo Leisure</td>\n",
       "      <td>Economy Class</td>\n",
       "      <td>Moroni to Anjouan</td>\n",
       "      <td>June 2019</td>\n",
       "      <td>2.0</td>\n",
       "      <td>2.0</td>\n",
       "      <td>1.0</td>\n",
       "      <td>1.0</td>\n",
       "      <td>NaN</td>\n",
       "      <td>NaN</td>\n",
       "      <td>2.0</td>\n",
       "      <td>no</td>\n",
       "      <td>\"Not a good airline\"  Moroni to Anjouan. It is...</td>\n",
       "    </tr>\n",
       "    <tr>\n",
       "      <th>2</th>\n",
       "      <td>AB Aviation</td>\n",
       "      <td>1</td>\n",
       "      <td>\"flight was fortunately short\"</td>\n",
       "      <td>25th June 2019</td>\n",
       "      <td>True</td>\n",
       "      <td>Anjouan to Dzaoudzi. A very small airline an...</td>\n",
       "      <td>Embraer E120</td>\n",
       "      <td>Solo Leisure</td>\n",
       "      <td>Economy Class</td>\n",
       "      <td>Anjouan to Dzaoudzi</td>\n",
       "      <td>June 2019</td>\n",
       "      <td>2.0</td>\n",
       "      <td>1.0</td>\n",
       "      <td>1.0</td>\n",
       "      <td>1.0</td>\n",
       "      <td>NaN</td>\n",
       "      <td>NaN</td>\n",
       "      <td>2.0</td>\n",
       "      <td>no</td>\n",
       "      <td>\"flight was fortunately short\"   Anjouan to Dz...</td>\n",
       "    </tr>\n",
       "    <tr>\n",
       "      <th>3</th>\n",
       "      <td>Adria Airways</td>\n",
       "      <td>1</td>\n",
       "      <td>\"I will never fly again with Adria\"</td>\n",
       "      <td>28th September 2019</td>\n",
       "      <td>False</td>\n",
       "      <td>Please do a favor yourself and do not fly wi...</td>\n",
       "      <td>NaN</td>\n",
       "      <td>Solo Leisure</td>\n",
       "      <td>Economy Class</td>\n",
       "      <td>Frankfurt to Pristina</td>\n",
       "      <td>September 2019</td>\n",
       "      <td>1.0</td>\n",
       "      <td>1.0</td>\n",
       "      <td>NaN</td>\n",
       "      <td>1.0</td>\n",
       "      <td>NaN</td>\n",
       "      <td>NaN</td>\n",
       "      <td>1.0</td>\n",
       "      <td>no</td>\n",
       "      <td>\"I will never fly again with Adria\"   Please d...</td>\n",
       "    </tr>\n",
       "    <tr>\n",
       "      <th>4</th>\n",
       "      <td>Adria Airways</td>\n",
       "      <td>1</td>\n",
       "      <td>\"it ruined our last days of holidays\"</td>\n",
       "      <td>24th September 2019</td>\n",
       "      <td>True</td>\n",
       "      <td>Do not book a flight with this airline! My fr...</td>\n",
       "      <td>NaN</td>\n",
       "      <td>Couple Leisure</td>\n",
       "      <td>Economy Class</td>\n",
       "      <td>Sofia to Amsterdam via Ljubljana</td>\n",
       "      <td>September 2019</td>\n",
       "      <td>1.0</td>\n",
       "      <td>1.0</td>\n",
       "      <td>1.0</td>\n",
       "      <td>1.0</td>\n",
       "      <td>1.0</td>\n",
       "      <td>1.0</td>\n",
       "      <td>1.0</td>\n",
       "      <td>no</td>\n",
       "      <td>\"it ruined our last days of holidays\"  Do not ...</td>\n",
       "    </tr>\n",
       "  </tbody>\n",
       "</table>\n",
       "</div>"
      ],
      "text/plain": [
       "    Airline Name Overall_Rating                           Review_Title  \\\n",
       "0    AB Aviation              9                \"pretty decent airline\"   \n",
       "1    AB Aviation              1                   \"Not a good airline\"   \n",
       "2    AB Aviation              1         \"flight was fortunately short\"   \n",
       "3  Adria Airways              1    \"I will never fly again with Adria\"   \n",
       "4  Adria Airways              1  \"it ruined our last days of holidays\"   \n",
       "\n",
       "           Review Date  Verified  \\\n",
       "0   11th November 2019      True   \n",
       "1       25th June 2019      True   \n",
       "2       25th June 2019      True   \n",
       "3  28th September 2019     False   \n",
       "4  24th September 2019      True   \n",
       "\n",
       "                                              Review       Aircraft  \\\n",
       "0    Moroni to Moheli. Turned out to be a pretty ...            NaN   \n",
       "1   Moroni to Anjouan. It is a very small airline...           E120   \n",
       "2    Anjouan to Dzaoudzi. A very small airline an...  Embraer E120    \n",
       "3    Please do a favor yourself and do not fly wi...            NaN   \n",
       "4   Do not book a flight with this airline! My fr...            NaN   \n",
       "\n",
       "  Type Of Traveller      Seat Type                             Route  \\\n",
       "0      Solo Leisure  Economy Class                  Moroni to Moheli   \n",
       "1      Solo Leisure  Economy Class                 Moroni to Anjouan   \n",
       "2      Solo Leisure  Economy Class               Anjouan to Dzaoudzi   \n",
       "3      Solo Leisure  Economy Class             Frankfurt to Pristina   \n",
       "4    Couple Leisure  Economy Class  Sofia to Amsterdam via Ljubljana   \n",
       "\n",
       "       Date Flown  Seat Comfort  Cabin Staff Service  Food & Beverages  \\\n",
       "0   November 2019           4.0                  5.0               4.0   \n",
       "1       June 2019           2.0                  2.0               1.0   \n",
       "2       June 2019           2.0                  1.0               1.0   \n",
       "3  September 2019           1.0                  1.0               NaN   \n",
       "4  September 2019           1.0                  1.0               1.0   \n",
       "\n",
       "   Ground Service  Inflight Entertainment  Wifi & Connectivity  \\\n",
       "0             4.0                     NaN                  NaN   \n",
       "1             1.0                     NaN                  NaN   \n",
       "2             1.0                     NaN                  NaN   \n",
       "3             1.0                     NaN                  NaN   \n",
       "4             1.0                     1.0                  1.0   \n",
       "\n",
       "   Value For Money Recommended  \\\n",
       "0              3.0         yes   \n",
       "1              2.0          no   \n",
       "2              2.0          no   \n",
       "3              1.0          no   \n",
       "4              1.0          no   \n",
       "\n",
       "                                       combined_text  \n",
       "0  \"pretty decent airline\"   Moroni to Moheli. Tu...  \n",
       "1  \"Not a good airline\"  Moroni to Anjouan. It is...  \n",
       "2  \"flight was fortunately short\"   Anjouan to Dz...  \n",
       "3  \"I will never fly again with Adria\"   Please d...  \n",
       "4  \"it ruined our last days of holidays\"  Do not ...  "
      ]
     },
     "execution_count": 4,
     "metadata": {},
     "output_type": "execute_result"
    }
   ],
   "source": [
    "df['combined_text'] = df['Review_Title']+' '+df['Review']\n",
    "df.head()"
   ]
  },
  {
   "cell_type": "code",
   "execution_count": 5,
   "id": "4058e562-ebe1-4438-bb92-a8ece9c8ea7e",
   "metadata": {
    "tags": []
   },
   "outputs": [],
   "source": [
    "from nltk.corpus import stopwords\n",
    "import string\n",
    "from nltk import word_tokenize\n",
    "\n",
    "def clean_tokenize(review_string):\n",
    "    # Get all the stop words in the English language\n",
    "    stopwords_list = stopwords.words('english')\n",
    "    \n",
    "    # Now we have a list that includes all english stopwords, as well as all punctuation\n",
    "    stopwords_list += list(string.punctuation)\n",
    "    \n",
    "    tokens = word_tokenize(review_string)\n",
    "    \n",
    "    stopped_tokens = [w.lower() for w in tokens if w not in stopwords_list]\n",
    "    return stopped_tokens"
   ]
  },
  {
   "cell_type": "code",
   "execution_count": 7,
   "id": "53fe3a3e-4901-4022-b31c-9919c7854802",
   "metadata": {},
   "outputs": [
    {
     "data": {
      "text/plain": [
       "['``',\n",
       " 'pretty',\n",
       " 'decent',\n",
       " 'airline',\n",
       " \"''\",\n",
       " 'moroni',\n",
       " 'moheli',\n",
       " 'turned',\n",
       " 'pretty',\n",
       " 'decent',\n",
       " 'airline',\n",
       " 'online',\n",
       " 'booking',\n",
       " 'worked',\n",
       " 'well',\n",
       " 'checkin',\n",
       " 'boarding',\n",
       " 'fine',\n",
       " 'plane',\n",
       " 'looked',\n",
       " 'well',\n",
       " 'maintained',\n",
       " 'its',\n",
       " 'short',\n",
       " 'flight',\n",
       " '20',\n",
       " 'minutes',\n",
       " \"n't\",\n",
       " 'expect',\n",
       " 'much',\n",
       " 'still',\n",
       " 'managed',\n",
       " 'hand',\n",
       " 'bottle',\n",
       " 'water',\n",
       " 'biscuits',\n",
       " 'though',\n",
       " 'nice',\n",
       " 'both',\n",
       " 'flights',\n",
       " 'time']"
      ]
     },
     "execution_count": 7,
     "metadata": {},
     "output_type": "execute_result"
    }
   ],
   "source": [
    "test = df['combined_text'][0]\n",
    "\n",
    "stopped_tokens = clean_tokenize(test)\n",
    "\n",
    "stopped_tokens"
   ]
  },
  {
   "cell_type": "code",
   "execution_count": 12,
   "id": "94eb8370-2f4e-452e-b6e8-cbc944e4e642",
   "metadata": {},
   "outputs": [
    {
     "data": {
      "text/plain": [
       "['``',\n",
       " 'pretty',\n",
       " 'decent',\n",
       " 'airline',\n",
       " \"''\",\n",
       " 'moroni',\n",
       " 'moheli',\n",
       " 'turned',\n",
       " 'pretty',\n",
       " 'decent',\n",
       " 'airline',\n",
       " 'online',\n",
       " 'booking',\n",
       " 'worked',\n",
       " 'well',\n",
       " 'checkin',\n",
       " 'boarding',\n",
       " 'fine',\n",
       " 'plane',\n",
       " 'looked',\n",
       " 'well',\n",
       " 'maintained',\n",
       " 'it',\n",
       " 'short',\n",
       " 'flight',\n",
       " '20',\n",
       " 'minute',\n",
       " \"n't\",\n",
       " 'expect',\n",
       " 'much',\n",
       " 'still',\n",
       " 'managed',\n",
       " 'hand',\n",
       " 'bottle',\n",
       " 'water',\n",
       " 'biscuit',\n",
       " 'though',\n",
       " 'nice',\n",
       " 'both',\n",
       " 'flight',\n",
       " 'time']"
      ]
     },
     "execution_count": 12,
     "metadata": {},
     "output_type": "execute_result"
    }
   ],
   "source": [
    "from nltk.stem.wordnet import WordNetLemmatizer\n",
    "\n",
    "lemmatizer = WordNetLemmatizer()\n",
    "new_stopped_tokens = []\n",
    "for i in stopped_tokens:\n",
    "    lemma = lemmatizer.lemmatize(i)\n",
    "    new_stopped_tokens.append(lemma)\n",
    "new_stopped_tokens"
   ]
  },
  {
   "cell_type": "code",
   "execution_count": 14,
   "id": "47c9ca31-b8c9-45be-b3a4-9f61d7e4b977",
   "metadata": {},
   "outputs": [
    {
     "name": "stdout",
     "output_type": "stream",
     "text": [
      "it  |  its\n",
      "minute  |  minutes\n",
      "biscuit  |  biscuits\n",
      "flight  |  flights\n"
     ]
    }
   ],
   "source": [
    "for i in range(len(new_stopped_tokens)):\n",
    "    if new_stopped_tokens[i] == stopped_tokens[i]:\n",
    "        pass\n",
    "    else:\n",
    "        print(new_stopped_tokens[i],' | ',stopped_tokens[i])"
   ]
  },
  {
   "cell_type": "code",
   "execution_count": 53,
   "id": "84e09d2a-7d60-407c-98aa-1794de27623f",
   "metadata": {
    "tags": []
   },
   "outputs": [
    {
     "name": "stdout",
     "output_type": "stream",
     "text": [
      "2002      14\n",
      "2003      45\n",
      "2004     101\n",
      "2005     136\n",
      "2006     141\n",
      "2007     168\n",
      "2008     281\n",
      "2009     287\n",
      "2010     332\n",
      "2011     461\n",
      "2012     403\n",
      "2013     494\n",
      "2014     593\n",
      "2015    1070\n",
      "2016    1210\n",
      "2017    1148\n",
      "2018    1675\n",
      "2019    2869\n",
      "2020    1483\n",
      "2021    1016\n",
      "2022    3826\n",
      "2023    5418\n",
      "Name: Review Date, dtype: int64\n"
     ]
    }
   ],
   "source": [
    "df['Review Date'] = pd.to_datetime(df['Review Date'])\n",
    "print(df['Review Date'].dt.year.value_counts().sort_index())"
   ]
  },
  {
   "cell_type": "code",
   "execution_count": 61,
   "id": "53e99eb1-7c0a-4ac3-8c4e-2401aae07314",
   "metadata": {
    "tags": []
   },
   "outputs": [
    {
     "name": "stdout",
     "output_type": "stream",
     "text": [
      "<class 'pandas.core.frame.DataFrame'>\n",
      "RangeIndex: 23171 entries, 0 to 23170\n",
      "Data columns (total 19 columns):\n",
      " #   Column                  Non-Null Count  Dtype  \n",
      "---  ------                  --------------  -----  \n",
      " 0   Airline Name            23171 non-null  object \n",
      " 1   Overall_Rating          23171 non-null  object \n",
      " 2   Review_Title            23171 non-null  object \n",
      " 3   Review Date             23171 non-null  object \n",
      " 4   Verified                23171 non-null  bool   \n",
      " 5   Review                  23171 non-null  object \n",
      " 6   Aircraft                7129 non-null   object \n",
      " 7   Type Of Traveller       19433 non-null  object \n",
      " 8   Seat Type               22075 non-null  object \n",
      " 9   Route                   19343 non-null  object \n",
      " 10  Date Flown              19417 non-null  object \n",
      " 11  Seat Comfort            19016 non-null  float64\n",
      " 12  Cabin Staff Service     18911 non-null  float64\n",
      " 13  Food & Beverages        14500 non-null  float64\n",
      " 14  Ground Service          18378 non-null  float64\n",
      " 15  Inflight Entertainment  10829 non-null  float64\n",
      " 16  Wifi & Connectivity     5920 non-null   float64\n",
      " 17  Value For Money         22105 non-null  float64\n",
      " 18  Recommended             23171 non-null  object \n",
      "dtypes: bool(1), float64(7), object(11)\n",
      "memory usage: 3.2+ MB\n"
     ]
    }
   ],
   "source": [
    "df.info()"
   ]
  },
  {
   "cell_type": "code",
   "execution_count": 62,
   "id": "0e24ac56-0d2c-420b-bdd7-e0959e273b84",
   "metadata": {
    "tags": []
   },
   "outputs": [
    {
     "name": "stdout",
     "output_type": "stream",
     "text": [
      "Overall_Rating            1.000000\n",
      "Value For Money           0.602312\n",
      "Ground Service            0.557680\n",
      "Cabin Staff Service       0.505576\n",
      "Seat Comfort              0.471204\n",
      "Food & Beverages          0.422179\n",
      "Wifi & Connectivity       0.353171\n",
      "Inflight Entertainment    0.298061\n",
      "Verified                 -0.133316\n",
      "Name: Overall_Rating, dtype: float64\n"
     ]
    },
    {
     "name": "stderr",
     "output_type": "stream",
     "text": [
      "/var/folders/tr/nsz262r16ds7x1bjc8q7xq180000gn/T/ipykernel_22449/3889351187.py:4: FutureWarning: The default value of numeric_only in DataFrame.corr is deprecated. In a future version, it will default to False. Select only valid columns or specify the value of numeric_only to silence this warning.\n",
      "  correlation_matrix = df.corr()\n"
     ]
    }
   ],
   "source": [
    "\n",
    "df['Overall_Rating'] = pd.to_numeric(df['Overall_Rating'], errors='coerce')\n",
    "\n",
    "# Step 2: Compute the correlation matrix\n",
    "correlation_matrix = df.corr()\n",
    "\n",
    "# To focus on how 'Overall_Rating' correlates with other numerical variables,\n",
    "# you can specifically look at its correlations\n",
    "overall_rating_correlation = correlation_matrix['Overall_Rating'].sort_values(ascending=False)\n",
    "\n",
    "print(overall_rating_correlation)\n"
   ]
  },
  {
   "cell_type": "code",
   "execution_count": 63,
   "id": "6e14647f-a18b-41ec-9c51-9b26231ecc15",
   "metadata": {
    "tags": []
   },
   "outputs": [
    {
     "name": "stdout",
     "output_type": "stream",
     "text": [
      "                Overall_Rating  Review_Length\n",
      "Overall_Rating        1.000000      -0.118174\n",
      "Review_Length        -0.118174       1.000000\n"
     ]
    }
   ],
   "source": [
    "df['Review_Length'] = df['Review'].apply(len)\n",
    "print(df[['Overall_Rating', 'Review_Length']].corr())"
   ]
  },
  {
   "cell_type": "code",
   "execution_count": 19,
   "id": "c3686590-8ddf-484a-8651-c5d60d770333",
   "metadata": {
    "tags": []
   },
   "outputs": [
    {
     "data": {
      "text/plain": [
       "6425      October 2018\n",
       "6423      October 2018\n",
       "6412      October 2021\n",
       "6454    September 2015\n",
       "6439    September 2017\n",
       "6421    September 2019\n",
       "6414    September 2020\n",
       "6417    September 2020\n",
       "6459               NaN\n",
       "6460               NaN\n",
       "6461               NaN\n",
       "6462               NaN\n",
       "6463               NaN\n",
       "6464               NaN\n",
       "6465               NaN\n",
       "6466               NaN\n",
       "6467               NaN\n",
       "6468               NaN\n",
       "6469               NaN\n",
       "6470               NaN\n",
       "6471               NaN\n",
       "6472               NaN\n",
       "6473               NaN\n",
       "6474               NaN\n",
       "6475               NaN\n",
       "6476               NaN\n",
       "6477               NaN\n",
       "6478               NaN\n",
       "6479               NaN\n",
       "6480               NaN\n",
       "6481               NaN\n",
       "6482               NaN\n",
       "6483               NaN\n",
       "6484               NaN\n",
       "6485               NaN\n",
       "6486               NaN\n",
       "6487               NaN\n",
       "6488               NaN\n",
       "6489               NaN\n",
       "6490               NaN\n",
       "6491               NaN\n",
       "6492               NaN\n",
       "6493               NaN\n",
       "6494               NaN\n",
       "6495               NaN\n",
       "6496               NaN\n",
       "6497               NaN\n",
       "6498               NaN\n",
       "6499               NaN\n",
       "6500               NaN\n",
       "Name: Date Flown, dtype: object"
      ]
     },
     "execution_count": 19,
     "metadata": {},
     "output_type": "execute_result"
    }
   ],
   "source": [
    "df.loc[df['Airline Name'] == 'Caribbean Airlines']['Date Flown'].sort_values()[50:]"
   ]
  },
  {
   "cell_type": "code",
   "execution_count": 12,
   "id": "37846e34-e5e7-442c-820d-c92102cdd279",
   "metadata": {
    "tags": []
   },
   "outputs": [
    {
     "name": "stdout",
     "output_type": "stream",
     "text": [
      "Airline Name\n"
     ]
    },
    {
     "data": {
      "text/plain": [
       "Caribbean Airlines           100\n",
       "GoAir                        100\n",
       "Germanwings                  100\n",
       "Philippine Airlines          100\n",
       "Bangkok Airways              100\n",
       "                            ... \n",
       "JC International Airlines      1\n",
       "MEGA Maldives Airlines         1\n",
       "MAYAir                         1\n",
       "Tibet Airlines                 1\n",
       "Dimonim Air                    1\n",
       "Name: Airline Name, Length: 497, dtype: int64"
      ]
     },
     "metadata": {},
     "output_type": "display_data"
    },
    {
     "name": "stdout",
     "output_type": "stream",
     "text": [
      "\n",
      "---------------------------------------------------------\n",
      "\n",
      "Overall_Rating\n"
     ]
    },
    {
     "data": {
      "text/plain": [
       "1    11595\n",
       "2     2296\n",
       "9     1768\n",
       "8     1757\n",
       "3     1356\n",
       "7     1193\n",
       "4      859\n",
       "n      842\n",
       "5      830\n",
       "6      675\n",
       "Name: Overall_Rating, dtype: int64"
      ]
     },
     "metadata": {},
     "output_type": "display_data"
    },
    {
     "name": "stdout",
     "output_type": "stream",
     "text": [
      "\n",
      "---------------------------------------------------------\n",
      "\n",
      "Review_Title\n"
     ]
    },
    {
     "data": {
      "text/plain": [
       "Onur Air customer review                  84\n",
       "US Airways customer review                75\n",
       "Germanwings customer review               74\n",
       "Meridiana customer review                 71\n",
       "CityJet customer review                   68\n",
       "                                          ..\n",
       "\"I will not fly Delta again\"               1\n",
       "\"could not have been kinder\"               1\n",
       "\"Terrible experience with Delta\"           1\n",
       "\"Got delayed more than 4 hours\"            1\n",
       "\"lost all of our money with no refund\"     1\n",
       "Name: Review_Title, Length: 17219, dtype: int64"
      ]
     },
     "metadata": {},
     "output_type": "display_data"
    },
    {
     "name": "stdout",
     "output_type": "stream",
     "text": [
      "\n",
      "---------------------------------------------------------\n",
      "\n",
      "Review Date\n"
     ]
    },
    {
     "data": {
      "text/plain": [
       "16th July 2023        67\n",
       "21st July 2023        55\n",
       "25th June 2023        55\n",
       "26th July 2023        54\n",
       "3rd July 2023         53\n",
       "                      ..\n",
       "29th November 2008     1\n",
       "14th November 2008     1\n",
       "4th January 2014       1\n",
       "30th March 2008        1\n",
       "6th May 2003           1\n",
       "Name: Review Date, Length: 4557, dtype: int64"
      ]
     },
     "metadata": {},
     "output_type": "display_data"
    },
    {
     "name": "stdout",
     "output_type": "stream",
     "text": [
      "\n",
      "---------------------------------------------------------\n",
      "\n",
      "Verified\n"
     ]
    },
    {
     "data": {
      "text/plain": [
       "True     12322\n",
       "False    10849\n",
       "Name: Verified, dtype: int64"
      ]
     },
     "metadata": {},
     "output_type": "display_data"
    },
    {
     "name": "stdout",
     "output_type": "stream",
     "text": [
      "\n",
      "---------------------------------------------------------\n",
      "\n",
      "Review\n"
     ]
    },
    {
     "data": {
      "text/plain": [
       "I spend at least the half of my time during a 5 day week at different airports. As Luxair has the monopole in Luxembourg alternative flights to Germany (Frankfurt Berlin or Munich) do not exist and so the choice is not that enormous. Nevertheless I must say that the business class is more than just correct for such a little airline (french champagne little delicious sandwiches with salad 4 different wines as choice a sweet cake with cream and before the landing some excellent chocolate from Luxembourg). On the other hand I find the Business Lounge operated by Luxair just great. Compared to the ones in Paris Munich Frankfurt or wherever it has a very special flair a familiar atmosphere. (especially the new lounge in the added terminal is modern but I got not the impression of being exposed. On the contrary the Luxair`s Fokker 50 have a minimum standard of quality. It's not that they are very old but they are extremely noisy small and the interior is in a bad condition especially the seats. Therefore I always try to avoid them. The new ERJ-145 are much more comfortable. They have seats covered in leather offer good space between the seats and the same speed as a Boeing 737. Sometimes (in my spare time) I fly with Luxair (charter flights) to various destinations like Las Palmas Sharm-El-Sheik Madeira etc and it's there where I notice a huge lost of quality on flights - the cold meals are often disgusting and not so easy to define the sandwiches frozen and they stopped offering alcohol such as wine or beer. The cabin crew looks like very tired and is not very friendly and there are still little changes. Result - a very special character of a national inspired airline gets lost and I feel that this is not the end of significant changes especially concerning the service (business and economy class!?).    2\n",
       "I am often flying with Airzena from Vienna and I find the flights quite comfortable and the crew friendly. The food is below average but eatable. But considering 3 hours of flight and price of a ticket (USD 500 to 700 for return ticket) it would have been nice to have a better service more internaitonal choice of newspapers larger variety of drinks offered to passengers (wine is no longer offered to economy class passengers) and better selection of movies during the flight. Looking back at the last five years I was using this airline to fly to Georgia their service has become visibly worse.                                                                                                                                                                                                                                                                                                                                                                                                                                                                                                                                                                                                                                                                                                                                                                                                                                                                                                                                                                                                                                                                                                                                                                                                                                                                                 2\n",
       "FRA-LUX in Y class. Short trip connecting in FRA on our way back from OPO. Nice little new plane. Great surprise was a snack-pack which we were given before take-off already which contained an orange juice water and two ciabattas which were delicious. Flight uneventful and luggage took 10 minutes to arrive which is long for LUX's standard's but I was very pleasantly surprised to see that LG has apparently decided to go back to the very good service airline they used to be in the 90's!                                                                                                                                                                                                                                                                                                                                                                                                                                                                                                                                                                                                                                                                                                                                                                                                                                                                                                                                                                                                                                                                                                                                                                                                                                                                                                                                                                                             2\n",
       "LUX-CDG on a ERJ and back on new Q400. As always both flights arrived perfectly on time. Check-in in a rush but unfortunately the ground staff wasn't the friendliest. Seats very comfortable with plenty of legroom on both types but the best of all were the tasty snacks they served during the short flights. A very pleasant experience!                                                                                                                                                                                                                                                                                                                                                                                                                                                                                                                                                                                                                                                                                                                                                                                                                                                                                                                                                                                                                                                                                                                                                                                                                                                                                                                                                                                                                                                                                                                                                        2\n",
       "Mixed feelings about Luxair. Onboard service is certainly quite good. However Luxair is totally overpriced on certain routes due to a regional monopoly on Findel. On top of that the company seems to suffer from a public service mentality. On two occasions I flew from Eastern European destinations to Munich with Lufthansa and then from Munich to Saarbrücken with Luxair and on both occasions my reservations to Saarbrücken were cancelled because of \"no-shows\" on the previous Saarbrücken-Munich-Moscow route. It took me 45 minutes to get hold of somebody at Luxair to correct the situation. On Sundays the Call Center is closed and nobody picks-up the phone at any of the numbers indicated on Luxairs website. I had to call somebody at the Lost Luggages of Luxair who told me that the ticketing office of Luxair Airport doesn't pick up the phone anymore when somebody is calling from outside. What a mess!                                                                                                                                                                                                                                                                                                                                                                                                                                                                                                                                                                                                                                                                                                                                                                                                                                                                                                                                                            2\n",
       "                                                                                                                                                                                                                                                                                                                                                                                                                                                                                                                                                                                                                                                                                                                                                                                                                                                                                                                                                                                                                                                                                                                                                                                                                                                                                                                                                                                                                                                                                                                                                                                                                                                                                                                                                                                                                                                                                                     ..\n",
       "Not happy. Have just paid 75 € for excess baggage. I believe the costs are too high in comparison to BA and many other credible airline companies. Croatia Airlines failed to offer a possibility of paying excess baggage online and reduce the costs, did not offer a possibility of upgrading into a higher flying class to avoid the charges. Additionally, they do not offer online check in and they could only issue me two boarding passes while I have to get the last one in Vienna to London, even though they're aware that there is a very limited amount of time between the two fights. I'll do my best to avoid Croatia Airlines in future.                                                                                                                                                                                                                                                                                                                                                                                                                                                                                                                                                                                                                                                                                                                                                                                                                                                                                                                                                                                                                                                                                                                                                                                                                                           1\n",
       "The Croatia Airlines staff during check in was rude, unhelpful, and refused, without explanation to print out the boarding passes for each part of the flight. Forcing us to run around  trying to get boarding passes before boarding actually starts. Overall, experience with staff at the check in left me under impression that I'm unavoidable annoyance to the lady who was checking me in. Very unpleasant experience. Flight itself was average, typical boring flight.                                                                                                                                                                                                                                                                                                                                                                                                                                                                                                                                                                                                                                                                                                                                                                                                                                                                                                                                                                                                                                                                                                                                                                                                                                                                                                                                                                                                                      1\n",
       "My flight was cancelled so I tried to book a replacement flight with Croatian airlines. When I asked if there were any flights to Brussels leaving the same day I was told there were, and when I asked if I could book a ticket I was told the flight had left. When I asked if there was another I was told there was but it was full. When I asked if there was any flight I could take the same day I was told there was one via Germany, but I would have to pay €750 (with taxes) for a business class ticket. I had to be at work the next day so I took it. The ticket was economy class. Not impressed.                                                                                                                                                                                                                                                                                                                                                                                                                                                                                                                                                                                                                                                                                                                                                                                                                                                                                                                                                                                                                                                                                                                                                                                                                                                                                      1\n",
       "Rome to Split return with Croatia Airlines. Both flights in October 2015. Flight out of Rome was delayed for about 45-mins. As I don't speak Italian I had no idea why. On both flights the cabin crew worked hard to serve pretzels and juice. Really not needed for a 55-min flight! On the return we must have been ahead of time because we seemed to fly across Italy diagonally - beautiful views. Then we appeared to take a fairly low level tour up the west coast with houses and beaches right below us, before turning into Rome. A very pleasant flight.                                                                                                                                                                                                                                                                                                                                                                                                                                                                                                                                                                                                                                                                                                                                                                                                                                                                                                                                                                                                                                                                                                                                                                                                                                                                                                                                 1\n",
       "  They lied about connection in Narita and we lost all of our money with no refund. They have no agreements with any connecting airlines to transfer you once in Narita, hence they denied boarding and did not offer a refund. Nor did they advise of such at purchase. Lost $1000 with this airline.                                                                                                                                                                                                                                                                                                                                                                                                                                                                                                                                                                                                                                                                                                                                                                                                                                                                                                                                                                                                                                                                                                                                                                                                                                                                                                                                                                                                                                                                                                                                                                                                1\n",
       "Name: Review, Length: 23046, dtype: int64"
      ]
     },
     "metadata": {},
     "output_type": "display_data"
    },
    {
     "name": "stdout",
     "output_type": "stream",
     "text": [
      "\n",
      "---------------------------------------------------------\n",
      "\n",
      "Aircraft\n"
     ]
    },
    {
     "data": {
      "text/plain": [
       "A320                         1041\n",
       "Boeing 737-800                553\n",
       "Boeing 737                    404\n",
       "A330                          349\n",
       "Boeing 787                    349\n",
       "                             ... \n",
       "Airbus 330-300                  1\n",
       "A350-900 / Boeing 777-300       1\n",
       "A350-900 / Boeing 747-400       1\n",
       "Boeing 777/350                  1\n",
       "Boeing787                       1\n",
       "Name: Aircraft, Length: 1048, dtype: int64"
      ]
     },
     "metadata": {},
     "output_type": "display_data"
    },
    {
     "name": "stdout",
     "output_type": "stream",
     "text": [
      "\n",
      "---------------------------------------------------------\n",
      "\n",
      "Type Of Traveller\n"
     ]
    },
    {
     "data": {
      "text/plain": [
       "Solo Leisure      7120\n",
       "Couple Leisure    5265\n",
       "Family Leisure    4352\n",
       "Business          2696\n",
       "Name: Type Of Traveller, dtype: int64"
      ]
     },
     "metadata": {},
     "output_type": "display_data"
    },
    {
     "name": "stdout",
     "output_type": "stream",
     "text": [
      "\n",
      "---------------------------------------------------------\n",
      "\n",
      "Seat Type\n"
     ]
    },
    {
     "data": {
      "text/plain": [
       "Economy Class      19145\n",
       "Business Class      2098\n",
       "Premium Economy      646\n",
       "First Class          186\n",
       "Name: Seat Type, dtype: int64"
      ]
     },
     "metadata": {},
     "output_type": "display_data"
    },
    {
     "name": "stdout",
     "output_type": "stream",
     "text": [
      "\n",
      "---------------------------------------------------------\n",
      "\n",
      "Route\n"
     ]
    },
    {
     "data": {
      "text/plain": [
       "Melbourne to Sydney                      43\n",
       "Sydney to Melbourne                      35\n",
       "Cape Town to Johannesburg                34\n",
       "Cusco to Lima                            30\n",
       "Bangkok to Phuket                        28\n",
       "                                         ..\n",
       "HKG to BKI                                1\n",
       "HKG to WUH                                1\n",
       "HKG to HKT                                1\n",
       "CRK to HKG                                1\n",
       "Los Angeles to Seoul via Tokyo Narita     1\n",
       "Name: Route, Length: 13607, dtype: int64"
      ]
     },
     "metadata": {},
     "output_type": "display_data"
    },
    {
     "name": "stdout",
     "output_type": "stream",
     "text": [
      "\n",
      "---------------------------------------------------------\n",
      "\n",
      "Date Flown\n"
     ]
    },
    {
     "data": {
      "text/plain": [
       "June 2023        1057\n",
       "July 2023         814\n",
       "May 2023          788\n",
       "April 2023        699\n",
       "March 2023        589\n",
       "                 ... \n",
       "October 2014        4\n",
       "December 2014       3\n",
       "April 2012          1\n",
       "November 2014       1\n",
       "August 2023         1\n",
       "Name: Date Flown, Length: 109, dtype: int64"
      ]
     },
     "metadata": {},
     "output_type": "display_data"
    },
    {
     "name": "stdout",
     "output_type": "stream",
     "text": [
      "\n",
      "---------------------------------------------------------\n",
      "\n",
      "Seat Comfort\n"
     ]
    },
    {
     "data": {
      "text/plain": [
       "1.0    6337\n",
       "3.0    3618\n",
       "4.0    3378\n",
       "2.0    2869\n",
       "5.0    2670\n",
       "0.0     144\n",
       "Name: Seat Comfort, dtype: int64"
      ]
     },
     "metadata": {},
     "output_type": "display_data"
    },
    {
     "name": "stdout",
     "output_type": "stream",
     "text": [
      "\n",
      "---------------------------------------------------------\n",
      "\n",
      "Cabin Staff Service\n"
     ]
    },
    {
     "data": {
      "text/plain": [
       "1.0    5971\n",
       "5.0    4662\n",
       "4.0    2940\n",
       "3.0    2848\n",
       "2.0    2360\n",
       "0.0     130\n",
       "Name: Cabin Staff Service, dtype: int64"
      ]
     },
     "metadata": {},
     "output_type": "display_data"
    },
    {
     "name": "stdout",
     "output_type": "stream",
     "text": [
      "\n",
      "---------------------------------------------------------\n",
      "\n",
      "Food & Beverages\n"
     ]
    },
    {
     "data": {
      "text/plain": [
       "1.0    5283\n",
       "3.0    2424\n",
       "4.0    2332\n",
       "5.0    2242\n",
       "2.0    1967\n",
       "0.0     252\n",
       "Name: Food & Beverages, dtype: int64"
      ]
     },
     "metadata": {},
     "output_type": "display_data"
    },
    {
     "name": "stdout",
     "output_type": "stream",
     "text": [
      "\n",
      "---------------------------------------------------------\n",
      "\n",
      "Ground Service\n"
     ]
    },
    {
     "data": {
      "text/plain": [
       "1.0    9473\n",
       "5.0    3159\n",
       "4.0    2347\n",
       "3.0    1803\n",
       "2.0    1596\n",
       "Name: Ground Service, dtype: int64"
      ]
     },
     "metadata": {},
     "output_type": "display_data"
    },
    {
     "name": "stdout",
     "output_type": "stream",
     "text": [
      "\n",
      "---------------------------------------------------------\n",
      "\n",
      "Inflight Entertainment\n"
     ]
    },
    {
     "data": {
      "text/plain": [
       "1.0    4845\n",
       "3.0    1700\n",
       "4.0    1329\n",
       "2.0    1278\n",
       "5.0    1156\n",
       "0.0     521\n",
       "Name: Inflight Entertainment, dtype: int64"
      ]
     },
     "metadata": {},
     "output_type": "display_data"
    },
    {
     "name": "stdout",
     "output_type": "stream",
     "text": [
      "\n",
      "---------------------------------------------------------\n",
      "\n",
      "Wifi & Connectivity\n"
     ]
    },
    {
     "data": {
      "text/plain": [
       "1.0    4061\n",
       "5.0     492\n",
       "3.0     487\n",
       "2.0     479\n",
       "4.0     400\n",
       "0.0       1\n",
       "Name: Wifi & Connectivity, dtype: int64"
      ]
     },
     "metadata": {},
     "output_type": "display_data"
    },
    {
     "name": "stdout",
     "output_type": "stream",
     "text": [
      "\n",
      "---------------------------------------------------------\n",
      "\n",
      "Value For Money\n"
     ]
    },
    {
     "data": {
      "text/plain": [
       "1.0    10136\n",
       "5.0     3808\n",
       "4.0     3379\n",
       "2.0     2444\n",
       "3.0     2201\n",
       "0.0      137\n",
       "Name: Value For Money, dtype: int64"
      ]
     },
     "metadata": {},
     "output_type": "display_data"
    },
    {
     "name": "stdout",
     "output_type": "stream",
     "text": [
      "\n",
      "---------------------------------------------------------\n",
      "\n",
      "Recommended\n"
     ]
    },
    {
     "data": {
      "text/plain": [
       "no     15364\n",
       "yes     7807\n",
       "Name: Recommended, dtype: int64"
      ]
     },
     "metadata": {},
     "output_type": "display_data"
    },
    {
     "name": "stdout",
     "output_type": "stream",
     "text": [
      "\n",
      "---------------------------------------------------------\n",
      "\n"
     ]
    }
   ],
   "source": [
    "for col in columns:\n",
    "    print(col)\n",
    "    display(df[col].value_counts())\n",
    "    print('')\n",
    "    print('---------------------------------------------------------')\n",
    "    print('')"
   ]
  },
  {
   "cell_type": "code",
   "execution_count": 25,
   "id": "bf41c53e-e42e-473b-a6e2-0f8db505534e",
   "metadata": {
    "collapsed": true,
    "jupyter": {
     "outputs_hidden": true
    },
    "tags": []
   },
   "outputs": [
    {
     "ename": "ValueError",
     "evalue": "time data '24 Augu 2019' does not match format '%d %B %Y' (match)",
     "output_type": "error",
     "traceback": [
      "\u001b[0;31m---------------------------------------------------------------------------\u001b[0m",
      "\u001b[0;31mValueError\u001b[0m                                Traceback (most recent call last)",
      "Cell \u001b[0;32mIn[25], line 12\u001b[0m\n\u001b[1;32m      9\u001b[0m df[\u001b[38;5;124m'\u001b[39m\u001b[38;5;124mReview Date\u001b[39m\u001b[38;5;124m'\u001b[39m] \u001b[38;5;241m=\u001b[39m df[\u001b[38;5;124m'\u001b[39m\u001b[38;5;124mReview Date\u001b[39m\u001b[38;5;124m'\u001b[39m]\u001b[38;5;241m.\u001b[39mapply(\u001b[38;5;28;01mlambda\u001b[39;00m x: x\u001b[38;5;241m.\u001b[39mreplace(\u001b[38;5;124m'\u001b[39m\u001b[38;5;124mth\u001b[39m\u001b[38;5;124m'\u001b[39m, \u001b[38;5;124m'\u001b[39m\u001b[38;5;124m'\u001b[39m)\u001b[38;5;241m.\u001b[39mreplace(\u001b[38;5;124m'\u001b[39m\u001b[38;5;124mrd\u001b[39m\u001b[38;5;124m'\u001b[39m, \u001b[38;5;124m'\u001b[39m\u001b[38;5;124m'\u001b[39m)\u001b[38;5;241m.\u001b[39mreplace(\u001b[38;5;124m'\u001b[39m\u001b[38;5;124mnd\u001b[39m\u001b[38;5;124m'\u001b[39m, \u001b[38;5;124m'\u001b[39m\u001b[38;5;124m'\u001b[39m)\u001b[38;5;241m.\u001b[39mreplace(\u001b[38;5;124m'\u001b[39m\u001b[38;5;124mst\u001b[39m\u001b[38;5;124m'\u001b[39m, \u001b[38;5;124m'\u001b[39m\u001b[38;5;124m'\u001b[39m))\n\u001b[1;32m     11\u001b[0m \u001b[38;5;66;03m# Convert the cleaned date strings to datetime\u001b[39;00m\n\u001b[0;32m---> 12\u001b[0m df[\u001b[38;5;124m'\u001b[39m\u001b[38;5;124mReview Date\u001b[39m\u001b[38;5;124m'\u001b[39m] \u001b[38;5;241m=\u001b[39m pd\u001b[38;5;241m.\u001b[39mto_datetime(df[\u001b[38;5;124m'\u001b[39m\u001b[38;5;124mReview Date\u001b[39m\u001b[38;5;124m'\u001b[39m], \u001b[38;5;28mformat\u001b[39m\u001b[38;5;241m=\u001b[39m\u001b[38;5;124m'\u001b[39m\u001b[38;5;132;01m%d\u001b[39;00m\u001b[38;5;124m \u001b[39m\u001b[38;5;124m%\u001b[39m\u001b[38;5;124mB \u001b[39m\u001b[38;5;124m%\u001b[39m\u001b[38;5;124mY\u001b[39m\u001b[38;5;124m'\u001b[39m)\n\u001b[1;32m     14\u001b[0m \u001b[38;5;28mprint\u001b[39m(df)\n",
      "File \u001b[0;32m~/anaconda3/envs/ac-env/lib/python3.11/site-packages/pandas/core/tools/datetimes.py:1068\u001b[0m, in \u001b[0;36mto_datetime\u001b[0;34m(arg, errors, dayfirst, yearfirst, utc, format, exact, unit, infer_datetime_format, origin, cache)\u001b[0m\n\u001b[1;32m   1066\u001b[0m         result \u001b[38;5;241m=\u001b[39m arg\u001b[38;5;241m.\u001b[39mmap(cache_array)\n\u001b[1;32m   1067\u001b[0m     \u001b[38;5;28;01melse\u001b[39;00m:\n\u001b[0;32m-> 1068\u001b[0m         values \u001b[38;5;241m=\u001b[39m convert_listlike(arg\u001b[38;5;241m.\u001b[39m_values, \u001b[38;5;28mformat\u001b[39m)\n\u001b[1;32m   1069\u001b[0m         result \u001b[38;5;241m=\u001b[39m arg\u001b[38;5;241m.\u001b[39m_constructor(values, index\u001b[38;5;241m=\u001b[39marg\u001b[38;5;241m.\u001b[39mindex, name\u001b[38;5;241m=\u001b[39marg\u001b[38;5;241m.\u001b[39mname)\n\u001b[1;32m   1070\u001b[0m \u001b[38;5;28;01melif\u001b[39;00m \u001b[38;5;28misinstance\u001b[39m(arg, (ABCDataFrame, abc\u001b[38;5;241m.\u001b[39mMutableMapping)):\n",
      "File \u001b[0;32m~/anaconda3/envs/ac-env/lib/python3.11/site-packages/pandas/core/tools/datetimes.py:430\u001b[0m, in \u001b[0;36m_convert_listlike_datetimes\u001b[0;34m(arg, format, name, tz, unit, errors, infer_datetime_format, dayfirst, yearfirst, exact)\u001b[0m\n\u001b[1;32m    427\u001b[0m         \u001b[38;5;28mformat\u001b[39m \u001b[38;5;241m=\u001b[39m \u001b[38;5;28;01mNone\u001b[39;00m\n\u001b[1;32m    429\u001b[0m \u001b[38;5;28;01mif\u001b[39;00m \u001b[38;5;28mformat\u001b[39m \u001b[38;5;129;01mis\u001b[39;00m \u001b[38;5;129;01mnot\u001b[39;00m \u001b[38;5;28;01mNone\u001b[39;00m:\n\u001b[0;32m--> 430\u001b[0m     res \u001b[38;5;241m=\u001b[39m _to_datetime_with_format(\n\u001b[1;32m    431\u001b[0m         arg, orig_arg, name, tz, \u001b[38;5;28mformat\u001b[39m, exact, errors, infer_datetime_format\n\u001b[1;32m    432\u001b[0m     )\n\u001b[1;32m    433\u001b[0m     \u001b[38;5;28;01mif\u001b[39;00m res \u001b[38;5;129;01mis\u001b[39;00m \u001b[38;5;129;01mnot\u001b[39;00m \u001b[38;5;28;01mNone\u001b[39;00m:\n\u001b[1;32m    434\u001b[0m         \u001b[38;5;28;01mreturn\u001b[39;00m res\n",
      "File \u001b[0;32m~/anaconda3/envs/ac-env/lib/python3.11/site-packages/pandas/core/tools/datetimes.py:538\u001b[0m, in \u001b[0;36m_to_datetime_with_format\u001b[0;34m(arg, orig_arg, name, tz, fmt, exact, errors, infer_datetime_format)\u001b[0m\n\u001b[1;32m    535\u001b[0m         \u001b[38;5;28;01mreturn\u001b[39;00m _box_as_indexlike(result, utc\u001b[38;5;241m=\u001b[39mutc, name\u001b[38;5;241m=\u001b[39mname)\n\u001b[1;32m    537\u001b[0m \u001b[38;5;66;03m# fallback\u001b[39;00m\n\u001b[0;32m--> 538\u001b[0m res \u001b[38;5;241m=\u001b[39m _array_strptime_with_fallback(\n\u001b[1;32m    539\u001b[0m     arg, name, tz, fmt, exact, errors, infer_datetime_format\n\u001b[1;32m    540\u001b[0m )\n\u001b[1;32m    541\u001b[0m \u001b[38;5;28;01mreturn\u001b[39;00m res\n",
      "File \u001b[0;32m~/anaconda3/envs/ac-env/lib/python3.11/site-packages/pandas/core/tools/datetimes.py:473\u001b[0m, in \u001b[0;36m_array_strptime_with_fallback\u001b[0;34m(arg, name, tz, fmt, exact, errors, infer_datetime_format)\u001b[0m\n\u001b[1;32m    470\u001b[0m utc \u001b[38;5;241m=\u001b[39m tz \u001b[38;5;241m==\u001b[39m \u001b[38;5;124m\"\u001b[39m\u001b[38;5;124mutc\u001b[39m\u001b[38;5;124m\"\u001b[39m\n\u001b[1;32m    472\u001b[0m \u001b[38;5;28;01mtry\u001b[39;00m:\n\u001b[0;32m--> 473\u001b[0m     result, timezones \u001b[38;5;241m=\u001b[39m array_strptime(arg, fmt, exact\u001b[38;5;241m=\u001b[39mexact, errors\u001b[38;5;241m=\u001b[39merrors)\n\u001b[1;32m    474\u001b[0m \u001b[38;5;28;01mexcept\u001b[39;00m OutOfBoundsDatetime:\n\u001b[1;32m    475\u001b[0m     \u001b[38;5;28;01mif\u001b[39;00m errors \u001b[38;5;241m==\u001b[39m \u001b[38;5;124m\"\u001b[39m\u001b[38;5;124mraise\u001b[39m\u001b[38;5;124m\"\u001b[39m:\n",
      "File \u001b[0;32m~/anaconda3/envs/ac-env/lib/python3.11/site-packages/pandas/_libs/tslibs/strptime.pyx:150\u001b[0m, in \u001b[0;36mpandas._libs.tslibs.strptime.array_strptime\u001b[0;34m()\u001b[0m\n",
      "\u001b[0;31mValueError\u001b[0m: time data '24 Augu 2019' does not match format '%d %B %Y' (match)"
     ]
    }
   ],
   "source": [
    "# Sample DataFrame\n",
    "df = df_dates.copy()\n",
    "\n",
    "# Function to remove the day suffixes\n",
    "def remove_day_suffixes(date_str):\n",
    "    return ''.join([c for c in date_str if not c.isdigit()]) + ''.join([c for c in date_str if c.isdigit()])\n",
    "\n",
    "# Apply the function to clean the 'date' column\n",
    "df['Review Date'] = df['Review Date'].apply(lambda x: x.replace('th', '').replace('rd', '').replace('nd', '').replace('st', ''))\n",
    "\n",
    "# # Convert the cleaned date strings to datetime\n",
    "# df['Review Date'] = pd.to_datetime(df['Review Date'], format='%d %B %Y')\n",
    "\n",
    "# print(df)\n"
   ]
  },
  {
   "cell_type": "code",
   "execution_count": 27,
   "id": "4ea98f3b-5d58-4ded-9c69-2feb7c11cc7f",
   "metadata": {
    "tags": []
   },
   "outputs": [
    {
     "name": "stdout",
     "output_type": "stream",
     "text": [
      "             Review Date day      month  year\n",
      "0       11 November 2019  11   November  2019\n",
      "1           25 June 2019  25       June  2019\n",
      "2           25 June 2019  25       June  2019\n",
      "3      28 September 2019  28  September  2019\n",
      "4      24 September 2019  24  September  2019\n",
      "...                  ...  ..        ...   ...\n",
      "23166        5 July 2022   5       July  2022\n",
      "23167        1 June 2022   1       June  2022\n",
      "23168        31 May 2022  31        May  2022\n",
      "23169        23 May 2022  23        May  2022\n",
      "23170        20 May 2022  20        May  2022\n",
      "\n",
      "[23171 rows x 4 columns]\n"
     ]
    }
   ],
   "source": [
    "# Split the 'date' column into 'day', 'month', 'year'\n",
    "df[['day', 'month', 'year']] = df['Review Date'].str.extract(r'(\\d{1,2})\\s+([A-Za-z]+)\\s+(\\d{4})')\n",
    "\n",
    "# Print to check the extraction and typos\n",
    "print(df)\n",
    "\n",
    "\n"
   ]
  },
  {
   "cell_type": "code",
   "execution_count": 30,
   "id": "290251da-86fe-4122-ba1d-a3d543480c32",
   "metadata": {
    "tags": []
   },
   "outputs": [
    {
     "data": {
      "text/plain": [
       "July         2722\n",
       "June         2352\n",
       "May          2078\n",
       "January      2017\n",
       "April        1974\n",
       "March        1930\n",
       "Augu         1730\n",
       "December     1719\n",
       "September    1686\n",
       "October      1676\n",
       "February     1665\n",
       "November     1622\n",
       "Name: month, dtype: int64"
      ]
     },
     "execution_count": 30,
     "metadata": {},
     "output_type": "execute_result"
    }
   ],
   "source": [
    "df['month'].value_counts()"
   ]
  },
  {
   "cell_type": "code",
   "execution_count": 31,
   "id": "daa0e9c5-445c-46b0-9a4e-49ec5c435aaf",
   "metadata": {
    "tags": []
   },
   "outputs": [
    {
     "name": "stdout",
     "output_type": "stream",
     "text": [
      "             Review Date day      month  year corrected_date\n",
      "0       11 November 2019  11   November  2019     2019-11-11\n",
      "1           25 June 2019  25       June  2019     2019-06-25\n",
      "2           25 June 2019  25       June  2019     2019-06-25\n",
      "3      28 September 2019  28  September  2019     2019-09-28\n",
      "4      24 September 2019  24  September  2019     2019-09-24\n",
      "...                  ...  ..        ...   ...            ...\n",
      "23166        5 July 2022   5       July  2022     2022-07-05\n",
      "23167        1 June 2022   1       June  2022     2022-06-01\n",
      "23168        31 May 2022  31        May  2022     2022-05-31\n",
      "23169        23 May 2022  23        May  2022     2022-05-23\n",
      "23170        20 May 2022  20        May  2022     2022-05-20\n",
      "\n",
      "[23171 rows x 5 columns]\n"
     ]
    }
   ],
   "source": [
    "# Example of fixing a typo in the month names\n",
    "# Say 'Jnauary' should be corrected to 'January'\n",
    "df['month'] = df['month'].replace({'Augu': 'August'})\n",
    "# Add more replacements as needed for other typos\n",
    "\n",
    "# Optionally, convert back to a single datetime column (if no typos are detected or after corrections)\n",
    "# You might want to ensure the 'day', 'month', 'year' columns are correctly formatted as strings if not already\n",
    "df['corrected_date'] = pd.to_datetime(df[['day', 'month', 'year']].astype(str).agg('-'.join, axis=1), errors='coerce')\n",
    "\n",
    "# The 'errors='coerce'' parameter will convert any invalid date (due to unresolved typos) to NaT (Not a Time)\n",
    "print(df)"
   ]
  },
  {
   "cell_type": "code",
   "execution_count": 32,
   "id": "d2ef2de8-1498-4605-b576-7b5194c9eaf2",
   "metadata": {
    "tags": []
   },
   "outputs": [
    {
     "data": {
      "text/plain": [
       "13421   2002-01-06\n",
       "13422   2002-01-06\n",
       "18465   2002-02-14\n",
       "13419   2002-03-21\n",
       "13420   2002-03-21\n",
       "           ...    \n",
       "18833   2023-07-27\n",
       "1663    2023-07-27\n",
       "2484    2023-07-27\n",
       "1664    2023-07-27\n",
       "4153    2023-07-27\n",
       "Name: corrected_date, Length: 23171, dtype: datetime64[ns]"
      ]
     },
     "execution_count": 32,
     "metadata": {},
     "output_type": "execute_result"
    }
   ],
   "source": [
    "df['corrected_date'].sort_values()"
   ]
  },
  {
   "cell_type": "code",
   "execution_count": 24,
   "id": "58589ef7-1e77-4835-ba9c-770ce02cd25c",
   "metadata": {
    "tags": []
   },
   "outputs": [
    {
     "data": {
      "text/html": [
       "<div>\n",
       "<style scoped>\n",
       "    .dataframe tbody tr th:only-of-type {\n",
       "        vertical-align: middle;\n",
       "    }\n",
       "\n",
       "    .dataframe tbody tr th {\n",
       "        vertical-align: top;\n",
       "    }\n",
       "\n",
       "    .dataframe thead th {\n",
       "        text-align: right;\n",
       "    }\n",
       "</style>\n",
       "<table border=\"1\" class=\"dataframe\">\n",
       "  <thead>\n",
       "    <tr style=\"text-align: right;\">\n",
       "      <th></th>\n",
       "      <th>Review Date</th>\n",
       "    </tr>\n",
       "  </thead>\n",
       "  <tbody>\n",
       "    <tr>\n",
       "      <th>0</th>\n",
       "      <td>11th November 2019</td>\n",
       "    </tr>\n",
       "    <tr>\n",
       "      <th>1</th>\n",
       "      <td>25th June 2019</td>\n",
       "    </tr>\n",
       "    <tr>\n",
       "      <th>2</th>\n",
       "      <td>25th June 2019</td>\n",
       "    </tr>\n",
       "    <tr>\n",
       "      <th>3</th>\n",
       "      <td>28th September 2019</td>\n",
       "    </tr>\n",
       "    <tr>\n",
       "      <th>4</th>\n",
       "      <td>24th September 2019</td>\n",
       "    </tr>\n",
       "    <tr>\n",
       "      <th>...</th>\n",
       "      <td>...</td>\n",
       "    </tr>\n",
       "    <tr>\n",
       "      <th>23166</th>\n",
       "      <td>5th July 2022</td>\n",
       "    </tr>\n",
       "    <tr>\n",
       "      <th>23167</th>\n",
       "      <td>1st June 2022</td>\n",
       "    </tr>\n",
       "    <tr>\n",
       "      <th>23168</th>\n",
       "      <td>31st May 2022</td>\n",
       "    </tr>\n",
       "    <tr>\n",
       "      <th>23169</th>\n",
       "      <td>23rd May 2022</td>\n",
       "    </tr>\n",
       "    <tr>\n",
       "      <th>23170</th>\n",
       "      <td>20th May 2022</td>\n",
       "    </tr>\n",
       "  </tbody>\n",
       "</table>\n",
       "<p>23171 rows × 1 columns</p>\n",
       "</div>"
      ],
      "text/plain": [
       "               Review Date\n",
       "0       11th November 2019\n",
       "1           25th June 2019\n",
       "2           25th June 2019\n",
       "3      28th September 2019\n",
       "4      24th September 2019\n",
       "...                    ...\n",
       "23166        5th July 2022\n",
       "23167        1st June 2022\n",
       "23168        31st May 2022\n",
       "23169        23rd May 2022\n",
       "23170        20th May 2022\n",
       "\n",
       "[23171 rows x 1 columns]"
      ]
     },
     "execution_count": 24,
     "metadata": {},
     "output_type": "execute_result"
    }
   ],
   "source": [
    "df_dates"
   ]
  },
  {
   "cell_type": "code",
   "execution_count": 35,
   "id": "fd75bdde-0215-4abe-9933-cc97f8b6f240",
   "metadata": {
    "tags": []
   },
   "outputs": [],
   "source": [
    "flown= pd.DataFrame(old_df['Date Flown'])"
   ]
  },
  {
   "cell_type": "code",
   "execution_count": 36,
   "id": "7ac98879-7a53-497e-806f-e46d3e27bafe",
   "metadata": {
    "tags": []
   },
   "outputs": [],
   "source": [
    "old_df['Date Flown'] = pd.to_datetime(old_df['Date Flown'], format='%B %Y')"
   ]
  },
  {
   "cell_type": "code",
   "execution_count": 42,
   "id": "67beb3a7-82d7-49a2-9458-db3f14768435",
   "metadata": {
    "tags": []
   },
   "outputs": [],
   "source": [
    "dates = list(old_df['Date Flown'].value_counts().index)"
   ]
  },
  {
   "cell_type": "code",
   "execution_count": 46,
   "id": "8bddc78a-e539-43ea-9346-62532d39464a",
   "metadata": {
    "tags": []
   },
   "outputs": [
    {
     "data": {
      "text/plain": [
       "Timestamp('2012-04-01 00:00:00')"
      ]
     },
     "execution_count": 46,
     "metadata": {},
     "output_type": "execute_result"
    }
   ],
   "source": [
    "min(dates)"
   ]
  },
  {
   "cell_type": "code",
   "execution_count": 47,
   "id": "8b4dbf41-9910-48e5-9582-5014bb3b163c",
   "metadata": {
    "tags": []
   },
   "outputs": [
    {
     "data": {
      "text/plain": [
       "Timestamp('2023-08-01 00:00:00')"
      ]
     },
     "execution_count": 47,
     "metadata": {},
     "output_type": "execute_result"
    }
   ],
   "source": [
    "max(dates)"
   ]
  },
  {
   "cell_type": "code",
   "execution_count": null,
   "id": "6c7e5d4c-e89f-4901-904f-4bc5d608ca1d",
   "metadata": {},
   "outputs": [],
   "source": []
  }
 ],
 "metadata": {
  "kernelspec": {
   "display_name": "Python 3 (ipykernel)",
   "language": "python",
   "name": "python3"
  },
  "language_info": {
   "codemirror_mode": {
    "name": "ipython",
    "version": 3
   },
   "file_extension": ".py",
   "mimetype": "text/x-python",
   "name": "python",
   "nbconvert_exporter": "python",
   "pygments_lexer": "ipython3",
   "version": "3.11.8"
  }
 },
 "nbformat": 4,
 "nbformat_minor": 5
}
