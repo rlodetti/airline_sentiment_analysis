{
 "cells": [
  {
   "cell_type": "code",
   "execution_count": 49,
   "id": "02f7cc28-6628-4dc2-bab5-e5118e1effe0",
   "metadata": {},
   "outputs": [],
   "source": [
    "import pandas as pd\n",
    "import numpy as np\n",
    "# import tensorflow as tf\n",
    "from sklearn.model_selection import train_test_split\n",
    "# from sklearn.feature_extraction.text import CountVectorizer, TfidfTransformer\n",
    "# from sklearn.feature_selection import SelectKBest\n",
    "# from sklearn.pipeline import make_pipeline\n",
    "from nltk.corpus import stopwords"
   ]
  },
  {
   "cell_type": "markdown",
   "id": "684f04ed-8be3-42cc-a340-db1431a6eb56",
   "metadata": {},
   "source": [
    "## Importing Data"
   ]
  },
  {
   "cell_type": "markdown",
   "id": "595f539b-6351-4514-84f1-51c51c478ea9",
   "metadata": {},
   "source": [
    "- Combine title & review into one column\n",
    "- Binary Encode target labels"
   ]
  },
  {
   "cell_type": "code",
   "execution_count": 29,
   "id": "d9be554d-7eef-48ea-bda5-889a023b8988",
   "metadata": {},
   "outputs": [],
   "source": [
    "df = pd.read_csv('../data/Airline_review.csv')[['Review_Title','Review','Recommended']]\n",
    "reviews = df['Review_Title'] + ' ' + df['Review']\n",
    "labels = df['Recommended'].map({'yes':1,'no':0})"
   ]
  },
  {
   "cell_type": "markdown",
   "id": "8af7c6b1-9d5e-4f27-942a-e09b2cf59e07",
   "metadata": {},
   "source": [
    "## Data Understanding"
   ]
  },
  {
   "cell_type": "markdown",
   "id": "0a307c6a-4be1-4d07-95ff-7809517f3bf6",
   "metadata": {},
   "source": [
    "- Standard cleaning and tokenization for understanding\n",
    "- Number of Reviews\n",
    "- Number and distribution of target\n",
    "- Number of words per review\n",
    "- Frequency distribution of words\n",
    "- Distribution of review length\n",
    "\n",
    "**Next Steps**: \n",
    "- Maybe show difference between yes and no reviews\n",
    "- also show after stopwords have been removed"
   ]
  },
  {
   "cell_type": "code",
   "execution_count": 32,
   "id": "06d87b22-4ff5-4758-b4af-3f9495fe19a2",
   "metadata": {},
   "outputs": [],
   "source": [
    "# Standard cleaning and tokenization for understanding\n",
    "from nltk.corpus import wordnet\n",
    "from nltk.tokenize import RegexpTokenizer\n",
    "from nltk.stem import WordNetLemmatizer\n",
    "from nltk import pos_tag\n",
    "\n",
    "def get_wordnet_pos(treebank_tag):\n",
    "    \"\"\"Convert treebank POS tags to wordnet POS tags.\"\"\"\n",
    "    if treebank_tag.startswith('J'):\n",
    "        return wordnet.ADJ\n",
    "    elif treebank_tag.startswith('V'):\n",
    "        return wordnet.VERB\n",
    "    elif treebank_tag.startswith('N'):\n",
    "        return wordnet.NOUN\n",
    "    elif treebank_tag.startswith('R'):\n",
    "        return wordnet.ADV\n",
    "    else:\n",
    "        return wordnet.NOUN\n",
    "\n",
    "def clean_text(document, stop_words = None):\n",
    "    \"\"\"\n",
    "    Clean and preprocess the text document.\n",
    "    \n",
    "    Parameters:\n",
    "        document (str): The text document to clean.\n",
    "        stop_words (list): A list of stop words to exclude.\n",
    "        \n",
    "    Returns:\n",
    "        str: The cleaned and lemmatized text.\n",
    "    \"\"\"\n",
    "    # Initialize a tokenizer with a regex for words and contractions\n",
    "    tokenizer = RegexpTokenizer(r\"([a-zA-Z]+(?:’[a-z]+)?)\")\n",
    "    \n",
    "    # Tokenize the document\n",
    "    tokens = tokenizer.tokenize(document)\n",
    "    \n",
    "    # Convert tokens to lowercase if not a stop word\n",
    "    if stop_words == None:\n",
    "        tokens = [word.lower() for word in tokens]\n",
    "    else:\n",
    "        tokens = [word.lower() for word in tokens if word.lower() not in stop_words]\n",
    "    \n",
    "    # Tag tokens with part-of-speech tags\n",
    "    pos_tags = pos_tag(tokens)\n",
    "    \n",
    "    # Convert treebank POS tags to wordnet POS tags\n",
    "    wordnet_tags = [(word, get_wordnet_pos(tag)) for word, tag in pos_tags]\n",
    "    \n",
    "    # Initialize the lemmatizer\n",
    "    lemmatizer = WordNetLemmatizer()\n",
    "    \n",
    "    # Lemmatize words based on their POS tags\n",
    "    lemmatized_tokens = [lemmatizer.lemmatize(word, tag) for word, tag in wordnet_tags]\n",
    "    \n",
    "    return lemmatized_tokens\n",
    "reviews_tokened = [clean_text(review) for review in reviews]"
   ]
  },
  {
   "cell_type": "code",
   "execution_count": 33,
   "id": "61071a92-d43b-4769-80d0-742dbbce91be",
   "metadata": {
    "collapsed": true,
    "jupyter": {
     "outputs_hidden": true,
     "source_hidden": true
    }
   },
   "outputs": [
    {
     "data": {
      "text/plain": [
       "23171"
      ]
     },
     "execution_count": 33,
     "metadata": {},
     "output_type": "execute_result"
    }
   ],
   "source": [
    "# Number of Reviews\n",
    "len(df)"
   ]
  },
  {
   "cell_type": "code",
   "execution_count": 36,
   "id": "369a145f-8f62-4aed-b5b4-1cc7ec726441",
   "metadata": {},
   "outputs": [
    {
     "data": {
      "text/plain": [
       "Recommended\n",
       "no     15364\n",
       "yes     7807\n",
       "Name: count, dtype: int64"
      ]
     },
     "metadata": {},
     "output_type": "display_data"
    },
    {
     "name": "stdout",
     "output_type": "stream",
     "text": [
      "\n"
     ]
    },
    {
     "data": {
      "text/plain": [
       "Recommended\n",
       "no     0.66307\n",
       "yes    0.33693\n",
       "Name: proportion, dtype: float64"
      ]
     },
     "metadata": {},
     "output_type": "display_data"
    }
   ],
   "source": [
    "# Number and distribution of target\n",
    "display(df['Recommended'].value_counts())\n",
    "print('')\n",
    "display(df['Recommended'].value_counts(normalize=True))"
   ]
  },
  {
   "cell_type": "code",
   "execution_count": 45,
   "id": "5e30f627-a5f6-49f9-8d3b-f13bfb3eabec",
   "metadata": {
    "collapsed": true,
    "jupyter": {
     "outputs_hidden": true,
     "source_hidden": true
    }
   },
   "outputs": [
    {
     "data": {
      "text/plain": [
       "105.0"
      ]
     },
     "execution_count": 45,
     "metadata": {},
     "output_type": "execute_result"
    }
   ],
   "source": [
    "# Number of words per review\n",
    "review_lengths = [len(review) for review in reviews_tokened]\n",
    "np.median(num_words)"
   ]
  },
  {
   "cell_type": "code",
   "execution_count": 43,
   "id": "93fb5223-7369-49f9-9ffe-b3dc35f437fb",
   "metadata": {
    "collapsed": true,
    "jupyter": {
     "outputs_hidden": true,
     "source_hidden": true
    }
   },
   "outputs": [
    {
     "data": {
      "image/png": "[encoded data removed]",
      "text/plain": [
       "<Figure size 640x480 with 1 Axes>"
      ]
     },
     "metadata": {},
     "output_type": "display_data"
    }
   ],
   "source": [
    "# Frequency distribution of words\n",
    "from nltk.tokenize import word_tokenize\n",
    "from nltk.probability import FreqDist\n",
    "import seaborn as sns\n",
    "\n",
    "fdist = FreqDist(word for review in reviews_tokened for word in review)\n",
    "top_words = fdist.most_common(25)\n",
    "words = []\n",
    "counts = []\n",
    "for word, count in top_words:\n",
    "    words.append(word)\n",
    "    counts.append(count)\n",
    "\n",
    "fig, ax = plt.subplots()\n",
    "sns.barplot(x=words, y=counts, ax= ax)\n",
    "plt.xticks(rotation=45)\n",
    "plt.show()"
   ]
  },
  {
   "cell_type": "code",
   "execution_count": 47,
   "id": "7280bfed-44c4-4d15-aad9-0d6dea8c81d6",
   "metadata": {
    "collapsed": true,
    "jupyter": {
     "outputs_hidden": true,
     "source_hidden": true
    }
   },
   "outputs": [
    {
     "data": {
      "image/png": "[encoded data removed]",
      "text/plain": [
       "<Figure size 640x480 with 1 Axes>"
      ]
     },
     "metadata": {},
     "output_type": "display_data"
    }
   ],
   "source": [
    "# Distribution of review length\n",
    "sns.histplot(review_lengths)\n",
    "plt.show()"
   ]
  },
  {
   "cell_type": "markdown",
   "id": "bd71af02-9e66-44f7-8512-cb86e894334d",
   "metadata": {},
   "source": [
    "## Data Preparation"
   ]
  },
  {
   "cell_type": "markdown",
   "id": "5c246439-ca3c-4821-980b-d4443a011148",
   "metadata": {},
   "source": [
    "- Split raw data into train-val-test sets\n",
    "- Manually Normalize\n",
    "  - Remove punctuation\n",
    "  - remove stop words\n",
    "  - lowercase\n",
    "  - part of speech tags\n",
    "  - lemmanize\n",
    "- Normalize by creating tensorflow datasets\n",
    "  - CountVectorization\n",
    "  - TfidfVecorization "
   ]
  },
  {
   "cell_type": "code",
   "execution_count": 65,
   "id": "4e8c60f7-7a59-4d10-9977-55dfea3ffd3f",
   "metadata": {
    "collapsed": true,
    "jupyter": {
     "outputs_hidden": true
    }
   },
   "outputs": [
    {
     "name": "stdout",
     "output_type": "stream",
     "text": [
      "Training Labels\n",
      "  Yes Reviews:\n",
      "     Count: 6245\n",
      "     Percent: 33.69%\n",
      "  No Reviews:\n",
      "     Count: 12291\n",
      "     Percent: 66.31%\n",
      "\n",
      "Validation Labels\n",
      "  Yes Reviews:\n",
      "     Count: 781\n",
      "     Percent: 33.71%\n",
      "  No Reviews:\n",
      "     Count: 1536\n",
      "     Percent: 66.29%\n",
      "\n",
      "Testing Labels\n",
      "  Yes Reviews:\n",
      "     Count: 781\n",
      "     Percent: 33.69%\n",
      "  No Reviews:\n",
      "     Count: 1537\n",
      "     Percent: 66.31%\n",
      "\n"
     ]
    }
   ],
   "source": [
    "# Make 80-10-10 train-validation-test split\n",
    "\n",
    "# First split with stratification\n",
    "train_reviews, temp_reviews, train_labels, temp_labels = train_test_split(reviews, labels, test_size=0.2, stratify=labels, random_state=42)\n",
    "\n",
    "# Second split for val and test sets with stratification\n",
    "val_reviews, test_reviews, val_labels, test_labels = train_test_split(temp_reviews, temp_labels, test_size=0.5, stratify=temp_labels, random_state=42)\n",
    "\n",
    "def label_distribution(name,labels):\n",
    "    total = len(labels)\n",
    "    yes_counts = (labels==1).sum()\n",
    "    yes_rate = yes_counts/total\n",
    "    no_counts = (labels==0).sum()\n",
    "    no_rate = no_counts/total\n",
    "    print(f'{name} Labels')\n",
    "    print('  Yes Reviews:')\n",
    "    print(f'     Count: {yes_counts}')\n",
    "    print(f'     Percent: {round(100*yes_rate,2)}%')\n",
    "    print('  No Reviews:')\n",
    "    print(f'     Count: {no_counts}')\n",
    "    print(f'     Percent: {round(100*no_rate,2)}%')\n",
    "    print('')\n",
    "\n",
    "label_distribution('Training',train_labels)\n",
    "label_distribution('Validation',val_labels)\n",
    "label_distribution('Testing',test_labels)"
   ]
  },
  {
   "cell_type": "code",
   "execution_count": 66,
   "id": "7044ae49-c886-41aa-8e9b-226892ea9fdf",
   "metadata": {},
   "outputs": [],
   "source": [
    "# I don't need to do this as I will include it in my pipeline\n",
    "# Manual Normalization including stopword removal\n",
    "# STOPWORDS = stopwords.words('english')\n",
    "\n",
    "# X_train = [clean_text(review, stop_words = STOPWORDS) for review in train_reviews]\n",
    "# X_val = [clean_text(review, stop_words = STOPWORDS) for review in val_reviews]\n",
    "# X_test = [clean_text(review, stop_words = STOPWORDS) for review in test_reviews]"
   ]
  },
  {
   "cell_type": "code",
   "execution_count": 67,
   "id": "a2792b1e-df90-4873-9622-3390a054abc3",
   "metadata": {},
   "outputs": [
    {
     "name": "stderr",
     "output_type": "stream",
     "text": [
      "2024-03-27 12:18:26.821225: I tensorflow/core/platform/cpu_feature_guard.cc:182] This TensorFlow binary is optimized to use available CPU instructions in performance-critical operations.\n",
      "To enable the following instructions: SSE4.1 SSE4.2 AVX AVX2 AVX512F AVX512_VNNI FMA, in other operations, rebuild TensorFlow with the appropriate compiler flags.\n"
     ]
    }
   ],
   "source": [
    "# Creating tensorflow datasets\n",
    "from sklearn.feature_extraction.text import CountVectorizer\n",
    "from sklearn.feature_selection import SelectKBest\n",
    "from sklearn.pipeline import make_pipeline\n",
    "from sklearn.feature_extraction.text import TfidfTransformer\n",
    "import tensorflow as tf\n",
    "\n",
    "def vectorize_text(train_reviews, val_reviews, test_reviews, stop_words, use_tf_idf=False):\n",
    "    \"\"\"\n",
    "    Vectorizes text data. Optionally applies TF-IDF transformation.\n",
    "    \"\"\"\n",
    "    vectorizer = CountVectorizer(decode_error='replace', strip_accents='unicode', stop_words=stop_words,\n",
    "                                 ngram_range=(1, 2), max_df=0.95, min_df=2)\n",
    "    if use_tf_idf:\n",
    "        pipeline = make_pipeline(vectorizer, TfidfTransformer())\n",
    "        X_train = pipeline.fit_transform(train_reviews)\n",
    "        X_val = pipeline.transform(val_reviews)\n",
    "        X_test = pipeline.transform(test_reviews)\n",
    "    else:\n",
    "        X_train = vectorizer.fit_transform(train_reviews)\n",
    "        X_val = vectorizer.transform(val_reviews)\n",
    "        X_test = vectorizer.transform(test_reviews)\n",
    "    return X_train, X_val, X_test\n",
    "\n",
    "def select_features(X_train, train_labels, X_val, X_test, k_best=20000):\n",
    "    \"\"\"\n",
    "    Selects the k best features from the vectorized text data.\n",
    "    \"\"\"\n",
    "    selector = SelectKBest(k=min(k_best, X_train.shape[1]))\n",
    "    selector.fit(X_train, train_labels)\n",
    "    X_train_selected = selector.transform(X_train)\n",
    "    X_val_selected = selector.transform(X_val)\n",
    "    X_test_selected = selector.transform(X_test)\n",
    "    return X_train_selected, X_val_selected, X_test_selected\n",
    "\n",
    "def create_tf_datasets(X_train_selected, train_labels, X_val_selected, val_labels, X_test_selected, test_labels):\n",
    "    \"\"\"\n",
    "    Converts selected features and labels into TensorFlow datasets.\n",
    "    \"\"\"\n",
    "    train_ds = tf.data.Dataset.from_tensor_slices((X_train_selected.toarray(), train_labels.astype('float32')))\n",
    "    val_ds = tf.data.Dataset.from_tensor_slices((X_val_selected.toarray(), val_labels.astype('float32')))\n",
    "    test_ds = tf.data.Dataset.from_tensor_slices((X_test_selected.toarray(), test_labels.astype('float32')))\n",
    "    \n",
    "    train_ds = train_ds.shuffle(1000, reshuffle_each_iteration=True).batch(64).cache().prefetch(tf.data.AUTOTUNE)\n",
    "    val_ds = val_ds.batch(64).cache().prefetch(tf.data.AUTOTUNE)\n",
    "    test_ds = test_ds.batch(64).cache().prefetch(tf.data.AUTOTUNE)\n",
    "\n",
    "    return train_ds, val_ds, test_ds\n",
    "\n",
    "def prepare_datasets(train_reviews, train_labels, val_reviews, val_labels, test_reviews, test_labels, stop_words, use_tf_idf=False, k_best=20000):\n",
    "    \"\"\"\n",
    "    Prepares training and validation datasets by vectorizing text data, selecting features,\n",
    "    and converting to TensorFlow datasets.\n",
    "    \"\"\"\n",
    "    X_train, X_val, X_test = vectorize_text(train_reviews, val_reviews, test_reviews, stop_words, use_tf_idf)\n",
    "    X_train_selected, X_val_selected, X_test_selected = select_features(X_train, train_labels, X_val, X_test, k_best)\n",
    "    train_ds, val_ds, test_ds = create_tf_datasets(X_train_selected, train_labels, X_val_selected, val_labels, X_test_selected, test_labels)\n",
    "    return train_ds, val_ds, test_ds\n",
    "\n",
    "# Counts\n",
    "train_ds_counts, val_ds_counts, test_ds_counts = prepare_datasets(train_reviews, train_labels, val_reviews, val_labels, test_reviews, test_labels, STOPWORDS)\n",
    "\n",
    "# Tf-idf\n",
    "train_ds_tfidf, val_ds_tfidf, test_ds_tfidf = prepare_datasets(train_reviews, train_labels, val_reviews, val_labels, test_reviews, test_labels, STOPWORDS, use_tf_idf=True)"
   ]
  },
  {
   "cell_type": "markdown",
   "id": "2bfa53d6-426f-4328-9389-b3db511d723f",
   "metadata": {},
   "source": [
    "## Data Modeling"
   ]
  },
  {
   "cell_type": "markdown",
   "id": "1618b676-1d95-4eed-a8f1-c1d2b438d62e",
   "metadata": {},
   "source": [
    "- Dummy\n",
    "- Baseline: LogisticRegression\n",
    "- \n",
    "- \n",
    "- "
   ]
  },
  {
   "cell_type": "code",
   "execution_count": 77,
   "id": "f8c445d9-0bd1-4963-a3d3-eb0d76c004e5",
   "metadata": {},
   "outputs": [],
   "source": [
    "from sklearn.base import BaseEstimator, TransformerMixin\n",
    "from nltk.corpus import wordnet\n",
    "from nltk.tokenize import RegexpTokenizer\n",
    "from nltk.stem import WordNetLemmatizer\n",
    "from nltk import pos_tag\n",
    "\n",
    "class TextCleanerTransformer(BaseEstimator, TransformerMixin):\n",
    "    def __init__(self, stop_words=None):\n",
    "        self.stop_words = stop_words\n",
    "        \n",
    "    def fit(self, X, y=None):\n",
    "        return self  # Nothing to do here\n",
    "    \n",
    "    def transform(self, X, y=None):\n",
    "        cleaned_reviews = []\n",
    "        for review in X:\n",
    "            cleaned_reviews.append(self.clean_text(review, self.stop_words))\n",
    "        return cleaned_reviews\n",
    "    \n",
    "    def clean_text(self, review, stop_words):\n",
    "        tokenizer = RegexpTokenizer(r\"([a-zA-Z]+(?:’[a-z]+)?)\")\n",
    "        tokens = tokenizer.tokenize(review)\n",
    "        if stop_words is None:\n",
    "            tokens = [word.lower() for word in tokens]\n",
    "        else:\n",
    "            tokens = [word.lower() for word in tokens if word.lower() not in stop_words]\n",
    "        \n",
    "        pos_tags = pos_tag(tokens)\n",
    "        wordnet_tags = [(word, self.get_wordnet_pos(tag)) for word, tag in pos_tags]\n",
    "        lemmatizer = WordNetLemmatizer()\n",
    "        lemmatized_tokens = [lemmatizer.lemmatize(word, tag) for word, tag in wordnet_tags]\n",
    "        return ' '.join(lemmatized_tokens)\n",
    "    \n",
    "    def get_wordnet_pos(self, treebank_tag):\n",
    "        if treebank_tag.startswith('J'):\n",
    "            return wordnet.ADJ\n",
    "        elif treebank_tag.startswith('V'):\n",
    "            return wordnet.VERB\n",
    "        elif treebank_tag.startswith('N'):\n",
    "            return wordnet.NOUN\n",
    "        elif treebank_tag.startswith('R'):\n",
    "            return wordnet.ADV\n",
    "        else:\n",
    "            return wordnet.NOUN\n",
    "def model_cv_scores(pipeline, model_name, X= None, y= None, scoring=None, cv=None):\n",
    "    \"\"\"\n",
    "    Performs cross-validation on the given pipeline and data, displaying the results.\n",
    "    \n",
    "    Parameters:\n",
    "    - pipeline: The scikit-learn pipeline to evaluate.\n",
    "    - model_name: A name for the model, used in the output DataFrame.\n",
    "    - X: The feature matrix. Default is None. Should be provided explicitly.\n",
    "    - y: The target vector. Default is None. Should be provided explicitly.\n",
    "    - scoring: Scoring parameter for cross-validation. Default is None. Should be provided explicitly.\n",
    "    - cv: Cross-validation splitting strategy. Default is None. Should be provided explicitly.\n",
    "    \n",
    "    Returns:\n",
    "    - A dictionary containing the cross-validation scores.\n",
    "    \"\"\"\n",
    "    scores = cross_validate(pipeline, X, y, scoring=scoring, cv=cv, n_jobs=-1, return_train_score=False)\n",
    "    \n",
    "    # Calculating mean values and rounding them for readability\n",
    "    time = round((scores['fit_time'] + scores['score_time']).mean())\n",
    "    accuracy = round(scores['test_accuracy'].mean(), 4)\n",
    "    roc_auc = round(scores['test_roc_auc'].mean(), 4)\n",
    "    \n",
    "    # Creating and displaying a DataFrame with the results\n",
    "    results_df = pd.DataFrame([[accuracy, roc_auc, time]], \n",
    "                              index=[model_name], \n",
    "                              columns=['Accuracy', 'ROC AUC', 'Time (s)'])\n",
    "    display(results_df)\n",
    "\n",
    "def RandCV_scores(model_name,random_search):\n",
    "    index = random_search.best_index_\n",
    "    results = random_search.cv_results_\n",
    "\n",
    "    # Calculating mean values and rounding them for readability\n",
    "    time = round(results['mean_fit_time'][index] + results['mean_score_time'][index])\n",
    "    accuracy = round(results['mean_test_accuracy'][index], 4)\n",
    "    roc_auc = round(results['mean_test_roc_auc'][index], 4)\n",
    "    \n",
    "    # Creating and displaying a DataFrame with the results\n",
    "    results_df = pd.DataFrame([[accuracy, roc_auc, time]], \n",
    "                              index=[model_name+'_RandCV'], \n",
    "                              columns=['Accuracy', 'ROC AUC', 'Time (s)'])\n",
    "    display(results_df)\n",
    "    return random_search.best_params_"
   ]
  },
  {
   "cell_type": "code",
   "execution_count": 100,
   "id": "55d92c06-ed2d-49b3-9cc7-bc4dd95b744a",
   "metadata": {},
   "outputs": [],
   "source": [
    "from sklearn.model_selection import cross_validate, StratifiedKFold\n",
    "from sklearn.pipeline import Pipeline\n",
    "\n",
    "# Instantiating processing transformers\n",
    "text_cleaner = TextCleanerTransformer(stop_words=STOPWORDS)\n",
    "vectorizer = CountVectorizer(decode_error='replace', strip_accents='unicode', stop_words=None, ngram_range=(1, 2), max_df=0.95, min_df=2)\n",
    "tf_idf = TfidfTransformer()\n",
    "k_best = SelectKBest(k=10000)\n",
    "\n",
    "# Setting CV parameters\n",
    "skf = StratifiedKFold(n_splits=5, shuffle=True, random_state=42)\n",
    "SCORING = {'accuracy':'accuracy',\n",
    "           'roc_auc':'roc_auc'}\n",
    "\n",
    "# Concatenating the valildation set as I don't need it here. 90-10 split\n",
    "X_train = pd.concat([train_reviews, val_reviews])\n",
    "y_train = pd.concat([train_labels, val_labels])\n",
    "\n",
    "# Clean data before entering the pipeline for efficiency\n",
    "X_train_clean = text_cleaner.transform(X_train)"
   ]
  },
  {
   "cell_type": "code",
   "execution_count": 105,
   "id": "0bac2eab-439f-451e-bbaf-9f4614339d29",
   "metadata": {},
   "outputs": [
    {
     "data": {
      "text/html": [
       "<div>\n",
       "<style scoped>\n",
       "    .dataframe tbody tr th:only-of-type {\n",
       "        vertical-align: middle;\n",
       "    }\n",
       "\n",
       "    .dataframe tbody tr th {\n",
       "        vertical-align: top;\n",
       "    }\n",
       "\n",
       "    .dataframe thead th {\n",
       "        text-align: right;\n",
       "    }\n",
       "</style>\n",
       "<table border=\"1\" class=\"dataframe\">\n",
       "  <thead>\n",
       "    <tr style=\"text-align: right;\">\n",
       "      <th></th>\n",
       "      <th>Accuracy</th>\n",
       "      <th>ROC AUC</th>\n",
       "      <th>Time (s)</th>\n",
       "    </tr>\n",
       "  </thead>\n",
       "  <tbody>\n",
       "    <tr>\n",
       "      <th>Dummy</th>\n",
       "      <td>0.5022</td>\n",
       "      <td>0.5</td>\n",
       "      <td>5</td>\n",
       "    </tr>\n",
       "  </tbody>\n",
       "</table>\n",
       "</div>"
      ],
      "text/plain": [
       "       Accuracy  ROC AUC  Time (s)\n",
       "Dummy    0.5022      0.5         5"
      ]
     },
     "metadata": {},
     "output_type": "display_data"
    }
   ],
   "source": [
    "# Dummy Model\n",
    "from sklearn.dummy import DummyClassifier\n",
    "\n",
    "clf = DummyClassifier(strategy='uniform', random_state=42)\n",
    "\n",
    "pipe = Pipeline([\n",
    "    (\"count\", vectorizer),\n",
    "    ('feature_selection', k_best),\n",
    "    (\"dummy\", clf)])\n",
    "\n",
    "model_cv_scores(pipe, 'Dummy', X= X_train_clean, y= y_train, scoring=SCORING, cv=skf)"
   ]
  },
  {
   "cell_type": "markdown",
   "id": "821affd0-113b-4f8b-a176-ff7cc4e29d77",
   "metadata": {},
   "source": [
    "#### CountVectorizer"
   ]
  },
  {
   "cell_type": "code",
   "execution_count": 107,
   "id": "dd6fe813-7c36-4842-b676-684a2d785d5f",
   "metadata": {},
   "outputs": [
    {
     "data": {
      "text/html": [
       "<div>\n",
       "<style scoped>\n",
       "    .dataframe tbody tr th:only-of-type {\n",
       "        vertical-align: middle;\n",
       "    }\n",
       "\n",
       "    .dataframe tbody tr th {\n",
       "        vertical-align: top;\n",
       "    }\n",
       "\n",
       "    .dataframe thead th {\n",
       "        text-align: right;\n",
       "    }\n",
       "</style>\n",
       "<table border=\"1\" class=\"dataframe\">\n",
       "  <thead>\n",
       "    <tr style=\"text-align: right;\">\n",
       "      <th></th>\n",
       "      <th>Accuracy</th>\n",
       "      <th>ROC AUC</th>\n",
       "      <th>Time (s)</th>\n",
       "    </tr>\n",
       "  </thead>\n",
       "  <tbody>\n",
       "    <tr>\n",
       "      <th>log_reg</th>\n",
       "      <td>0.8977</td>\n",
       "      <td>0.9523</td>\n",
       "      <td>6</td>\n",
       "    </tr>\n",
       "  </tbody>\n",
       "</table>\n",
       "</div>"
      ],
      "text/plain": [
       "         Accuracy  ROC AUC  Time (s)\n",
       "log_reg    0.8977   0.9523         6"
      ]
     },
     "metadata": {},
     "output_type": "display_data"
    }
   ],
   "source": [
    "# Baseline\n",
    "from sklearn.linear_model import LogisticRegression\n",
    "\n",
    "clf = LogisticRegression(max_iter=1000)\n",
    "\n",
    "pipe = Pipeline([\n",
    "    (\"count\", vectorizer),\n",
    "    ('feature_selection', k_best),\n",
    "    (\"log_reg\", clf)])\n",
    "\n",
    "model_cv_scores(pipe, 'log_reg', X= X_train_clean, y= y_train, scoring=SCORING, cv=skf)"
   ]
  },
  {
   "cell_type": "code",
   "execution_count": 122,
   "id": "4e0d7d98-39f2-48ee-827a-280b69a076f9",
   "metadata": {
    "collapsed": true,
    "jupyter": {
     "outputs_hidden": true,
     "source_hidden": true
    }
   },
   "outputs": [
    {
     "name": "stdout",
     "output_type": "stream",
     "text": [
      "Fitting 3 folds for each of 100 candidates, totalling 300 fits\n"
     ]
    },
    {
     "name": "stderr",
     "output_type": "stream",
     "text": [
      "/Users/ronlodetti/anaconda3/envs/capstone-env/lib/python3.11/site-packages/sklearn/linear_model/_sag.py:350: ConvergenceWarning: The max_iter was reached which means the coef_ did not converge\n",
      "  warnings.warn(\n",
      "/Users/ronlodetti/anaconda3/envs/capstone-env/lib/python3.11/site-packages/sklearn/linear_model/_sag.py:350: ConvergenceWarning: The max_iter was reached which means the coef_ did not converge\n",
      "  warnings.warn(\n",
      "/Users/ronlodetti/anaconda3/envs/capstone-env/lib/python3.11/site-packages/sklearn/linear_model/_sag.py:350: ConvergenceWarning: The max_iter was reached which means the coef_ did not converge\n",
      "  warnings.warn(\n",
      "/Users/ronlodetti/anaconda3/envs/capstone-env/lib/python3.11/site-packages/sklearn/linear_model/_sag.py:350: ConvergenceWarning: The max_iter was reached which means the coef_ did not converge\n",
      "  warnings.warn(\n",
      "/Users/ronlodetti/anaconda3/envs/capstone-env/lib/python3.11/site-packages/sklearn/linear_model/_sag.py:350: ConvergenceWarning: The max_iter was reached which means the coef_ did not converge\n",
      "  warnings.warn(\n",
      "/Users/ronlodetti/anaconda3/envs/capstone-env/lib/python3.11/site-packages/sklearn/linear_model/_sag.py:350: ConvergenceWarning: The max_iter was reached which means the coef_ did not converge\n",
      "  warnings.warn(\n",
      "/Users/ronlodetti/anaconda3/envs/capstone-env/lib/python3.11/site-packages/sklearn/linear_model/_sag.py:350: ConvergenceWarning: The max_iter was reached which means the coef_ did not converge\n",
      "  warnings.warn(\n",
      "/Users/ronlodetti/anaconda3/envs/capstone-env/lib/python3.11/site-packages/sklearn/linear_model/_sag.py:350: ConvergenceWarning: The max_iter was reached which means the coef_ did not converge\n",
      "  warnings.warn(\n",
      "/Users/ronlodetti/anaconda3/envs/capstone-env/lib/python3.11/site-packages/sklearn/linear_model/_sag.py:350: ConvergenceWarning: The max_iter was reached which means the coef_ did not converge\n",
      "  warnings.warn(\n",
      "/Users/ronlodetti/anaconda3/envs/capstone-env/lib/python3.11/site-packages/sklearn/linear_model/_sag.py:350: ConvergenceWarning: The max_iter was reached which means the coef_ did not converge\n",
      "  warnings.warn(\n",
      "/Users/ronlodetti/anaconda3/envs/capstone-env/lib/python3.11/site-packages/sklearn/linear_model/_sag.py:350: ConvergenceWarning: The max_iter was reached which means the coef_ did not converge\n",
      "  warnings.warn(\n",
      "/Users/ronlodetti/anaconda3/envs/capstone-env/lib/python3.11/site-packages/sklearn/linear_model/_sag.py:350: ConvergenceWarning: The max_iter was reached which means the coef_ did not converge\n",
      "  warnings.warn(\n",
      "/Users/ronlodetti/anaconda3/envs/capstone-env/lib/python3.11/site-packages/sklearn/linear_model/_sag.py:350: ConvergenceWarning: The max_iter was reached which means the coef_ did not converge\n",
      "  warnings.warn(\n",
      "/Users/ronlodetti/anaconda3/envs/capstone-env/lib/python3.11/site-packages/sklearn/linear_model/_sag.py:350: ConvergenceWarning: The max_iter was reached which means the coef_ did not converge\n",
      "  warnings.warn(\n",
      "/Users/ronlodetti/anaconda3/envs/capstone-env/lib/python3.11/site-packages/sklearn/linear_model/_sag.py:350: ConvergenceWarning: The max_iter was reached which means the coef_ did not converge\n",
      "  warnings.warn(\n",
      "/Users/ronlodetti/anaconda3/envs/capstone-env/lib/python3.11/site-packages/sklearn/linear_model/_sag.py:350: ConvergenceWarning: The max_iter was reached which means the coef_ did not converge\n",
      "  warnings.warn(\n",
      "/Users/ronlodetti/anaconda3/envs/capstone-env/lib/python3.11/site-packages/sklearn/linear_model/_sag.py:350: ConvergenceWarning: The max_iter was reached which means the coef_ did not converge\n",
      "  warnings.warn(\n",
      "/Users/ronlodetti/anaconda3/envs/capstone-env/lib/python3.11/site-packages/sklearn/linear_model/_sag.py:350: ConvergenceWarning: The max_iter was reached which means the coef_ did not converge\n",
      "  warnings.warn(\n",
      "/Users/ronlodetti/anaconda3/envs/capstone-env/lib/python3.11/site-packages/sklearn/linear_model/_sag.py:350: ConvergenceWarning: The max_iter was reached which means the coef_ did not converge\n",
      "  warnings.warn(\n",
      "/Users/ronlodetti/anaconda3/envs/capstone-env/lib/python3.11/site-packages/sklearn/linear_model/_sag.py:350: ConvergenceWarning: The max_iter was reached which means the coef_ did not converge\n",
      "  warnings.warn(\n",
      "/Users/ronlodetti/anaconda3/envs/capstone-env/lib/python3.11/site-packages/sklearn/linear_model/_sag.py:350: ConvergenceWarning: The max_iter was reached which means the coef_ did not converge\n",
      "  warnings.warn(\n",
      "/Users/ronlodetti/anaconda3/envs/capstone-env/lib/python3.11/site-packages/sklearn/linear_model/_sag.py:350: ConvergenceWarning: The max_iter was reached which means the coef_ did not converge\n",
      "  warnings.warn(\n",
      "/Users/ronlodetti/anaconda3/envs/capstone-env/lib/python3.11/site-packages/sklearn/linear_model/_sag.py:350: ConvergenceWarning: The max_iter was reached which means the coef_ did not converge\n",
      "  warnings.warn(\n",
      "/Users/ronlodetti/anaconda3/envs/capstone-env/lib/python3.11/site-packages/sklearn/linear_model/_sag.py:350: ConvergenceWarning: The max_iter was reached which means the coef_ did not converge\n",
      "  warnings.warn(\n",
      "/Users/ronlodetti/anaconda3/envs/capstone-env/lib/python3.11/site-packages/sklearn/linear_model/_sag.py:350: ConvergenceWarning: The max_iter was reached which means the coef_ did not converge\n",
      "  warnings.warn(\n",
      "/Users/ronlodetti/anaconda3/envs/capstone-env/lib/python3.11/site-packages/sklearn/linear_model/_sag.py:350: ConvergenceWarning: The max_iter was reached which means the coef_ did not converge\n",
      "  warnings.warn(\n",
      "/Users/ronlodetti/anaconda3/envs/capstone-env/lib/python3.11/site-packages/sklearn/linear_model/_sag.py:350: ConvergenceWarning: The max_iter was reached which means the coef_ did not converge\n",
      "  warnings.warn(\n",
      "/Users/ronlodetti/anaconda3/envs/capstone-env/lib/python3.11/site-packages/sklearn/linear_model/_sag.py:350: ConvergenceWarning: The max_iter was reached which means the coef_ did not converge\n",
      "  warnings.warn(\n",
      "/Users/ronlodetti/anaconda3/envs/capstone-env/lib/python3.11/site-packages/sklearn/linear_model/_sag.py:350: ConvergenceWarning: The max_iter was reached which means the coef_ did not converge\n",
      "  warnings.warn(\n",
      "/Users/ronlodetti/anaconda3/envs/capstone-env/lib/python3.11/site-packages/sklearn/linear_model/_sag.py:350: ConvergenceWarning: The max_iter was reached which means the coef_ did not converge\n",
      "  warnings.warn(\n",
      "/Users/ronlodetti/anaconda3/envs/capstone-env/lib/python3.11/site-packages/sklearn/linear_model/_sag.py:350: ConvergenceWarning: The max_iter was reached which means the coef_ did not converge\n",
      "  warnings.warn(\n",
      "/Users/ronlodetti/anaconda3/envs/capstone-env/lib/python3.11/site-packages/sklearn/linear_model/_sag.py:350: ConvergenceWarning: The max_iter was reached which means the coef_ did not converge\n",
      "  warnings.warn(\n",
      "/Users/ronlodetti/anaconda3/envs/capstone-env/lib/python3.11/site-packages/sklearn/linear_model/_sag.py:350: ConvergenceWarning: The max_iter was reached which means the coef_ did not converge\n",
      "  warnings.warn(\n",
      "/Users/ronlodetti/anaconda3/envs/capstone-env/lib/python3.11/site-packages/sklearn/linear_model/_sag.py:350: ConvergenceWarning: The max_iter was reached which means the coef_ did not converge\n",
      "  warnings.warn(\n",
      "/Users/ronlodetti/anaconda3/envs/capstone-env/lib/python3.11/site-packages/sklearn/linear_model/_sag.py:350: ConvergenceWarning: The max_iter was reached which means the coef_ did not converge\n",
      "  warnings.warn(\n",
      "/Users/ronlodetti/anaconda3/envs/capstone-env/lib/python3.11/site-packages/sklearn/linear_model/_sag.py:350: ConvergenceWarning: The max_iter was reached which means the coef_ did not converge\n",
      "  warnings.warn(\n",
      "/Users/ronlodetti/anaconda3/envs/capstone-env/lib/python3.11/site-packages/sklearn/linear_model/_sag.py:350: ConvergenceWarning: The max_iter was reached which means the coef_ did not converge\n",
      "  warnings.warn(\n",
      "/Users/ronlodetti/anaconda3/envs/capstone-env/lib/python3.11/site-packages/sklearn/linear_model/_sag.py:350: ConvergenceWarning: The max_iter was reached which means the coef_ did not converge\n",
      "  warnings.warn(\n",
      "/Users/ronlodetti/anaconda3/envs/capstone-env/lib/python3.11/site-packages/sklearn/linear_model/_sag.py:350: ConvergenceWarning: The max_iter was reached which means the coef_ did not converge\n",
      "  warnings.warn(\n",
      "/Users/ronlodetti/anaconda3/envs/capstone-env/lib/python3.11/site-packages/sklearn/linear_model/_sag.py:350: ConvergenceWarning: The max_iter was reached which means the coef_ did not converge\n",
      "  warnings.warn(\n",
      "/Users/ronlodetti/anaconda3/envs/capstone-env/lib/python3.11/site-packages/sklearn/linear_model/_sag.py:350: ConvergenceWarning: The max_iter was reached which means the coef_ did not converge\n",
      "  warnings.warn(\n",
      "/Users/ronlodetti/anaconda3/envs/capstone-env/lib/python3.11/site-packages/sklearn/linear_model/_sag.py:350: ConvergenceWarning: The max_iter was reached which means the coef_ did not converge\n",
      "  warnings.warn(\n",
      "/Users/ronlodetti/anaconda3/envs/capstone-env/lib/python3.11/site-packages/sklearn/linear_model/_sag.py:350: ConvergenceWarning: The max_iter was reached which means the coef_ did not converge\n",
      "  warnings.warn(\n",
      "/Users/ronlodetti/anaconda3/envs/capstone-env/lib/python3.11/site-packages/sklearn/linear_model/_sag.py:350: ConvergenceWarning: The max_iter was reached which means the coef_ did not converge\n",
      "  warnings.warn(\n",
      "/Users/ronlodetti/anaconda3/envs/capstone-env/lib/python3.11/site-packages/sklearn/linear_model/_sag.py:350: ConvergenceWarning: The max_iter was reached which means the coef_ did not converge\n",
      "  warnings.warn(\n"
     ]
    },
    {
     "data": {
      "text/html": [
       "<div>\n",
       "<style scoped>\n",
       "    .dataframe tbody tr th:only-of-type {\n",
       "        vertical-align: middle;\n",
       "    }\n",
       "\n",
       "    .dataframe tbody tr th {\n",
       "        vertical-align: top;\n",
       "    }\n",
       "\n",
       "    .dataframe thead th {\n",
       "        text-align: right;\n",
       "    }\n",
       "</style>\n",
       "<table border=\"1\" class=\"dataframe\">\n",
       "  <thead>\n",
       "    <tr style=\"text-align: right;\">\n",
       "      <th></th>\n",
       "      <th>Accuracy</th>\n",
       "      <th>ROC AUC</th>\n",
       "      <th>Time (s)</th>\n",
       "    </tr>\n",
       "  </thead>\n",
       "  <tbody>\n",
       "    <tr>\n",
       "      <th>log_reg_RandCV</th>\n",
       "      <td>0.9029</td>\n",
       "      <td>0.9581</td>\n",
       "      <td>8</td>\n",
       "    </tr>\n",
       "  </tbody>\n",
       "</table>\n",
       "</div>"
      ],
      "text/plain": [
       "                Accuracy  ROC AUC  Time (s)\n",
       "log_reg_RandCV    0.9029   0.9581         8"
      ]
     },
     "metadata": {},
     "output_type": "display_data"
    },
    {
     "data": {
      "text/plain": [
       "{'log_reg__C': 0.061991000078022655,\n",
       " 'log_reg__max_iter': 100,\n",
       " 'log_reg__solver': 'newton-cg'}"
      ]
     },
     "execution_count": 122,
     "metadata": {},
     "output_type": "execute_result"
    }
   ],
   "source": [
    "# Logistic Regression RandCV\n",
    "from sklearn.model_selection import RandomizedSearchCV\n",
    "from scipy.stats import loguniform\n",
    "\n",
    "clf = LogisticRegression()\n",
    "\n",
    "pipe = Pipeline([\n",
    "    (\"count\", vectorizer),\n",
    "    ('feature_selection', k_best),\n",
    "    (\"log_reg\", clf)])\n",
    "\n",
    "params = {\n",
    "    'log_reg__C': loguniform(0.001, 100),\n",
    "    'log_reg__solver': ['liblinear', 'lbfgs', 'sag', 'newton-cg'],\n",
    "    'log_reg__max_iter': [100, 200, 300, 400, 500]\n",
    "}\n",
    "\n",
    "rs = RandomizedSearchCV(estimator= pipe, \n",
    "                        param_distributions= params,\n",
    "                        n_iter=100, \n",
    "                        cv=3,\n",
    "                        verbose=1,\n",
    "                        n_jobs=-1,\n",
    "                        scoring=SCORING,\n",
    "                        refit= 'roc_auc',\n",
    "                        random_state=42)\n",
    "rand_search = rs.fit(X_train_clean, y_train)\n",
    "RandCV_scores('log_reg',rand_search)"
   ]
  },
  {
   "cell_type": "code",
   "execution_count": 123,
   "id": "4db6c42e-b603-4d16-aa36-3783d8fdad55",
   "metadata": {},
   "outputs": [
    {
     "data": {
      "text/html": [
       "<div>\n",
       "<style scoped>\n",
       "    .dataframe tbody tr th:only-of-type {\n",
       "        vertical-align: middle;\n",
       "    }\n",
       "\n",
       "    .dataframe tbody tr th {\n",
       "        vertical-align: top;\n",
       "    }\n",
       "\n",
       "    .dataframe thead th {\n",
       "        text-align: right;\n",
       "    }\n",
       "</style>\n",
       "<table border=\"1\" class=\"dataframe\">\n",
       "  <thead>\n",
       "    <tr style=\"text-align: right;\">\n",
       "      <th></th>\n",
       "      <th>Accuracy</th>\n",
       "      <th>ROC AUC</th>\n",
       "      <th>Time (s)</th>\n",
       "    </tr>\n",
       "  </thead>\n",
       "  <tbody>\n",
       "    <tr>\n",
       "      <th>mnb</th>\n",
       "      <td>0.8748</td>\n",
       "      <td>0.9341</td>\n",
       "      <td>6</td>\n",
       "    </tr>\n",
       "  </tbody>\n",
       "</table>\n",
       "</div>"
      ],
      "text/plain": [
       "     Accuracy  ROC AUC  Time (s)\n",
       "mnb    0.8748   0.9341         6"
      ]
     },
     "metadata": {},
     "output_type": "display_data"
    }
   ],
   "source": [
    "# MultinomialNB\n",
    "from sklearn.naive_bayes import MultinomialNB\n",
    "\n",
    "clf = MultinomialNB(alpha=1.0, fit_prior=True)\n",
    "\n",
    "pipe = Pipeline([\n",
    "    (\"count\", vectorizer),\n",
    "    ('feature_selection', k_best),\n",
    "    (\"mnb\", clf)])\n",
    "\n",
    "model_cv_scores(pipe, 'mnb', X= X_train_clean, y= y_train, scoring=SCORING, cv=skf)"
   ]
  },
  {
   "cell_type": "code",
   "execution_count": 125,
   "id": "9ee05392-607f-40aa-afed-912ba97936eb",
   "metadata": {},
   "outputs": [
    {
     "name": "stdout",
     "output_type": "stream",
     "text": [
      "Fitting 5 folds for each of 24 candidates, totalling 120 fits\n"
     ]
    },
    {
     "name": "stderr",
     "output_type": "stream",
     "text": [
      "/Users/ronlodetti/anaconda3/envs/capstone-env/lib/python3.11/site-packages/sklearn/model_selection/_search.py:318: UserWarning: The total space of parameters 24 is smaller than n_iter=100. Running 24 iterations. For exhaustive searches, use GridSearchCV.\n",
      "  warnings.warn(\n"
     ]
    },
    {
     "data": {
      "text/html": [
       "<div>\n",
       "<style scoped>\n",
       "    .dataframe tbody tr th:only-of-type {\n",
       "        vertical-align: middle;\n",
       "    }\n",
       "\n",
       "    .dataframe tbody tr th {\n",
       "        vertical-align: top;\n",
       "    }\n",
       "\n",
       "    .dataframe thead th {\n",
       "        text-align: right;\n",
       "    }\n",
       "</style>\n",
       "<table border=\"1\" class=\"dataframe\">\n",
       "  <thead>\n",
       "    <tr style=\"text-align: right;\">\n",
       "      <th></th>\n",
       "      <th>Accuracy</th>\n",
       "      <th>ROC AUC</th>\n",
       "      <th>Time (s)</th>\n",
       "    </tr>\n",
       "  </thead>\n",
       "  <tbody>\n",
       "    <tr>\n",
       "      <th>mnb_RandCV</th>\n",
       "      <td>0.8745</td>\n",
       "      <td>0.934</td>\n",
       "      <td>8</td>\n",
       "    </tr>\n",
       "  </tbody>\n",
       "</table>\n",
       "</div>"
      ],
      "text/plain": [
       "            Accuracy  ROC AUC  Time (s)\n",
       "mnb_RandCV    0.8745    0.934         8"
      ]
     },
     "metadata": {},
     "output_type": "display_data"
    },
    {
     "data": {
      "text/plain": [
       "{'mnb__fit_prior': True, 'mnb__class_prior': [0.66, 0.34], 'mnb__alpha': 0.1}"
      ]
     },
     "execution_count": 125,
     "metadata": {},
     "output_type": "execute_result"
    }
   ],
   "source": [
    "# MultinomialNB RandCV\n",
    "clf = MultinomialNB()\n",
    "\n",
    "pipe = Pipeline([\n",
    "    (\"count\", vectorizer),\n",
    "    ('feature_selection', k_best),\n",
    "    (\"mnb\", clf)])\n",
    "\n",
    "params = {\n",
    "    'mnb__alpha': [0.01, 0.1, 0.5, 1.0, 2.0, 5.0],\n",
    "    'mnb__fit_prior': [True, False],\n",
    "    'mnb__class_prior': [None,[0.66,0.34]]\n",
    "}\n",
    "\n",
    "rs = RandomizedSearchCV(estimator= pipe, \n",
    "                        param_distributions= params,\n",
    "                        n_iter=100, \n",
    "                        cv=5,\n",
    "                        verbose=1,\n",
    "                        n_jobs=-1,\n",
    "                        scoring=SCORING,\n",
    "                        refit= 'roc_auc',\n",
    "                        random_state=42)\n",
    "rand_search = rs.fit(X_train_clean, y_train)\n",
    "RandCV_scores('mnb',rand_search)"
   ]
  },
  {
   "cell_type": "code",
   "execution_count": 126,
   "id": "1bd7efc7-1c7b-49f3-9fb9-e4e5e80ae696",
   "metadata": {},
   "outputs": [
    {
     "data": {
      "text/html": [
       "<div>\n",
       "<style scoped>\n",
       "    .dataframe tbody tr th:only-of-type {\n",
       "        vertical-align: middle;\n",
       "    }\n",
       "\n",
       "    .dataframe tbody tr th {\n",
       "        vertical-align: top;\n",
       "    }\n",
       "\n",
       "    .dataframe thead th {\n",
       "        text-align: right;\n",
       "    }\n",
       "</style>\n",
       "<table border=\"1\" class=\"dataframe\">\n",
       "  <thead>\n",
       "    <tr style=\"text-align: right;\">\n",
       "      <th></th>\n",
       "      <th>Accuracy</th>\n",
       "      <th>ROC AUC</th>\n",
       "      <th>Time (s)</th>\n",
       "    </tr>\n",
       "  </thead>\n",
       "  <tbody>\n",
       "    <tr>\n",
       "      <th>svc</th>\n",
       "      <td>0.9045</td>\n",
       "      <td>0.959</td>\n",
       "      <td>144</td>\n",
       "    </tr>\n",
       "  </tbody>\n",
       "</table>\n",
       "</div>"
      ],
      "text/plain": [
       "     Accuracy  ROC AUC  Time (s)\n",
       "svc    0.9045    0.959       144"
      ]
     },
     "metadata": {},
     "output_type": "display_data"
    }
   ],
   "source": [
    "# SVC\n",
    "from sklearn.svm import SVC\n",
    "\n",
    "clf = SVC(C=1.0, kernel='rbf', gamma='scale')\n",
    "\n",
    "pipe = Pipeline([\n",
    "    (\"count\", vectorizer),\n",
    "    ('feature_selection', k_best),\n",
    "    (\"svc\", clf)])\n",
    "\n",
    "model_cv_scores(pipe, 'svc', X= X_train_clean, y= y_train, scoring=SCORING, cv=skf)\n",
    "# Too Slow even for one round, not doing RandomizedCV"
   ]
  },
  {
   "cell_type": "code",
   "execution_count": 128,
   "id": "f5ef7958-3dc0-4ac5-97a0-b9dfa37f391a",
   "metadata": {},
   "outputs": [
    {
     "data": {
      "text/html": [
       "<div>\n",
       "<style scoped>\n",
       "    .dataframe tbody tr th:only-of-type {\n",
       "        vertical-align: middle;\n",
       "    }\n",
       "\n",
       "    .dataframe tbody tr th {\n",
       "        vertical-align: top;\n",
       "    }\n",
       "\n",
       "    .dataframe thead th {\n",
       "        text-align: right;\n",
       "    }\n",
       "</style>\n",
       "<table border=\"1\" class=\"dataframe\">\n",
       "  <thead>\n",
       "    <tr style=\"text-align: right;\">\n",
       "      <th></th>\n",
       "      <th>Accuracy</th>\n",
       "      <th>ROC AUC</th>\n",
       "      <th>Time (s)</th>\n",
       "    </tr>\n",
       "  </thead>\n",
       "  <tbody>\n",
       "    <tr>\n",
       "      <th>gbc</th>\n",
       "      <td>0.8699</td>\n",
       "      <td>0.94</td>\n",
       "      <td>16</td>\n",
       "    </tr>\n",
       "  </tbody>\n",
       "</table>\n",
       "</div>"
      ],
      "text/plain": [
       "     Accuracy  ROC AUC  Time (s)\n",
       "gbc    0.8699     0.94        16"
      ]
     },
     "metadata": {},
     "output_type": "display_data"
    }
   ],
   "source": [
    "# GradientBoostingClassifier\n",
    "from sklearn.ensemble import GradientBoostingClassifier\n",
    "clf = GradientBoostingClassifier(n_estimators=100, learning_rate=0.1,\n",
    "                                    max_depth=3, min_samples_split=2,\n",
    "                                    max_features=None)\n",
    "\n",
    "pipe = Pipeline([\n",
    "    (\"count\", vectorizer),\n",
    "    ('feature_selection', k_best),\n",
    "    (\"gbc\", clf)])\n",
    "\n",
    "model_cv_scores(pipe, 'gbc', X= X_train_clean, y= y_train, scoring=SCORING, cv=skf)"
   ]
  },
  {
   "cell_type": "code",
   "execution_count": 130,
   "id": "2f2033f9-f9be-4bf2-894b-ae325a2df3f2",
   "metadata": {
    "collapsed": true,
    "jupyter": {
     "outputs_hidden": true,
     "source_hidden": true
    }
   },
   "outputs": [
    {
     "name": "stdout",
     "output_type": "stream",
     "text": [
      "Fitting 3 folds for each of 100 candidates, totalling 300 fits\n"
     ]
    },
    {
     "ename": "KeyboardInterrupt",
     "evalue": "",
     "output_type": "error",
     "traceback": [
      "\u001b[0;31m---------------------------------------------------------------------------\u001b[0m",
      "\u001b[0;31mKeyboardInterrupt\u001b[0m                         Traceback (most recent call last)",
      "Cell \u001b[0;32mIn[130], line 27\u001b[0m\n\u001b[1;32m      9\u001b[0m params \u001b[38;5;241m=\u001b[39m {\n\u001b[1;32m     10\u001b[0m     \u001b[38;5;124m'\u001b[39m\u001b[38;5;124mgbc__n_estimators\u001b[39m\u001b[38;5;124m'\u001b[39m: [\u001b[38;5;241m100\u001b[39m, \u001b[38;5;241m200\u001b[39m, \u001b[38;5;241m300\u001b[39m],  \u001b[38;5;66;03m# Number of boosting stages\u001b[39;00m\n\u001b[1;32m     11\u001b[0m     \u001b[38;5;124m'\u001b[39m\u001b[38;5;124mgbc__learning_rate\u001b[39m\u001b[38;5;124m'\u001b[39m: [\u001b[38;5;241m0.01\u001b[39m, \u001b[38;5;241m0.05\u001b[39m, \u001b[38;5;241m0.1\u001b[39m, \u001b[38;5;241m0.2\u001b[39m],  \u001b[38;5;66;03m# Learning rate\u001b[39;00m\n\u001b[0;32m   (...)\u001b[0m\n\u001b[1;32m     15\u001b[0m     \u001b[38;5;124m'\u001b[39m\u001b[38;5;124mgbc__subsample\u001b[39m\u001b[38;5;124m'\u001b[39m: [\u001b[38;5;241m0.8\u001b[39m, \u001b[38;5;241m0.9\u001b[39m, \u001b[38;5;241m1.0\u001b[39m],  \u001b[38;5;66;03m# The fraction of samples to be used for fitting the individual base learners\u001b[39;00m\n\u001b[1;32m     16\u001b[0m }\n\u001b[1;32m     18\u001b[0m rs \u001b[38;5;241m=\u001b[39m RandomizedSearchCV(estimator\u001b[38;5;241m=\u001b[39m pipe, \n\u001b[1;32m     19\u001b[0m                         param_distributions\u001b[38;5;241m=\u001b[39m params,\n\u001b[1;32m     20\u001b[0m                         n_iter\u001b[38;5;241m=\u001b[39m\u001b[38;5;241m100\u001b[39m, \n\u001b[0;32m   (...)\u001b[0m\n\u001b[1;32m     25\u001b[0m                         refit\u001b[38;5;241m=\u001b[39m \u001b[38;5;124m'\u001b[39m\u001b[38;5;124mroc_auc\u001b[39m\u001b[38;5;124m'\u001b[39m,\n\u001b[1;32m     26\u001b[0m                         random_state\u001b[38;5;241m=\u001b[39m\u001b[38;5;241m42\u001b[39m)\n\u001b[0;32m---> 27\u001b[0m rand_search \u001b[38;5;241m=\u001b[39m \u001b[43mrs\u001b[49m\u001b[38;5;241;43m.\u001b[39;49m\u001b[43mfit\u001b[49m\u001b[43m(\u001b[49m\u001b[43mX_train_clean\u001b[49m\u001b[43m,\u001b[49m\u001b[43m \u001b[49m\u001b[43my_train\u001b[49m\u001b[43m)\u001b[49m\n\u001b[1;32m     28\u001b[0m RandCV_scores(\u001b[38;5;124m'\u001b[39m\u001b[38;5;124mgbc\u001b[39m\u001b[38;5;124m'\u001b[39m,rand_search)\n",
      "File \u001b[0;32m~/anaconda3/envs/capstone-env/lib/python3.11/site-packages/sklearn/base.py:1474\u001b[0m, in \u001b[0;36m_fit_context.<locals>.decorator.<locals>.wrapper\u001b[0;34m(estimator, *args, **kwargs)\u001b[0m\n\u001b[1;32m   1467\u001b[0m     estimator\u001b[38;5;241m.\u001b[39m_validate_params()\n\u001b[1;32m   1469\u001b[0m \u001b[38;5;28;01mwith\u001b[39;00m config_context(\n\u001b[1;32m   1470\u001b[0m     skip_parameter_validation\u001b[38;5;241m=\u001b[39m(\n\u001b[1;32m   1471\u001b[0m         prefer_skip_nested_validation \u001b[38;5;129;01mor\u001b[39;00m global_skip_validation\n\u001b[1;32m   1472\u001b[0m     )\n\u001b[1;32m   1473\u001b[0m ):\n\u001b[0;32m-> 1474\u001b[0m     \u001b[38;5;28;01mreturn\u001b[39;00m \u001b[43mfit_method\u001b[49m\u001b[43m(\u001b[49m\u001b[43mestimator\u001b[49m\u001b[43m,\u001b[49m\u001b[43m \u001b[49m\u001b[38;5;241;43m*\u001b[39;49m\u001b[43margs\u001b[49m\u001b[43m,\u001b[49m\u001b[43m \u001b[49m\u001b[38;5;241;43m*\u001b[39;49m\u001b[38;5;241;43m*\u001b[39;49m\u001b[43mkwargs\u001b[49m\u001b[43m)\u001b[49m\n",
      "File \u001b[0;32m~/anaconda3/envs/capstone-env/lib/python3.11/site-packages/sklearn/model_selection/_search.py:970\u001b[0m, in \u001b[0;36mBaseSearchCV.fit\u001b[0;34m(self, X, y, **params)\u001b[0m\n\u001b[1;32m    964\u001b[0m     results \u001b[38;5;241m=\u001b[39m \u001b[38;5;28mself\u001b[39m\u001b[38;5;241m.\u001b[39m_format_results(\n\u001b[1;32m    965\u001b[0m         all_candidate_params, n_splits, all_out, all_more_results\n\u001b[1;32m    966\u001b[0m     )\n\u001b[1;32m    968\u001b[0m     \u001b[38;5;28;01mreturn\u001b[39;00m results\n\u001b[0;32m--> 970\u001b[0m \u001b[38;5;28;43mself\u001b[39;49m\u001b[38;5;241;43m.\u001b[39;49m\u001b[43m_run_search\u001b[49m\u001b[43m(\u001b[49m\u001b[43mevaluate_candidates\u001b[49m\u001b[43m)\u001b[49m\n\u001b[1;32m    972\u001b[0m \u001b[38;5;66;03m# multimetric is determined here because in the case of a callable\u001b[39;00m\n\u001b[1;32m    973\u001b[0m \u001b[38;5;66;03m# self.scoring the return type is only known after calling\u001b[39;00m\n\u001b[1;32m    974\u001b[0m first_test_score \u001b[38;5;241m=\u001b[39m all_out[\u001b[38;5;241m0\u001b[39m][\u001b[38;5;124m\"\u001b[39m\u001b[38;5;124mtest_scores\u001b[39m\u001b[38;5;124m\"\u001b[39m]\n",
      "File \u001b[0;32m~/anaconda3/envs/capstone-env/lib/python3.11/site-packages/sklearn/model_selection/_search.py:1914\u001b[0m, in \u001b[0;36mRandomizedSearchCV._run_search\u001b[0;34m(self, evaluate_candidates)\u001b[0m\n\u001b[1;32m   1912\u001b[0m \u001b[38;5;28;01mdef\u001b[39;00m \u001b[38;5;21m_run_search\u001b[39m(\u001b[38;5;28mself\u001b[39m, evaluate_candidates):\n\u001b[1;32m   1913\u001b[0m \u001b[38;5;250m    \u001b[39m\u001b[38;5;124;03m\"\"\"Search n_iter candidates from param_distributions\"\"\"\u001b[39;00m\n\u001b[0;32m-> 1914\u001b[0m     \u001b[43mevaluate_candidates\u001b[49m\u001b[43m(\u001b[49m\n\u001b[1;32m   1915\u001b[0m \u001b[43m        \u001b[49m\u001b[43mParameterSampler\u001b[49m\u001b[43m(\u001b[49m\n\u001b[1;32m   1916\u001b[0m \u001b[43m            \u001b[49m\u001b[38;5;28;43mself\u001b[39;49m\u001b[38;5;241;43m.\u001b[39;49m\u001b[43mparam_distributions\u001b[49m\u001b[43m,\u001b[49m\u001b[43m \u001b[49m\u001b[38;5;28;43mself\u001b[39;49m\u001b[38;5;241;43m.\u001b[39;49m\u001b[43mn_iter\u001b[49m\u001b[43m,\u001b[49m\u001b[43m \u001b[49m\u001b[43mrandom_state\u001b[49m\u001b[38;5;241;43m=\u001b[39;49m\u001b[38;5;28;43mself\u001b[39;49m\u001b[38;5;241;43m.\u001b[39;49m\u001b[43mrandom_state\u001b[49m\n\u001b[1;32m   1917\u001b[0m \u001b[43m        \u001b[49m\u001b[43m)\u001b[49m\n\u001b[1;32m   1918\u001b[0m \u001b[43m    \u001b[49m\u001b[43m)\u001b[49m\n",
      "File \u001b[0;32m~/anaconda3/envs/capstone-env/lib/python3.11/site-packages/sklearn/model_selection/_search.py:916\u001b[0m, in \u001b[0;36mBaseSearchCV.fit.<locals>.evaluate_candidates\u001b[0;34m(candidate_params, cv, more_results)\u001b[0m\n\u001b[1;32m    908\u001b[0m \u001b[38;5;28;01mif\u001b[39;00m \u001b[38;5;28mself\u001b[39m\u001b[38;5;241m.\u001b[39mverbose \u001b[38;5;241m>\u001b[39m \u001b[38;5;241m0\u001b[39m:\n\u001b[1;32m    909\u001b[0m     \u001b[38;5;28mprint\u001b[39m(\n\u001b[1;32m    910\u001b[0m         \u001b[38;5;124m\"\u001b[39m\u001b[38;5;124mFitting \u001b[39m\u001b[38;5;132;01m{0}\u001b[39;00m\u001b[38;5;124m folds for each of \u001b[39m\u001b[38;5;132;01m{1}\u001b[39;00m\u001b[38;5;124m candidates,\u001b[39m\u001b[38;5;124m\"\u001b[39m\n\u001b[1;32m    911\u001b[0m         \u001b[38;5;124m\"\u001b[39m\u001b[38;5;124m totalling \u001b[39m\u001b[38;5;132;01m{2}\u001b[39;00m\u001b[38;5;124m fits\u001b[39m\u001b[38;5;124m\"\u001b[39m\u001b[38;5;241m.\u001b[39mformat(\n\u001b[1;32m    912\u001b[0m             n_splits, n_candidates, n_candidates \u001b[38;5;241m*\u001b[39m n_splits\n\u001b[1;32m    913\u001b[0m         )\n\u001b[1;32m    914\u001b[0m     )\n\u001b[0;32m--> 916\u001b[0m out \u001b[38;5;241m=\u001b[39m \u001b[43mparallel\u001b[49m\u001b[43m(\u001b[49m\n\u001b[1;32m    917\u001b[0m \u001b[43m    \u001b[49m\u001b[43mdelayed\u001b[49m\u001b[43m(\u001b[49m\u001b[43m_fit_and_score\u001b[49m\u001b[43m)\u001b[49m\u001b[43m(\u001b[49m\n\u001b[1;32m    918\u001b[0m \u001b[43m        \u001b[49m\u001b[43mclone\u001b[49m\u001b[43m(\u001b[49m\u001b[43mbase_estimator\u001b[49m\u001b[43m)\u001b[49m\u001b[43m,\u001b[49m\n\u001b[1;32m    919\u001b[0m \u001b[43m        \u001b[49m\u001b[43mX\u001b[49m\u001b[43m,\u001b[49m\n\u001b[1;32m    920\u001b[0m \u001b[43m        \u001b[49m\u001b[43my\u001b[49m\u001b[43m,\u001b[49m\n\u001b[1;32m    921\u001b[0m \u001b[43m        \u001b[49m\u001b[43mtrain\u001b[49m\u001b[38;5;241;43m=\u001b[39;49m\u001b[43mtrain\u001b[49m\u001b[43m,\u001b[49m\n\u001b[1;32m    922\u001b[0m \u001b[43m        \u001b[49m\u001b[43mtest\u001b[49m\u001b[38;5;241;43m=\u001b[39;49m\u001b[43mtest\u001b[49m\u001b[43m,\u001b[49m\n\u001b[1;32m    923\u001b[0m \u001b[43m        \u001b[49m\u001b[43mparameters\u001b[49m\u001b[38;5;241;43m=\u001b[39;49m\u001b[43mparameters\u001b[49m\u001b[43m,\u001b[49m\n\u001b[1;32m    924\u001b[0m \u001b[43m        \u001b[49m\u001b[43msplit_progress\u001b[49m\u001b[38;5;241;43m=\u001b[39;49m\u001b[43m(\u001b[49m\u001b[43msplit_idx\u001b[49m\u001b[43m,\u001b[49m\u001b[43m \u001b[49m\u001b[43mn_splits\u001b[49m\u001b[43m)\u001b[49m\u001b[43m,\u001b[49m\n\u001b[1;32m    925\u001b[0m \u001b[43m        \u001b[49m\u001b[43mcandidate_progress\u001b[49m\u001b[38;5;241;43m=\u001b[39;49m\u001b[43m(\u001b[49m\u001b[43mcand_idx\u001b[49m\u001b[43m,\u001b[49m\u001b[43m \u001b[49m\u001b[43mn_candidates\u001b[49m\u001b[43m)\u001b[49m\u001b[43m,\u001b[49m\n\u001b[1;32m    926\u001b[0m \u001b[43m        \u001b[49m\u001b[38;5;241;43m*\u001b[39;49m\u001b[38;5;241;43m*\u001b[39;49m\u001b[43mfit_and_score_kwargs\u001b[49m\u001b[43m,\u001b[49m\n\u001b[1;32m    927\u001b[0m \u001b[43m    \u001b[49m\u001b[43m)\u001b[49m\n\u001b[1;32m    928\u001b[0m \u001b[43m    \u001b[49m\u001b[38;5;28;43;01mfor\u001b[39;49;00m\u001b[43m \u001b[49m\u001b[43m(\u001b[49m\u001b[43mcand_idx\u001b[49m\u001b[43m,\u001b[49m\u001b[43m \u001b[49m\u001b[43mparameters\u001b[49m\u001b[43m)\u001b[49m\u001b[43m,\u001b[49m\u001b[43m \u001b[49m\u001b[43m(\u001b[49m\u001b[43msplit_idx\u001b[49m\u001b[43m,\u001b[49m\u001b[43m \u001b[49m\u001b[43m(\u001b[49m\u001b[43mtrain\u001b[49m\u001b[43m,\u001b[49m\u001b[43m \u001b[49m\u001b[43mtest\u001b[49m\u001b[43m)\u001b[49m\u001b[43m)\u001b[49m\u001b[43m \u001b[49m\u001b[38;5;129;43;01min\u001b[39;49;00m\u001b[43m \u001b[49m\u001b[43mproduct\u001b[49m\u001b[43m(\u001b[49m\n\u001b[1;32m    929\u001b[0m \u001b[43m        \u001b[49m\u001b[38;5;28;43menumerate\u001b[39;49m\u001b[43m(\u001b[49m\u001b[43mcandidate_params\u001b[49m\u001b[43m)\u001b[49m\u001b[43m,\u001b[49m\n\u001b[1;32m    930\u001b[0m \u001b[43m        \u001b[49m\u001b[38;5;28;43menumerate\u001b[39;49m\u001b[43m(\u001b[49m\u001b[43mcv\u001b[49m\u001b[38;5;241;43m.\u001b[39;49m\u001b[43msplit\u001b[49m\u001b[43m(\u001b[49m\u001b[43mX\u001b[49m\u001b[43m,\u001b[49m\u001b[43m \u001b[49m\u001b[43my\u001b[49m\u001b[43m,\u001b[49m\u001b[43m \u001b[49m\u001b[38;5;241;43m*\u001b[39;49m\u001b[38;5;241;43m*\u001b[39;49m\u001b[43mrouted_params\u001b[49m\u001b[38;5;241;43m.\u001b[39;49m\u001b[43msplitter\u001b[49m\u001b[38;5;241;43m.\u001b[39;49m\u001b[43msplit\u001b[49m\u001b[43m)\u001b[49m\u001b[43m)\u001b[49m\u001b[43m,\u001b[49m\n\u001b[1;32m    931\u001b[0m \u001b[43m    \u001b[49m\u001b[43m)\u001b[49m\n\u001b[1;32m    932\u001b[0m \u001b[43m\u001b[49m\u001b[43m)\u001b[49m\n\u001b[1;32m    934\u001b[0m \u001b[38;5;28;01mif\u001b[39;00m \u001b[38;5;28mlen\u001b[39m(out) \u001b[38;5;241m<\u001b[39m \u001b[38;5;241m1\u001b[39m:\n\u001b[1;32m    935\u001b[0m     \u001b[38;5;28;01mraise\u001b[39;00m \u001b[38;5;167;01mValueError\u001b[39;00m(\n\u001b[1;32m    936\u001b[0m         \u001b[38;5;124m\"\u001b[39m\u001b[38;5;124mNo fits were performed. \u001b[39m\u001b[38;5;124m\"\u001b[39m\n\u001b[1;32m    937\u001b[0m         \u001b[38;5;124m\"\u001b[39m\u001b[38;5;124mWas the CV iterator empty? \u001b[39m\u001b[38;5;124m\"\u001b[39m\n\u001b[1;32m    938\u001b[0m         \u001b[38;5;124m\"\u001b[39m\u001b[38;5;124mWere there no candidates?\u001b[39m\u001b[38;5;124m\"\u001b[39m\n\u001b[1;32m    939\u001b[0m     )\n",
      "File \u001b[0;32m~/anaconda3/envs/capstone-env/lib/python3.11/site-packages/sklearn/utils/parallel.py:67\u001b[0m, in \u001b[0;36mParallel.__call__\u001b[0;34m(self, iterable)\u001b[0m\n\u001b[1;32m     62\u001b[0m config \u001b[38;5;241m=\u001b[39m get_config()\n\u001b[1;32m     63\u001b[0m iterable_with_config \u001b[38;5;241m=\u001b[39m (\n\u001b[1;32m     64\u001b[0m     (_with_config(delayed_func, config), args, kwargs)\n\u001b[1;32m     65\u001b[0m     \u001b[38;5;28;01mfor\u001b[39;00m delayed_func, args, kwargs \u001b[38;5;129;01min\u001b[39;00m iterable\n\u001b[1;32m     66\u001b[0m )\n\u001b[0;32m---> 67\u001b[0m \u001b[38;5;28;01mreturn\u001b[39;00m \u001b[38;5;28;43msuper\u001b[39;49m\u001b[43m(\u001b[49m\u001b[43m)\u001b[49m\u001b[38;5;241;43m.\u001b[39;49m\u001b[38;5;21;43m__call__\u001b[39;49m\u001b[43m(\u001b[49m\u001b[43miterable_with_config\u001b[49m\u001b[43m)\u001b[49m\n",
      "File \u001b[0;32m~/anaconda3/envs/capstone-env/lib/python3.11/site-packages/joblib/parallel.py:1952\u001b[0m, in \u001b[0;36mParallel.__call__\u001b[0;34m(self, iterable)\u001b[0m\n\u001b[1;32m   1946\u001b[0m \u001b[38;5;66;03m# The first item from the output is blank, but it makes the interpreter\u001b[39;00m\n\u001b[1;32m   1947\u001b[0m \u001b[38;5;66;03m# progress until it enters the Try/Except block of the generator and\u001b[39;00m\n\u001b[1;32m   1948\u001b[0m \u001b[38;5;66;03m# reach the first `yield` statement. This starts the aynchronous\u001b[39;00m\n\u001b[1;32m   1949\u001b[0m \u001b[38;5;66;03m# dispatch of the tasks to the workers.\u001b[39;00m\n\u001b[1;32m   1950\u001b[0m \u001b[38;5;28mnext\u001b[39m(output)\n\u001b[0;32m-> 1952\u001b[0m \u001b[38;5;28;01mreturn\u001b[39;00m output \u001b[38;5;28;01mif\u001b[39;00m \u001b[38;5;28mself\u001b[39m\u001b[38;5;241m.\u001b[39mreturn_generator \u001b[38;5;28;01melse\u001b[39;00m \u001b[38;5;28mlist\u001b[39m(output)\n",
      "File \u001b[0;32m~/anaconda3/envs/capstone-env/lib/python3.11/site-packages/joblib/parallel.py:1595\u001b[0m, in \u001b[0;36mParallel._get_outputs\u001b[0;34m(self, iterator, pre_dispatch)\u001b[0m\n\u001b[1;32m   1592\u001b[0m     \u001b[38;5;28;01myield\u001b[39;00m\n\u001b[1;32m   1594\u001b[0m     \u001b[38;5;28;01mwith\u001b[39;00m \u001b[38;5;28mself\u001b[39m\u001b[38;5;241m.\u001b[39m_backend\u001b[38;5;241m.\u001b[39mretrieval_context():\n\u001b[0;32m-> 1595\u001b[0m         \u001b[38;5;28;01myield from\u001b[39;00m \u001b[38;5;28mself\u001b[39m\u001b[38;5;241m.\u001b[39m_retrieve()\n\u001b[1;32m   1597\u001b[0m \u001b[38;5;28;01mexcept\u001b[39;00m \u001b[38;5;167;01mGeneratorExit\u001b[39;00m:\n\u001b[1;32m   1598\u001b[0m     \u001b[38;5;66;03m# The generator has been garbage collected before being fully\u001b[39;00m\n\u001b[1;32m   1599\u001b[0m     \u001b[38;5;66;03m# consumed. This aborts the remaining tasks if possible and warn\u001b[39;00m\n\u001b[1;32m   1600\u001b[0m     \u001b[38;5;66;03m# the user if necessary.\u001b[39;00m\n\u001b[1;32m   1601\u001b[0m     \u001b[38;5;28mself\u001b[39m\u001b[38;5;241m.\u001b[39m_exception \u001b[38;5;241m=\u001b[39m \u001b[38;5;28;01mTrue\u001b[39;00m\n",
      "File \u001b[0;32m~/anaconda3/envs/capstone-env/lib/python3.11/site-packages/joblib/parallel.py:1707\u001b[0m, in \u001b[0;36mParallel._retrieve\u001b[0;34m(self)\u001b[0m\n\u001b[1;32m   1702\u001b[0m \u001b[38;5;66;03m# If the next job is not ready for retrieval yet, we just wait for\u001b[39;00m\n\u001b[1;32m   1703\u001b[0m \u001b[38;5;66;03m# async callbacks to progress.\u001b[39;00m\n\u001b[1;32m   1704\u001b[0m \u001b[38;5;28;01mif\u001b[39;00m ((\u001b[38;5;28mlen\u001b[39m(\u001b[38;5;28mself\u001b[39m\u001b[38;5;241m.\u001b[39m_jobs) \u001b[38;5;241m==\u001b[39m \u001b[38;5;241m0\u001b[39m) \u001b[38;5;129;01mor\u001b[39;00m\n\u001b[1;32m   1705\u001b[0m     (\u001b[38;5;28mself\u001b[39m\u001b[38;5;241m.\u001b[39m_jobs[\u001b[38;5;241m0\u001b[39m]\u001b[38;5;241m.\u001b[39mget_status(\n\u001b[1;32m   1706\u001b[0m         timeout\u001b[38;5;241m=\u001b[39m\u001b[38;5;28mself\u001b[39m\u001b[38;5;241m.\u001b[39mtimeout) \u001b[38;5;241m==\u001b[39m TASK_PENDING)):\n\u001b[0;32m-> 1707\u001b[0m     time\u001b[38;5;241m.\u001b[39msleep(\u001b[38;5;241m0.01\u001b[39m)\n\u001b[1;32m   1708\u001b[0m     \u001b[38;5;28;01mcontinue\u001b[39;00m\n\u001b[1;32m   1710\u001b[0m \u001b[38;5;66;03m# We need to be careful: the job list can be filling up as\u001b[39;00m\n\u001b[1;32m   1711\u001b[0m \u001b[38;5;66;03m# we empty it and Python list are not thread-safe by\u001b[39;00m\n\u001b[1;32m   1712\u001b[0m \u001b[38;5;66;03m# default hence the use of the lock\u001b[39;00m\n",
      "\u001b[0;31mKeyboardInterrupt\u001b[0m: "
     ]
    }
   ],
   "source": [
    "# GradientBoostingClassifier RandCV\n",
    "clf = GradientBoostingClassifier()\n",
    "\n",
    "pipe = Pipeline([\n",
    "    (\"count\", vectorizer),\n",
    "    ('feature_selection', k_best),\n",
    "    (\"gbc\", clf)])\n",
    "\n",
    "params = {\n",
    "    'gbc__n_estimators': [100, 200, 300],  # Number of boosting stages\n",
    "    'gbc__learning_rate': [0.01, 0.05, 0.1, 0.2],  # Learning rate\n",
    "    'gbc__max_depth': [3, 4, 5, 6],  # Maximum depth of the individual estimators\n",
    "    'gbc__min_samples_split': [2, 4, 6],  # Minimum number of samples required to split an internal node\n",
    "    'gbc__max_features': [None, 'sqrt', 'log2'],  # Number of features to consider when looking for the best split\n",
    "    'gbc__subsample': [0.8, 0.9, 1.0],  # The fraction of samples to be used for fitting the individual base learners\n",
    "}\n",
    "\n",
    "rs = RandomizedSearchCV(estimator= pipe, \n",
    "                        param_distributions= params,\n",
    "                        n_iter=100, \n",
    "                        cv=3,\n",
    "                        verbose=1,\n",
    "                        n_jobs=-1,\n",
    "                        scoring=SCORING,\n",
    "                        refit= 'roc_auc',\n",
    "                        random_state=42)\n",
    "rand_search = rs.fit(X_train_clean, y_train)\n",
    "RandCV_scores('gbc',rand_search)"
   ]
  },
  {
   "cell_type": "code",
   "execution_count": 131,
   "id": "2707c356-6d93-4eb2-9e4f-0c0edbd25ee2",
   "metadata": {},
   "outputs": [
    {
     "data": {
      "text/html": [
       "<div>\n",
       "<style scoped>\n",
       "    .dataframe tbody tr th:only-of-type {\n",
       "        vertical-align: middle;\n",
       "    }\n",
       "\n",
       "    .dataframe tbody tr th {\n",
       "        vertical-align: top;\n",
       "    }\n",
       "\n",
       "    .dataframe thead th {\n",
       "        text-align: right;\n",
       "    }\n",
       "</style>\n",
       "<table border=\"1\" class=\"dataframe\">\n",
       "  <thead>\n",
       "    <tr style=\"text-align: right;\">\n",
       "      <th></th>\n",
       "      <th>Accuracy</th>\n",
       "      <th>ROC AUC</th>\n",
       "      <th>Time (s)</th>\n",
       "    </tr>\n",
       "  </thead>\n",
       "  <tbody>\n",
       "    <tr>\n",
       "      <th>rfc</th>\n",
       "      <td>0.8862</td>\n",
       "      <td>0.9488</td>\n",
       "      <td>30</td>\n",
       "    </tr>\n",
       "  </tbody>\n",
       "</table>\n",
       "</div>"
      ],
      "text/plain": [
       "     Accuracy  ROC AUC  Time (s)\n",
       "rfc    0.8862   0.9488        30"
      ]
     },
     "metadata": {},
     "output_type": "display_data"
    }
   ],
   "source": [
    "# RandomForestClassifier\n",
    "from sklearn.ensemble import RandomForestClassifier\n",
    "\n",
    "clf = RandomForestClassifier(n_estimators=100, max_depth=None,\n",
    "                                min_samples_split=2, min_samples_leaf=1,\n",
    "                                max_features='sqrt')\n",
    "pipe = Pipeline([\n",
    "    (\"count\", vectorizer),\n",
    "    ('feature_selection', k_best),\n",
    "    (\"rfc\", clf)])\n",
    "\n",
    "model_cv_scores(pipe, 'rfc', X= X_train_clean, y= y_train, scoring=SCORING, cv=skf)"
   ]
  },
  {
   "cell_type": "code",
   "execution_count": null,
   "id": "1ed9ddd4-1675-4f77-aa50-f8bc3b60c262",
   "metadata": {
    "jupyter": {
     "source_hidden": true
    }
   },
   "outputs": [],
   "source": [
    "# RandomForestClassifier RandCV\n",
    "clf = RandomForestClassifier()\n",
    "\n",
    "pipe = Pipeline([\n",
    "    (\"count\", vectorizer),\n",
    "    ('feature_selection', k_best),\n",
    "    (\"rfc\", clf)])\n",
    "\n",
    "params = {\n",
    "    'rfc__n_estimators': [100, 200, 300, 400, 500],  # Number of trees\n",
    "    'rfc__max_depth': [None, 10, 20, 30, 40, 50],  # Maximum depth of the trees\n",
    "    'rfc__min_samples_split': [2, 5, 10],  # Minimum number of samples required to split an internal node\n",
    "    'rfc__min_samples_leaf': [1, 2, 4],  # Minimum number of samples required to be at a leaf node\n",
    "    'rfc__max_features': ['auto', 'sqrt', 'log2'],  # Number of features to consider for the best split\n",
    "    'rfc__bootstrap': [True, False],  # Method of selecting samples for training each tree\n",
    "}\n",
    "\n",
    "rs = RandomizedSearchCV(estimator= pipe, \n",
    "                        param_distributions= params,\n",
    "                        n_iter=100, \n",
    "                        cv=5,\n",
    "                        verbose=1,\n",
    "                        n_jobs=-1,\n",
    "                        scoring=SCORING,\n",
    "                        refit= 'roc_auc',\n",
    "                        random_state=42)\n",
    "rand_search = rs.fit(X_train_clean, y_train)\n",
    "RandCV_scores('rfc',rand_search)"
   ]
  },
  {
   "cell_type": "markdown",
   "id": "3aaf641b-7044-4f7d-8b50-2441b87995a0",
   "metadata": {},
   "source": [
    "#### TfidfVectorizer"
   ]
  },
  {
   "cell_type": "code",
   "execution_count": 132,
   "id": "9679d5e2",
   "metadata": {},
   "outputs": [
    {
     "data": {
      "text/html": [
       "<div>\n",
       "<style scoped>\n",
       "    .dataframe tbody tr th:only-of-type {\n",
       "        vertical-align: middle;\n",
       "    }\n",
       "\n",
       "    .dataframe tbody tr th {\n",
       "        vertical-align: top;\n",
       "    }\n",
       "\n",
       "    .dataframe thead th {\n",
       "        text-align: right;\n",
       "    }\n",
       "</style>\n",
       "<table border=\"1\" class=\"dataframe\">\n",
       "  <thead>\n",
       "    <tr style=\"text-align: right;\">\n",
       "      <th></th>\n",
       "      <th>Accuracy</th>\n",
       "      <th>ROC AUC</th>\n",
       "      <th>Time (s)</th>\n",
       "    </tr>\n",
       "  </thead>\n",
       "  <tbody>\n",
       "    <tr>\n",
       "      <th>log_reg</th>\n",
       "      <td>0.9001</td>\n",
       "      <td>0.959</td>\n",
       "      <td>6</td>\n",
       "    </tr>\n",
       "  </tbody>\n",
       "</table>\n",
       "</div>"
      ],
      "text/plain": [
       "         Accuracy  ROC AUC  Time (s)\n",
       "log_reg    0.9001    0.959         6"
      ]
     },
     "metadata": {},
     "output_type": "display_data"
    }
   ],
   "source": [
    "# Baseline\n",
    "clf = LogisticRegression(max_iter=1000)\n",
    "\n",
    "pipe = Pipeline([\n",
    "    (\"count\", vectorizer),\n",
    "    ('tf_idf',tf_idf),\n",
    "    ('feature_selection', k_best),\n",
    "    (\"log_reg\", clf)])\n",
    "\n",
    "model_cv_scores(pipe, 'log_reg', X= X_train_clean, y= y_train, scoring=SCORING, cv=skf)"
   ]
  },
  {
   "cell_type": "code",
   "execution_count": 133,
   "id": "af60724d-95e3-4146-abd6-a5808a977d06",
   "metadata": {},
   "outputs": [
    {
     "data": {
      "text/html": [
       "<div>\n",
       "<style scoped>\n",
       "    .dataframe tbody tr th:only-of-type {\n",
       "        vertical-align: middle;\n",
       "    }\n",
       "\n",
       "    .dataframe tbody tr th {\n",
       "        vertical-align: top;\n",
       "    }\n",
       "\n",
       "    .dataframe thead th {\n",
       "        text-align: right;\n",
       "    }\n",
       "</style>\n",
       "<table border=\"1\" class=\"dataframe\">\n",
       "  <thead>\n",
       "    <tr style=\"text-align: right;\">\n",
       "      <th></th>\n",
       "      <th>Accuracy</th>\n",
       "      <th>ROC AUC</th>\n",
       "      <th>Time (s)</th>\n",
       "    </tr>\n",
       "  </thead>\n",
       "  <tbody>\n",
       "    <tr>\n",
       "      <th>mnb</th>\n",
       "      <td>0.8833</td>\n",
       "      <td>0.9458</td>\n",
       "      <td>6</td>\n",
       "    </tr>\n",
       "  </tbody>\n",
       "</table>\n",
       "</div>"
      ],
      "text/plain": [
       "     Accuracy  ROC AUC  Time (s)\n",
       "mnb    0.8833   0.9458         6"
      ]
     },
     "metadata": {},
     "output_type": "display_data"
    }
   ],
   "source": [
    "# MultinomialNB\n",
    "clf = MultinomialNB(alpha=1.0, fit_prior=True)\n",
    "\n",
    "pipe = Pipeline([\n",
    "    (\"count\", vectorizer),\n",
    "    ('tf_idf',tf_idf),\n",
    "    ('feature_selection', k_best),\n",
    "    (\"mnb\", clf)])\n",
    "\n",
    "model_cv_scores(pipe, 'mnb', X= X_train_clean, y= y_train, scoring=SCORING, cv=skf)"
   ]
  },
  {
   "cell_type": "code",
   "execution_count": 134,
   "id": "8e72d71f-2c07-4ffd-8a10-b7e0d603f4b4",
   "metadata": {},
   "outputs": [
    {
     "data": {
      "text/html": [
       "<div>\n",
       "<style scoped>\n",
       "    .dataframe tbody tr th:only-of-type {\n",
       "        vertical-align: middle;\n",
       "    }\n",
       "\n",
       "    .dataframe tbody tr th {\n",
       "        vertical-align: top;\n",
       "    }\n",
       "\n",
       "    .dataframe thead th {\n",
       "        text-align: right;\n",
       "    }\n",
       "</style>\n",
       "<table border=\"1\" class=\"dataframe\">\n",
       "  <thead>\n",
       "    <tr style=\"text-align: right;\">\n",
       "      <th></th>\n",
       "      <th>Accuracy</th>\n",
       "      <th>ROC AUC</th>\n",
       "      <th>Time (s)</th>\n",
       "    </tr>\n",
       "  </thead>\n",
       "  <tbody>\n",
       "    <tr>\n",
       "      <th>svc</th>\n",
       "      <td>0.9073</td>\n",
       "      <td>0.9589</td>\n",
       "      <td>206</td>\n",
       "    </tr>\n",
       "  </tbody>\n",
       "</table>\n",
       "</div>"
      ],
      "text/plain": [
       "     Accuracy  ROC AUC  Time (s)\n",
       "svc    0.9073   0.9589       206"
      ]
     },
     "metadata": {},
     "output_type": "display_data"
    }
   ],
   "source": [
    "# SVC\n",
    "clf = SVC(C=1.0, kernel='rbf', gamma='scale')\n",
    "\n",
    "pipe = Pipeline([\n",
    "    (\"count\", vectorizer),\n",
    "    ('tf_idf',tf_idf),\n",
    "    ('feature_selection', k_best),\n",
    "    (\"svc\", clf)])\n",
    "\n",
    "model_cv_scores(pipe, 'svc', X= X_train_clean, y= y_train, scoring=SCORING, cv=skf)"
   ]
  },
  {
   "cell_type": "code",
   "execution_count": 135,
   "id": "34c392f3-c9ef-4a91-b973-30a89451aed1",
   "metadata": {},
   "outputs": [
    {
     "data": {
      "text/html": [
       "<div>\n",
       "<style scoped>\n",
       "    .dataframe tbody tr th:only-of-type {\n",
       "        vertical-align: middle;\n",
       "    }\n",
       "\n",
       "    .dataframe tbody tr th {\n",
       "        vertical-align: top;\n",
       "    }\n",
       "\n",
       "    .dataframe thead th {\n",
       "        text-align: right;\n",
       "    }\n",
       "</style>\n",
       "<table border=\"1\" class=\"dataframe\">\n",
       "  <thead>\n",
       "    <tr style=\"text-align: right;\">\n",
       "      <th></th>\n",
       "      <th>Accuracy</th>\n",
       "      <th>ROC AUC</th>\n",
       "      <th>Time (s)</th>\n",
       "    </tr>\n",
       "  </thead>\n",
       "  <tbody>\n",
       "    <tr>\n",
       "      <th>gbc</th>\n",
       "      <td>0.8721</td>\n",
       "      <td>0.9402</td>\n",
       "      <td>47</td>\n",
       "    </tr>\n",
       "  </tbody>\n",
       "</table>\n",
       "</div>"
      ],
      "text/plain": [
       "     Accuracy  ROC AUC  Time (s)\n",
       "gbc    0.8721   0.9402        47"
      ]
     },
     "metadata": {},
     "output_type": "display_data"
    }
   ],
   "source": [
    "# GradientBoostingClassifier\n",
    "clf = GradientBoostingClassifier(n_estimators=100, learning_rate=0.1,\n",
    "                                    max_depth=3, min_samples_split=2,\n",
    "                                    max_features=None)\n",
    "pipe = Pipeline([\n",
    "    (\"count\", vectorizer),\n",
    "    ('tf_idf',tf_idf),\n",
    "    ('feature_selection', k_best),\n",
    "    (\"gbc\", clf)])\n",
    "\n",
    "model_cv_scores(pipe, 'gbc', X= X_train_clean, y= y_train, scoring=SCORING, cv=skf)"
   ]
  },
  {
   "cell_type": "code",
   "execution_count": 136,
   "id": "2f9f0b21-73b4-42d0-b2e2-6c7d562ebb8b",
   "metadata": {},
   "outputs": [
    {
     "data": {
      "text/html": [
       "<div>\n",
       "<style scoped>\n",
       "    .dataframe tbody tr th:only-of-type {\n",
       "        vertical-align: middle;\n",
       "    }\n",
       "\n",
       "    .dataframe tbody tr th {\n",
       "        vertical-align: top;\n",
       "    }\n",
       "\n",
       "    .dataframe thead th {\n",
       "        text-align: right;\n",
       "    }\n",
       "</style>\n",
       "<table border=\"1\" class=\"dataframe\">\n",
       "  <thead>\n",
       "    <tr style=\"text-align: right;\">\n",
       "      <th></th>\n",
       "      <th>Accuracy</th>\n",
       "      <th>ROC AUC</th>\n",
       "      <th>Time (s)</th>\n",
       "    </tr>\n",
       "  </thead>\n",
       "  <tbody>\n",
       "    <tr>\n",
       "      <th>rfc</th>\n",
       "      <td>0.8896</td>\n",
       "      <td>0.9504</td>\n",
       "      <td>29</td>\n",
       "    </tr>\n",
       "  </tbody>\n",
       "</table>\n",
       "</div>"
      ],
      "text/plain": [
       "     Accuracy  ROC AUC  Time (s)\n",
       "rfc    0.8896   0.9504        29"
      ]
     },
     "metadata": {},
     "output_type": "display_data"
    }
   ],
   "source": [
    "# RandomForestClassifier\n",
    "clf = RandomForestClassifier(n_estimators=100, max_depth=None,\n",
    "                                min_samples_split=2, min_samples_leaf=1,\n",
    "                                max_features='sqrt')\n",
    "pipe = Pipeline([\n",
    "    (\"count\", vectorizer),\n",
    "    ('tf_idf',tf_idf),\n",
    "    ('feature_selection', k_best),\n",
    "    (\"rfc\", clf)])\n",
    "\n",
    "model_cv_scores(pipe, 'rfc', X= X_train_clean, y= y_train, scoring=SCORING, cv=skf)"
   ]
  },
  {
   "cell_type": "code",
   "execution_count": null,
   "id": "fcc83359-c9e0-4177-b753-057bdd08c23d",
   "metadata": {},
   "outputs": [],
   "source": []
  }
 ],
 "metadata": {
  "kernelspec": {
   "display_name": "Python 3 (ipykernel)",
   "language": "python",
   "name": "python3"
  },
  "language_info": {
   "codemirror_mode": {
    "name": "ipython",
    "version": 3
   },
   "file_extension": ".py",
   "mimetype": "text/x-python",
   "name": "python",
   "nbconvert_exporter": "python",
   "pygments_lexer": "ipython3",
   "version": "3.11.8"
  }
 },
 "nbformat": 4,
 "nbformat_minor": 5
}
