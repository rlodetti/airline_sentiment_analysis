{
 "cells": [
  {
   "cell_type": "markdown",
   "id": "638d6e0b-1a03-489a-b271-4d20e5a2921f",
   "metadata": {},
   "source": [
    "## Data Preparation\n",
    "***\n",
    "To prepare my data for modeling I:\n",
    "- Reorganized the image files.\n",
    "- Imported my training data, standardizing aspect ratio.\n",
    "- Applied scaling to the training data for normalization.\n",
    "- Imported validation data to be used test the model's performance.\n",
    "- Created a specialized dataset specifically formatted for use with the ResNet50 classifier."
   ]
  },
  {
   "cell_type": "code",
   "execution_count": null,
   "id": "69aabdfa-a1ee-4769-882d-8c470f284df5",
   "metadata": {},
   "outputs": [],
   "source": []
  },
  {
   "cell_type": "code",
   "execution_count": null,
   "id": "9b4c7c5d-3278-42f1-8ad2-60358eada0cb",
   "metadata": {},
   "outputs": [],
   "source": []
  },
  {
   "cell_type": "code",
   "execution_count": null,
   "id": "96790e1e-7584-4552-983c-bfd47382e3ce",
   "metadata": {},
   "outputs": [],
   "source": []
  },
  {
   "cell_type": "code",
   "execution_count": null,
   "id": "880cdb29-6010-4be8-81c1-dd24845a8acb",
   "metadata": {},
   "outputs": [],
   "source": []
  },
  {
   "cell_type": "code",
   "execution_count": null,
   "id": "515258f1-7d48-4676-8eeb-b3c3e9862c65",
   "metadata": {},
   "outputs": [],
   "source": []
  },
  {
   "cell_type": "code",
   "execution_count": null,
   "id": "86e98de7-b0f3-42ff-8a9f-50d0b3015c81",
   "metadata": {},
   "outputs": [],
   "source": []
  }
 ],
 "metadata": {
  "kernelspec": {
   "display_name": "Python 3 (ipykernel)",
   "language": "python",
   "name": "python3"
  },
  "language_info": {
   "codemirror_mode": {
    "name": "ipython",
    "version": 3
   },
   "file_extension": ".py",
   "mimetype": "text/x-python",
   "name": "python",
   "nbconvert_exporter": "python",
   "pygments_lexer": "ipython3",
   "version": "3.11.8"
  }
 },
 "nbformat": 4,
 "nbformat_minor": 5
}
