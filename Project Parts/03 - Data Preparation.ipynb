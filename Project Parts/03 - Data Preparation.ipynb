{
 "cells": [
  {
   "cell_type": "markdown",
   "id": "638d6e0b-1a03-489a-b271-4d20e5a2921f",
   "metadata": {},
   "source": [
    "## Data Preparation\n",
    "***\n",
    "To prepare my data for modeling I:\n",
    "- Reorganized the image files.\n",
    "- Imported my training data, standardizing aspect ratio.\n",
    "- Applied scaling to the training data for normalization.\n",
    "- Imported validation data to be used test the model's performance.\n",
    "- Created a specialized dataset specifically formatted for use with the ResNet50 classifier."
   ]
  },
  {
   "cell_type": "code",
   "execution_count": 1,
   "id": "69aabdfa-a1ee-4769-882d-8c470f284df5",
   "metadata": {},
   "outputs": [],
   "source": [
    "import sys\n",
    "import os\n",
    "\n",
    "# Path to the directory where your Jupyter Notebook is located\n",
    "notebook_dir = '/Users/ronlodetti/Documents/Flatiron/capstone/airline_sentiment_analysis/hidden'\n",
    "\n",
    "# Get the parent directory (where your `src` directory is located)\n",
    "parent_dir = os.path.dirname(notebook_dir)\n",
    "\n",
    "# Add the parent directory to sys.path\n",
    "if parent_dir not in sys.path:\n",
    "    sys.path.append(parent_dir)\n",
    "\n",
    "# Now you can import your module\n",
    "from src import data_understanding as du\n",
    "%load_ext autoreload\n",
    "%autoreload 2"
   ]
  },
  {
   "cell_type": "code",
   "execution_count": 2,
   "id": "e5244a18-e1fa-452b-9a61-2ec2a203ecc3",
   "metadata": {},
   "outputs": [],
   "source": [
    "import numpy as np\n",
    "import pandas as pd\n",
    "from sklearn.model_selection import train_test_split\n",
    "from src import data_prep as dp"
   ]
  },
  {
   "cell_type": "code",
   "execution_count": 4,
   "id": "9b4c7c5d-3278-42f1-8ad2-60358eada0cb",
   "metadata": {},
   "outputs": [],
   "source": [
    "df = pd.read_csv('../data/Airline_review.csv')[['Review_Title', 'Review', 'Recommended']]\n",
    "X = df['Review_Title'] + ' ' + df['Review']\n",
    "y = df['Recommended'].map({'yes': 1, 'no': 0})\n",
    "X_train, X_test, y_train, y_test = train_test_split(X, y, test_size=0.2, stratify=y, random_state=42)"
   ]
  },
  {
   "cell_type": "markdown",
   "id": "826c9ed8-33ba-419c-b459-1200ecdbfd5f",
   "metadata": {},
   "source": [
    "### Bag of Words Prep"
   ]
  },
  {
   "cell_type": "code",
   "execution_count": 16,
   "id": "96790e1e-7584-4552-983c-bfd47382e3ce",
   "metadata": {},
   "outputs": [],
   "source": [
    "from sklearn.feature_extraction.text import TfidfVectorizer\n",
    "from sklearn.feature_selection import SelectKBest\n",
    "from sklearn.preprocessing import FunctionTransformer\n",
    "import numpy as np\n",
    "from sklearn.pipeline import Pipeline\n",
    "bow_text_cleaner = dp.TextCleanerTransformer(stop_words=None, lemmatize=True)\n",
    "tf_idf = TfidfVectorizer(\n",
    "    decode_error='replace', \n",
    "    strip_accents='unicode', \n",
    "    stop_words=None, \n",
    "    ngram_range=(1, 2), \n",
    "    max_df=0.95, \n",
    "    min_df=2)\n",
    "k_best = SelectKBest(k=20000)\n",
    "to_dense_transformer = FunctionTransformer(lambda x: np.asarray(x.todense()), accept_sparse=True)\n",
    "\n",
    "\n",
    "bow_pipe = Pipeline([\n",
    "    ('text_cleaner',bow_text_cleaner),\n",
    "    (\"tf_idf\", tf_idf),\n",
    "    ('feature_selection', k_best),\n",
    "    ('to_dense',to_dense_transformer)])\n",
    "\n",
    "X_train_clean_bow = bow_pipe.fit_transform(X_train,y_train)\n",
    "X_test_clean_bow = bow_pipe.transform(X_test)"
   ]
  },
  {
   "cell_type": "code",
   "execution_count": 17,
   "id": "dffd382b-9f52-499e-956d-23db9c6941ed",
   "metadata": {},
   "outputs": [
    {
     "data": {
      "text/plain": [
       "(18536, 20000)"
      ]
     },
     "execution_count": 17,
     "metadata": {},
     "output_type": "execute_result"
    }
   ],
   "source": [
    "X_train_clean_bow.shape"
   ]
  },
  {
   "cell_type": "code",
   "execution_count": 12,
   "id": "880cdb29-6010-4be8-81c1-dd24845a8acb",
   "metadata": {},
   "outputs": [
    {
     "name": "stderr",
     "output_type": "stream",
     "text": [
      "2024-04-07 15:18:08.290708: I tensorflow/core/platform/cpu_feature_guard.cc:182] This TensorFlow binary is optimized to use available CPU instructions in performance-critical operations.\n",
      "To enable the following instructions: SSE4.1 SSE4.2 AVX AVX2 AVX512F AVX512_VNNI FMA, in other operations, rebuild TensorFlow with the appropriate compiler flags.\n"
     ]
    }
   ],
   "source": [
    "from tensorflow.keras.layers import TextVectorization\n",
    "sequence_text_cleaner = dp.TextCleanerTransformer(stop_words=None, lemmatize=False)\n",
    "text_vectorization = TextVectorization(\n",
    "    standardize=None,\n",
    "    max_tokens=20000,\n",
    "    output_mode='int',\n",
    "    output_sequence_length=200)"
   ]
  },
  {
   "cell_type": "code",
   "execution_count": 13,
   "id": "f0a761ef-0d79-40d4-ab96-f47ea444b89b",
   "metadata": {},
   "outputs": [],
   "source": [
    "X_train_clean = sequence_text_cleaner.fit_transform(X_train,y_train)\n",
    "X_test_clean = sequence_text_cleaner.transform(X_test)"
   ]
  },
  {
   "cell_type": "code",
   "execution_count": 14,
   "id": "83d92ffe-9bbb-435d-a7c4-61893ddf19ce",
   "metadata": {},
   "outputs": [],
   "source": [
    "text_vectorization.adapt(X_train_clean)\n",
    "X_train_clean_seq = text_vectorization(X_train_clean)\n",
    "X_test_clean_seq = text_vectorization(X_test_clean)"
   ]
  },
  {
   "cell_type": "code",
   "execution_count": null,
   "id": "698b07a5-d276-4dfd-9024-c6d12a33b7a0",
   "metadata": {},
   "outputs": [],
   "source": []
  }
 ],
 "metadata": {
  "kernelspec": {
   "display_name": "Python 3 (ipykernel)",
   "language": "python",
   "name": "python3"
  },
  "language_info": {
   "codemirror_mode": {
    "name": "ipython",
    "version": 3
   },
   "file_extension": ".py",
   "mimetype": "text/x-python",
   "name": "python",
   "nbconvert_exporter": "python",
   "pygments_lexer": "ipython3",
   "version": "3.11.5"
  }
 },
 "nbformat": 4,
 "nbformat_minor": 5
}
