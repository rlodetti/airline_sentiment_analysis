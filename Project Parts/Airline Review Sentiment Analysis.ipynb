{
 "cells": [
  {
   "cell_type": "markdown",
   "id": "29d7224e-5979-4aa9-9fbb-5f42a759c257",
   "metadata": {},
   "source": [
    "# Airline Review Sentiment Analysis\n",
    "***\n",
    "**Author:** Ron Lodetti Jr.\n",
    "![doctor](./images/doctor_crop.jpg)\n",
    "\n",
    "Image by <a href=\"https://www.freepik.com/free-photo/doctor-checking-radiography-front-view_35436186.htm#fromView=search&page=1&position=0&uuid=0c377c4a-a764-4319-8c20-d708851a4835\">Freepik</a>"
   ]
  },
  {
   "cell_type": "markdown",
   "id": "e2eacfe9-292e-4b1d-a05b-1a6814be3839",
   "metadata": {
    "jp-MarkdownHeadingCollapsed": true
   },
   "source": [
    "## Overview\n",
    "***\n",
    "A one-paragraph overview of the project, including the business problem, data, methods, results and recommendations."
   ]
  },
  {
   "cell_type": "markdown",
   "id": "dad6f105-0444-4c6d-908b-44c812c5c845",
   "metadata": {
    "jp-MarkdownHeadingCollapsed": true
   },
   "source": [
    "## Business Problem\n",
    "***\n",
    "A popular airline company wants to increase customer sentiment and foster loyalty through improving customer service. Some difficulties include the many different areas the company could focus on, such as flight attendant training, food quality, seat comfort, as well as the challenge of manually reviewing survey data.\n",
    "\n",
    "The airline has tasked me with analyzing over 20,000 historical reviews to help predict customer satisfaction and identify the most influential features responsible for customer satisfaction.\n",
    "\n",
    "By creating a predictive model to analyze customer sentiment at scale, our project aims to provide the airline with the insights needed to make informed decisions, ultimately improving the customer experience, fostering loyalty, and enhancing the brand's competitive edge in the market."
   ]
  },
  {
   "cell_type": "code",
   "execution_count": 1,
   "id": "a83ae8dc-e3f8-440a-9249-2fbe2c1c1b30",
   "metadata": {},
   "outputs": [
    {
     "name": "stderr",
     "output_type": "stream",
     "text": [
      "2024-03-12 13:31:36.605708: I tensorflow/core/platform/cpu_feature_guard.cc:182] This TensorFlow binary is optimized to use available CPU instructions in performance-critical operations.\n",
      "To enable the following instructions: SSE4.1 SSE4.2 AVX AVX2 AVX512F AVX512_VNNI FMA, in other operations, rebuild TensorFlow with the appropriate compiler flags.\n"
     ]
    }
   ],
   "source": [
    "%load_ext autoreload\n",
    "%autoreload 2\n",
    "# Basic utilities and data handling\n",
    "import os\n",
    "import sys\n",
    "import shutil\n",
    "import pickle\n",
    "import random\n",
    "import numpy as np\n",
    "import pandas as pd\n",
    "from pathlib import Path\n",
    "\n",
    "# Image processing\n",
    "from PIL import Image\n",
    "\n",
    "# Data visualization\n",
    "import matplotlib.pyplot as plt\n",
    "import matplotlib.gridspec as gridspec\n",
    "\n",
    "# Machine Learning, Deep Learning frameworks\n",
    "import tensorflow as tf\n",
    "from tensorflow.keras import callbacks, layers, metrics, models, optimizers, preprocessing, regularizers\n",
    "from tensorflow.keras.layers import Dense, Dropout, Conv2D, MaxPooling2D, Flatten, Rescaling\n",
    "from tensorflow.keras.models import Sequential, load_model\n",
    "from tensorflow.keras.callbacks import EarlyStopping\n",
    "from tensorflow.keras.metrics import Recall, AUC\n",
    "from tensorflow.keras.optimizers import SGD, Adam, RMSprop\n",
    "from tensorflow.keras.applications.resnet50 import ResNet50\n",
    "from tensorflow.keras.utils import image_dataset_from_directory\n",
    "from sklearn.metrics import confusion_matrix, ConfusionMatrixDisplay\n",
    "from sklearn.model_selection import train_test_split\n",
    "\n",
    "# Custom modules\n",
    "from src import data_understanding, data_prep, data_modeling\n",
    "\n",
    "# Set the random seeds for reproducibility\n",
    "SEED = 42\n",
    "tf.random.set_seed(SEED)\n",
    "np.random.seed(SEED)\n",
    "random.seed(SEED)\n",
    "\n",
    "os.environ['TF_CPP_MIN_LOG_LEVEL'] = '2'\n",
    "tf.get_logger().setLevel('ERROR')"
   ]
  },
  {
   "cell_type": "markdown",
   "id": "0a1bbb05-f17a-4a19-9e73-0823723b7bd1",
   "metadata": {
    "jp-MarkdownHeadingCollapsed": true
   },
   "source": [
    "## Data Understanding\n",
    "The original dataset was collected from from [airlineequallity.com](https://www.airlinequality.com/review-pages/a-z-airline-reviews/) by \n",
    "Juhi Bhojani. You can find more details about their collection process at their [GitHub](https://github.com/Juhibhojani/Airline-Reviews-). I found and downloaded the data directly from [Kaggle](https://www.kaggle.com/datasets/juhibhojani/airline-reviews) in the form of a csv. \n",
    "\n",
    "While originally including 20 columns, I decided to select just 3 of them to focus this project on Natual Language Processing. The `Review_Title` and `Review` columns will be combined to serve as the review texts and the target will be the `Recommended` column which consists of either \"yes\" or \"no\". "
   ]
  },
  {
   "cell_type": "markdown",
   "id": "158bafda-9b2e-4bf2-85ce-1af92ab7ddfb",
   "metadata": {},
   "source": [
    "Data Understanding: Notebook clearly describes the source and properties of the data to show how useful the data are for solving the problem of interest.\n",
    "Describe the data sources and explain why the data are suitable for the project\n",
    "Present the size of the dataset and descriptive statistics for all features used in the analysis\n",
    "Justify the inclusion of features based on their properties and relevance for the project\n",
    "Identify any limitations of the data that have implications for the project\n",
    "\n",
    "Describe the data being used for this project.\n",
    "***\n",
    "Questions to consider:\n",
    "* Where did the data come from, and how do they relate to the data analysis questions?\n",
    "* What do the data represent? Who is in the sample and what variables are included?\n",
    "* What is the target variable?\n",
    "* What are the properties of the variables you intend to use?\n",
    "***\n"
   ]
  },
  {
   "cell_type": "code",
   "execution_count": null,
   "id": "8494a4f7-beb0-4eee-8df7-48889c018a91",
   "metadata": {},
   "outputs": [],
   "source": [
    "import pandas as pd\n",
    "df = pd.read_csv('../data/Airline_review.csv')[['Review_Title','Review','Recommended']]\n",
    "df.head()"
   ]
  },
  {
   "cell_type": "code",
   "execution_count": null,
   "id": "961edd8c-2beb-4d05-9189-6639442ba353",
   "metadata": {},
   "outputs": [],
   "source": [
    "df.info()"
   ]
  },
  {
   "cell_type": "code",
   "execution_count": null,
   "id": "43f0812c-544e-49f5-a132-1ec965998409",
   "metadata": {},
   "outputs": [],
   "source": [
    "df['reviews'] = df['Review_Title'] + ' ' + df['Review']\n",
    "df['clean_review'] = du.preprocess_texts(df['reviews'], stop_words=None, lemmatize=False)\n",
    "df['tokens'] = df['clean_review'].apply(lambda x : x.split())\n",
    "df['word_count'] = df['tokens'].apply(lambda x: len(x))\n",
    "df['char_count'] = df['clean_review'].apply(lambda x: len(x))\n",
    "df = df.drop(['Review_Title','Review','reviews'],axis=1)"
   ]
  },
  {
   "cell_type": "code",
   "execution_count": null,
   "id": "6f25a662-b9e3-4f3d-96a7-9eb02bd81fa7",
   "metadata": {},
   "outputs": [],
   "source": [
    "yes_df = df.loc[df['Recommended']=='yes'].copy()\n",
    "no_df = df.loc[df['Recommended']=='no'].copy()"
   ]
  },
  {
   "cell_type": "code",
   "execution_count": null,
   "id": "300d426a-6488-4054-bd9a-c9db9f795bea",
   "metadata": {},
   "outputs": [],
   "source": [
    "# Number and distribution of target\n",
    "display(df['Recommended'].value_counts())\n",
    "print('')\n",
    "display(df['Recommended'].value_counts(normalize=True))"
   ]
  },
  {
   "cell_type": "code",
   "execution_count": null,
   "id": "a90f6ace-e2bc-4739-a101-4e409a4ebcac",
   "metadata": {},
   "outputs": [],
   "source": [
    "fig, ax = plt.subplots(1,2,figsize=(8,4), sharey=True)\n",
    "\n",
    "sns.histplot(yes_df, x='word_count',ax=ax[0])\n",
    "sns.histplot(no_df, x='word_count',ax=ax[1])"
   ]
  },
  {
   "cell_type": "code",
   "execution_count": null,
   "id": "92f3bb89-ab69-4204-b2bf-201ae50e3c16",
   "metadata": {},
   "outputs": [],
   "source": [
    "sns.boxplot(data=df, x='word_count', y='Recommended', hue='Recommended',dodge=False)\n",
    "plt.legend().remove()\n",
    "plt.tight_layout()\n",
    "plt.show()"
   ]
  },
  {
   "cell_type": "code",
   "execution_count": null,
   "id": "6107666f-a732-436d-b3ac-45ead198c905",
   "metadata": {},
   "outputs": [],
   "source": [
    "sns.boxplot(data=df, x='char_count', y='Recommended', hue='Recommended',dodge=False)\n",
    "plt.legend().remove()\n",
    "plt.tight_layout()\n",
    "plt.show()"
   ]
  },
  {
   "cell_type": "markdown",
   "id": "fd513029-e0d5-47f0-83c4-dfc12249cec2",
   "metadata": {},
   "source": [
    "### Stopped & Lemmatized Data"
   ]
  },
  {
   "cell_type": "code",
   "execution_count": null,
   "id": "83085752-1abf-4221-9c92-f227cf1efd6b",
   "metadata": {},
   "outputs": [],
   "source": [
    "from nltk.corpus import stopwords\n",
    "STOPWORDS = stopwords.words('english')\n",
    "STOPWORDS.append(\"us\")\n",
    "STOPWORDS.append(\"u\")\n",
    "df2 = pd.read_csv('../data/Airline_review.csv')[['Review_Title','Review','Recommended']]\n",
    "df2['reviews'] = df2['Review_Title'] + ' ' + df2['Review']\n",
    "df2['clean_review'] = du.preprocess_texts(df2['reviews'], stop_words=STOPWORDS, lemmatize=True)\n",
    "df2['tokens'] = df2['clean_review'].apply(lambda x : x.split())\n",
    "# df2['word_count'] = df2['tokens'].apply(lambda x: len(x))\n",
    "# df2['char_count'] = df2['clean_review'].apply(lambda x: len(x))\n",
    "# df2 = df2.drop(['Review_Title','Review','reviews'],axis=1)"
   ]
  },
  {
   "cell_type": "code",
   "execution_count": null,
   "id": "cfa717e5-75de-4f58-b80f-59d6aad165e9",
   "metadata": {},
   "outputs": [],
   "source": [
    "yes_df2 = df2.loc[df2['Recommended']=='yes'].copy()\n",
    "no_df2 = df2.loc[df2['Recommended']=='no'].copy()"
   ]
  },
  {
   "cell_type": "code",
   "execution_count": null,
   "id": "9c890bd9-05e9-45fa-b534-4e4648723cf9",
   "metadata": {},
   "outputs": [],
   "source": [
    "yes_tokens = list(yes_df2['tokens'].explode())\n",
    "no_tokens = list(no_df2['tokens'].explode())"
   ]
  },
  {
   "cell_type": "code",
   "execution_count": null,
   "id": "bde187c2-372e-45df-8e57-e198053e5eb8",
   "metadata": {},
   "outputs": [],
   "source": [
    "freq_yes = FreqDist(yes_tokens)\n",
    "freq_no = FreqDist(no_tokens)"
   ]
  },
  {
   "cell_type": "code",
   "execution_count": null,
   "id": "4a68184f-3bbd-4224-a8c4-747ceb7660e4",
   "metadata": {},
   "outputs": [],
   "source": [
    "distinct_yes = {word: freq_yes[word] - freq_no[word] for word in freq_yes}\n",
    "distinct_no = {word: freq_no[word] - freq_yes[word] for word in freq_no}"
   ]
  },
  {
   "cell_type": "code",
   "execution_count": null,
   "id": "75af287d-a928-4ae6-b5a2-f5c442118286",
   "metadata": {},
   "outputs": [],
   "source": [
    "distinct_yes_fd = FreqDist(distinct_yes)\n",
    "distinct_no_fd = FreqDist(distinct_no)"
   ]
  },
  {
   "cell_type": "code",
   "execution_count": null,
   "id": "dd90d217-b752-417e-87b3-e126716daf85",
   "metadata": {},
   "outputs": [],
   "source": [
    "common_yes = distinct_yes_fd.most_common(10)\n",
    "common_no = distinct_no_fd.most_common(10)"
   ]
  },
  {
   "cell_type": "code",
   "execution_count": null,
   "id": "d578f91f-7125-4862-ad6d-bf7a52780368",
   "metadata": {},
   "outputs": [],
   "source": [
    "words = []\n",
    "counts = []\n",
    "for word, count in common_yes:\n",
    "    words.append(word)\n",
    "    counts.append(count)\n",
    "\n",
    "fig, ax = plt.subplots()\n",
    "sns.barplot(x=words, y=counts, ax= ax)\n",
    "plt.xticks(rotation=45)\n",
    "plt.show()"
   ]
  },
  {
   "cell_type": "code",
   "execution_count": null,
   "id": "3ff4808d-6f48-4b96-987d-eb801704f113",
   "metadata": {},
   "outputs": [],
   "source": [
    "words = []\n",
    "counts = []\n",
    "for word, count in common_no:\n",
    "    words.append(word)\n",
    "    counts.append(count)\n",
    "\n",
    "fig, ax = plt.subplots()\n",
    "sns.barplot(x=words, y=counts, ax= ax)\n",
    "plt.xticks(rotation=45)\n",
    "plt.show()"
   ]
  },
  {
   "cell_type": "markdown",
   "id": "8a495da6-78aa-4849-aab6-97cbd8b12a11",
   "metadata": {},
   "source": [
    "## Data Preparation\n",
    "***\n",
    "To prepare my data for modeling I:\n",
    "- Reorganized the image files.\n",
    "- Imported my training data, standardizing aspect ratio.\n",
    "- Applied scaling to the training data for normalization.\n",
    "- Imported validation data to be used test the model's performance.\n",
    "- Created a specialized dataset specifically formatted for use with the ResNet50 classifier."
   ]
  },
  {
   "cell_type": "code",
   "execution_count": 3,
   "id": "575674b1-fc04-4db0-adea-df8e812f634d",
   "metadata": {},
   "outputs": [
    {
     "name": "stderr",
     "output_type": "stream",
     "text": [
      "2024-04-08 15:00:29.844729: I tensorflow/core/platform/cpu_feature_guard.cc:182] This TensorFlow binary is optimized to use available CPU instructions in performance-critical operations.\n",
      "To enable the following instructions: SSE4.1 SSE4.2 AVX AVX2 AVX512F AVX512_VNNI FMA, in other operations, rebuild TensorFlow with the appropriate compiler flags.\n"
     ]
    }
   ],
   "source": [
    "import os\n",
    "import sys\n",
    "# Path to the directory where your Jupyter Notebook is located\n",
    "notebook_dir = '/Users/ronlodetti/Documents/Flatiron/capstone/airline_sentiment_analysis/hidden'\n",
    "\n",
    "# Get the parent directory (where your `src` directory is located)\n",
    "parent_dir = os.path.dirname(notebook_dir)\n",
    "\n",
    "# Add the parent directory to sys.path\n",
    "if parent_dir not in sys.path:\n",
    "    sys.path.append(parent_dir)\n",
    "import numpy as np\n",
    "import pandas as pd\n",
    "from joblib import dump\n",
    "from sklearn.dummy import DummyClassifier\n",
    "from sklearn.ensemble import GradientBoostingClassifier, RandomForestClassifier\n",
    "from sklearn.feature_extraction.text import TfidfVectorizer\n",
    "from sklearn.feature_selection import SelectKBest\n",
    "from sklearn.linear_model import LogisticRegression\n",
    "from sklearn.model_selection import train_test_split, StratifiedKFold, cross_val_score, cross_validate\n",
    "from sklearn.naive_bayes import MultinomialNB\n",
    "from sklearn.pipeline import Pipeline\n",
    "from sklearn.preprocessing import FunctionTransformer\n",
    "from tensorflow.keras.callbacks import EarlyStopping\n",
    "from tensorflow.keras.layers import Dense, Dropout, Embedding, Bidirectional, GRU, TextVectorization\n",
    "from tensorflow.keras.models import Sequential\n",
    "from scikeras.wrappers import KerasClassifier\n",
    "from nltk.tokenize import RegexpTokenizer\n",
    "from src import code\n",
    "%load_ext autoreload\n",
    "%autoreload 2"
   ]
  },
  {
   "cell_type": "code",
   "execution_count": 4,
   "id": "585cfe2c-07e2-42f3-9749-01158c44df5a",
   "metadata": {},
   "outputs": [],
   "source": [
    "df = pd.read_csv('../data/Airline_review.csv')[['Review_Title', 'Review', 'Recommended']]\n",
    "X = df['Review_Title'] + ' ' + df['Review']\n",
    "y = df['Recommended'].map({'yes': 1, 'no': 0})\n",
    "X_train, X_temp, y_train, y_temp = train_test_split(X, y, test_size=0.1, stratify=y, random_state=42)\n",
    "X_val, X_test, y_val, y_test = train_test_split(X_temp, y_temp, test_size=0.5, stratify=y_temp, random_state=42)"
   ]
  },
  {
   "cell_type": "markdown",
   "id": "d4e2ab7f-5cf1-4ca5-9468-6217790faa3f",
   "metadata": {},
   "source": [
    "### Bag of Words Prep"
   ]
  },
  {
   "cell_type": "code",
   "execution_count": null,
   "id": "c10233ff-e8b3-43ec-8ad4-6eb20b484646",
   "metadata": {},
   "outputs": [],
   "source": [
    "tf_idf = TfidfVectorizer(\n",
    "    decode_error='replace', \n",
    "    strip_accents='unicode', \n",
    "    stop_words=None, \n",
    "    ngram_range=(1, 2), \n",
    "    max_df=0.95, \n",
    "    min_df=2)\n",
    "k_best = SelectKBest(k=20000)\n",
    "\n",
    "def to_dense(x):\n",
    "    \"\"\"Convert a sparse matrix to a dense numpy array.\"\"\"\n",
    "    return np.asarray(x.todense())\n",
    "    \n",
    "to_dense_transformer = FunctionTransformer(to_dense, accept_sparse=True)\n",
    "\n",
    "bow_pipe = Pipeline([\n",
    "    (\"tf_idf\", tf_idf),\n",
    "    ('feature_selection', k_best),\n",
    "    ('to_dense',to_dense_transformer)])\n",
    "\n",
    "tokenizer = RegexpTokenizer(r\"([a-zA-Z]+(?:’[a-z]+)?)\")\n",
    "\n",
    "X_train_bow = code.preprocess_texts(X_train, tokenizer, stop_words=None, lemmatize=True)\n"
   ]
  },
  {
   "cell_type": "code",
   "execution_count": null,
   "id": "221ec078-5515-417f-8b0f-a8273ce35a98",
   "metadata": {},
   "outputs": [],
   "source": [
    "# Cleaning text for sequence models\n",
    "X_train_seq = code.preprocess_texts(X_train, tokenizer)"
   ]
  },
  {
   "cell_type": "code",
   "execution_count": null,
   "id": "a6564760-6f0a-47e7-9b92-22678a548c70",
   "metadata": {},
   "outputs": [],
   "source": [
    "# Prep for RNN\n",
    "text_vectorization = TextVectorization(\n",
    "    standardize=None,\n",
    "    max_tokens=20000,\n",
    "    output_mode='int',\n",
    "    output_sequence_length=200)\n",
    "\n",
    "text_vectorization.adapt(X_train_seq)\n",
    "X_train_seq_clean = text_vectorization(X_train_seq)"
   ]
  },
  {
   "cell_type": "code",
   "execution_count": null,
   "id": "be53d94a-2633-4267-b5ed-1c4797dd60a1",
   "metadata": {},
   "outputs": [],
   "source": [
    "# Prep for Glove\n",
    "vocabulary = text_vectorization.get_vocabulary()\n",
    "vocab_size = len(vocabulary) \n",
    "\n",
    "glove_embeddings = {}\n",
    "with open('../data/glove.6B.300d.txt', 'r', encoding='utf-8') as file:\n",
    "    for line in file:\n",
    "        values = line.split()\n",
    "        word = values[0]\n",
    "        vector = np.asarray(values[1:], dtype='float32')\n",
    "        glove_embeddings[word] = vector\n",
    "\n",
    "# Initialize the embedding matrix with zeros.\n",
    "embedding_matrix = np.zeros((vocab_size, 300))\n",
    "\n",
    "# Populate the embedding matrix with GloVe vectors.\n",
    "for i, word in enumerate(vocabulary):\n",
    "    embedding_vector = glove_embeddings.get(word)\n",
    "    if embedding_vector is not None:\n",
    "        embedding_matrix[i] = embedding_vector"
   ]
  },
  {
   "cell_type": "markdown",
   "id": "0dfbcc2d-5676-4b55-8909-0707518eb0eb",
   "metadata": {},
   "source": [
    "## Data Modeling\n",
    "***\n",
    "During the modeling process, I iteratively trained and evaluated numerous models to identify the most effective one. A validation dataset, previously unseen by the model, was used for evaluation to ensure accuracy in real-world scenarios. To inform my decision-making, I relied on both loss and recall metrics, aiming to minimize error while maximizing the model's ability to correctly identify pneumonia cases. I also included the Area Under the ROC Curve (AUC) to provide insight into the model's overall performance, ensuring it doesn't just achieve high recall by simply labeling all cases as positive.\n",
    "\n",
    "Key adjustments made during model iterations and hyperparameter tuning included:\n",
    "\n",
    "- Adjusting the number and configuration of layers and nodes.\n",
    "- Choosing between Dense and Conv2D layers for structure.\n",
    "- Implementing regularization techniques such as Dropout layers, L1/L2 regularization, and data augmentation to prevent overfitting.\n",
    "- Selecting appropriate initializers and optimizers for optimization.\n",
    "- Applying transfer learning with the pretrained ResNet50 model to leverage pre-existing neural network architectures."
   ]
  },
  {
   "cell_type": "code",
   "execution_count": 19,
   "id": "c4cdf895-9be5-45b9-a843-77d2ed7cd06a",
   "metadata": {},
   "outputs": [],
   "source": [
    "skf = StratifiedKFold(n_splits=5, shuffle=True, random_state=42)\n",
    "\n",
    "text_vec_cv = TextVectorization(\n",
    "    standardize=None,\n",
    "    max_tokens=20000,\n",
    "    output_mode='int',\n",
    "    output_sequence_length=200)\n",
    "\n",
    "CALLBACKS = [EarlyStopping(monitor='val_loss',\n",
    "                           min_delta=0.001,\n",
    "                           patience=5,\n",
    "                           restore_best_weights=True,\n",
    "                           verbose=0)]"
   ]
  },
  {
   "cell_type": "markdown",
   "id": "2074bf31-b674-4b6c-9327-8bf1fa893be0",
   "metadata": {},
   "source": [
    "### Baseline Models"
   ]
  },
  {
   "cell_type": "code",
   "execution_count": null,
   "id": "3b1d693b-6a39-412e-a2a2-94c9b8de272f",
   "metadata": {},
   "outputs": [],
   "source": [
    "#### Dummy Model"
   ]
  },
  {
   "cell_type": "code",
   "execution_count": null,
   "id": "ffbe6db9-e3f7-42e9-a3ad-dac30f4091c6",
   "metadata": {},
   "outputs": [],
   "source": [
    "dummy_model = DummyClassifier(strategy='uniform', random_state=42)\n",
    "\n",
    "code.bag_of_words_CV('Dummy', dummy_model, bow_pipe, X_train_bow, y_train, cv=skf)"
   ]
  },
  {
   "cell_type": "code",
   "execution_count": null,
   "id": "a78ce3fd-46de-4522-a2fb-70c79623fb26",
   "metadata": {},
   "outputs": [],
   "source": [
    "baseline_model = LogisticRegression(max_iter=1000)\n",
    "\n",
    "code.bag_of_words_CV('Baseline', baseline_model, bow_pipe, X_train_bow, y_train, cv=skf)"
   ]
  },
  {
   "cell_type": "markdown",
   "id": "1046dd1a-4c28-4866-a128-7b7c23fa8184",
   "metadata": {},
   "source": [
    "### Bag of Words Models"
   ]
  },
  {
   "cell_type": "code",
   "execution_count": null,
   "id": "579f2115-2f93-4b96-b9e7-5372ae78cafa",
   "metadata": {},
   "outputs": [],
   "source": [
    "log_reg = LogisticRegression(C=9.42012179027564, \n",
    "                         max_iter= 100, \n",
    "                         solver= 'newton-cg')\n",
    "\n",
    "code.bag_of_words_CV('Logistic_Regression', log_reg, bow_pipe, X_train_bow, y_train, cv=skf)"
   ]
  },
  {
   "cell_type": "code",
   "execution_count": null,
   "id": "10f62cfe-da23-4939-aa00-f651c0e569e8",
   "metadata": {},
   "outputs": [],
   "source": [
    "mnb_model = MultinomialNB(fit_prior= False,\n",
    "                    class_prior= None,\n",
    "                    alpha= 0.01)\n",
    "\n",
    "code.bag_of_words_CV('MultinomialNB', mnb_model, bow_pipe, X_train_bow, y_train, cv=skf)"
   ]
  },
  {
   "cell_type": "code",
   "execution_count": null,
   "id": "bb6f043e-fc35-4304-9d86-20e17ef0fbc2",
   "metadata": {},
   "outputs": [],
   "source": [
    "gbc_model = GradientBoostingClassifier(subsample=0.8,\n",
    "                                 n_estimators=300,\n",
    "                                 min_samples_split=2,\n",
    "                                 max_features='sqrt',\n",
    "                                 max_depth=6,\n",
    "                                 learning_rate=0.1)\n",
    "\n",
    "code.bag_of_words_CV('Gradient_Boosting_Classifier', gbc_model, bow_pipe, X_train_bow, y_train, cv=skf)"
   ]
  },
  {
   "cell_type": "code",
   "execution_count": null,
   "id": "df01a3f7-a87d-486e-8494-448cd242bb53",
   "metadata": {},
   "outputs": [],
   "source": [
    "rfc_model = RandomForestClassifier(n_estimators=500,\n",
    "                             min_samples_split=10,\n",
    "                             min_samples_leaf=1,\n",
    "                             max_features='sqrt',\n",
    "                             max_depth=None,\n",
    "                             bootstrap=True)\n",
    "\n",
    "code.bag_of_words_CV('Random_Forest_Classifier', rfc_model, bow_pipe, X_train_bow, y_train, cv=skf)"
   ]
  },
  {
   "cell_type": "code",
   "execution_count": null,
   "id": "56451408-6517-429a-8539-203d430bf715",
   "metadata": {},
   "outputs": [],
   "source": [
    "def mlp_model_builder():\n",
    "    model = Sequential([\n",
    "        Dense(128, activation='relu',input_shape=(20000,)),\n",
    "        Dropout(0.8),\n",
    "        Dense(1, activation='sigmoid')\n",
    "    ])\n",
    "    model.compile(optimizer='adam',\n",
    "                  loss='binary_crossentropy',\n",
    "                  metrics=['accuracy', 'AUC'])\n",
    "    return model\n",
    "\n",
    "mlp_model = KerasClassifier(model=mlp_model_builder, \n",
    "                           random_state=42,\n",
    "                           batch_size=256,\n",
    "                           verbose=0,\n",
    "                           callbacks=CALLBACKS, \n",
    "                           validation_split=0.1,\n",
    "                           shuffle=True,\n",
    "                           epochs=100)\n",
    "\n",
    "code.bag_of_words_CV('Multi-Layer_Perceptrons', mlp_model, bow_pipe, X_train_bow, y_train, cv=skf)"
   ]
  },
  {
   "cell_type": "markdown",
   "id": "ba0378c7-74e7-4b1f-b9fd-245236cc0e4b",
   "metadata": {},
   "source": [
    "### Sequence Models"
   ]
  },
  {
   "cell_type": "code",
   "execution_count": null,
   "id": "a02f5ee3-66be-413f-91e6-095e5193317c",
   "metadata": {},
   "outputs": [],
   "source": [
    "rnn_model = Sequential([\n",
    "    Embedding(input_dim=20000, output_dim=32, input_length=200),\n",
    "    Bidirectional(GRU(16)),\n",
    "    Dense(8, activation='relu'),\n",
    "    Dense(1, activation='sigmoid')\n",
    "    ])\n",
    "\n",
    "rnn_model.compile(optimizer='adam',\n",
    "              loss='binary_crossentropy',\n",
    "              metrics=['accuracy', 'AUC'])\n",
    "\n",
    "rnn_model.fit(x=X_train_seq_clean,\n",
    "              y=y_train,\n",
    "              batch_size=256,\n",
    "              epochs=100,\n",
    "              verbose=0,\n",
    "              validation_split=0.1,\n",
    "              callbacks=CALLBACKS,\n",
    "              shuffle=True)\n",
    "\n",
    "rnn_model.save('rnn_model')\n",
    "\n",
    "code.keras_cv('RNN',\n",
    "              X_train,\n",
    "              y_train,\n",
    "              skf,\n",
    "              tokenizer,\n",
    "              text_vec_cv,\n",
    "              CALLBACKS)"
   ]
  },
  {
   "cell_type": "code",
   "execution_count": null,
   "id": "c2502d55-a651-42e0-b4a7-03ee9e314e75",
   "metadata": {},
   "outputs": [],
   "source": [
    "glv_model = Sequential([\n",
    "    Embedding(input_dim=vocab_size, output_dim=300, input_length=200, weights=[embedding_matrix], trainable=False),\n",
    "    Bidirectional(GRU(32)),\n",
    "    Dropout(0.4),\n",
    "    Dense(16, activation='relu'),\n",
    "    Dropout(0.4),\n",
    "    Dense(1, activation='sigmoid')\n",
    "    ])\n",
    "\n",
    "glv_model.compile(optimizer='adam',\n",
    "                  loss='binary_crossentropy',\n",
    "                  metrics=['accuracy', 'AUC'])\n",
    "\n",
    "glv_model.fit(x=X_train_seq_clean,\n",
    "              y=y_train,\n",
    "              batch_size=64,\n",
    "              epochs=100,\n",
    "              verbose=0,\n",
    "              callbacks=CALLBACKS,\n",
    "              shuffle=True)\n",
    "\n",
    "glv_model.save('glv_model')\n",
    "\n",
    "code.keras_cv('GloVe',\n",
    "              X_train,\n",
    "              y_train,\n",
    "              skf,\n",
    "              tokenizer,\n",
    "              text_vec_cv,\n",
    "              CALLBACKS,\n",
    "              glove=True, \n",
    "              glove_path = '../data/glove.6B.300d.txt')"
   ]
  },
  {
   "cell_type": "markdown",
   "id": "bac2f2c0-6c48-4191-a7cf-de76134deae3",
   "metadata": {},
   "source": [
    "## Evaluation\n",
    "***"
   ]
  },
  {
   "cell_type": "code",
   "execution_count": null,
   "id": "bea9a10a-9cf4-4a35-be4e-d0874c19f800",
   "metadata": {},
   "outputs": [],
   "source": [
    "X_test_bow = code.preprocess_texts(X_test, tokenizer, stop_words=None, lemmatize=True)"
   ]
  },
  {
   "cell_type": "code",
   "execution_count": 2,
   "id": "9fe25bd0-3128-47ec-910c-a913338c8096",
   "metadata": {},
   "outputs": [
    {
     "ename": "AttributeError",
     "evalue": "Can't get attribute 'to_dense' on <module '__main__'>",
     "output_type": "error",
     "traceback": [
      "\u001b[0;31m---------------------------------------------------------------------------\u001b[0m",
      "\u001b[0;31mAttributeError\u001b[0m                            Traceback (most recent call last)",
      "Cell \u001b[0;32mIn[2], line 2\u001b[0m\n\u001b[1;32m      1\u001b[0m \u001b[38;5;28;01mfrom\u001b[39;00m \u001b[38;5;21;01mjoblib\u001b[39;00m \u001b[38;5;28;01mimport\u001b[39;00m load\n\u001b[0;32m----> 2\u001b[0m dummy_model \u001b[38;5;241m=\u001b[39m load(\u001b[38;5;124m'\u001b[39m\u001b[38;5;124mdummy_pipeline.joblib\u001b[39m\u001b[38;5;124m'\u001b[39m)\n\u001b[1;32m      3\u001b[0m baseline_model \u001b[38;5;241m=\u001b[39m load(\u001b[38;5;124m'\u001b[39m\u001b[38;5;124mbaseline_pipeline.joblib\u001b[39m\u001b[38;5;124m'\u001b[39m)\n\u001b[1;32m      4\u001b[0m final_model \u001b[38;5;241m=\u001b[39m load(\u001b[38;5;124m'\u001b[39m\u001b[38;5;124mmlp_pipeline.joblib\u001b[39m\u001b[38;5;124m'\u001b[39m)\n",
      "File \u001b[0;32m/opt/miniconda3/envs/capstone-env/lib/python3.11/site-packages/joblib/numpy_pickle.py:658\u001b[0m, in \u001b[0;36mload\u001b[0;34m(filename, mmap_mode)\u001b[0m\n\u001b[1;32m    652\u001b[0m             \u001b[38;5;28;01mif\u001b[39;00m \u001b[38;5;28misinstance\u001b[39m(fobj, \u001b[38;5;28mstr\u001b[39m):\n\u001b[1;32m    653\u001b[0m                 \u001b[38;5;66;03m# if the returned file object is a string, this means we\u001b[39;00m\n\u001b[1;32m    654\u001b[0m                 \u001b[38;5;66;03m# try to load a pickle file generated with an version of\u001b[39;00m\n\u001b[1;32m    655\u001b[0m                 \u001b[38;5;66;03m# Joblib so we load it with joblib compatibility function.\u001b[39;00m\n\u001b[1;32m    656\u001b[0m                 \u001b[38;5;28;01mreturn\u001b[39;00m load_compatibility(fobj)\n\u001b[0;32m--> 658\u001b[0m             obj \u001b[38;5;241m=\u001b[39m _unpickle(fobj, filename, mmap_mode)\n\u001b[1;32m    659\u001b[0m \u001b[38;5;28;01mreturn\u001b[39;00m obj\n",
      "File \u001b[0;32m/opt/miniconda3/envs/capstone-env/lib/python3.11/site-packages/joblib/numpy_pickle.py:577\u001b[0m, in \u001b[0;36m_unpickle\u001b[0;34m(fobj, filename, mmap_mode)\u001b[0m\n\u001b[1;32m    575\u001b[0m obj \u001b[38;5;241m=\u001b[39m \u001b[38;5;28;01mNone\u001b[39;00m\n\u001b[1;32m    576\u001b[0m \u001b[38;5;28;01mtry\u001b[39;00m:\n\u001b[0;32m--> 577\u001b[0m     obj \u001b[38;5;241m=\u001b[39m unpickler\u001b[38;5;241m.\u001b[39mload()\n\u001b[1;32m    578\u001b[0m     \u001b[38;5;28;01mif\u001b[39;00m unpickler\u001b[38;5;241m.\u001b[39mcompat_mode:\n\u001b[1;32m    579\u001b[0m         warnings\u001b[38;5;241m.\u001b[39mwarn(\u001b[38;5;124m\"\u001b[39m\u001b[38;5;124mThe file \u001b[39m\u001b[38;5;124m'\u001b[39m\u001b[38;5;132;01m%s\u001b[39;00m\u001b[38;5;124m'\u001b[39m\u001b[38;5;124m has been generated with a \u001b[39m\u001b[38;5;124m\"\u001b[39m\n\u001b[1;32m    580\u001b[0m                       \u001b[38;5;124m\"\u001b[39m\u001b[38;5;124mjoblib version less than 0.10. \u001b[39m\u001b[38;5;124m\"\u001b[39m\n\u001b[1;32m    581\u001b[0m                       \u001b[38;5;124m\"\u001b[39m\u001b[38;5;124mPlease regenerate this pickle file.\u001b[39m\u001b[38;5;124m\"\u001b[39m\n\u001b[1;32m    582\u001b[0m                       \u001b[38;5;241m%\u001b[39m filename,\n\u001b[1;32m    583\u001b[0m                       \u001b[38;5;167;01mDeprecationWarning\u001b[39;00m, stacklevel\u001b[38;5;241m=\u001b[39m\u001b[38;5;241m3\u001b[39m)\n",
      "File \u001b[0;32m/opt/miniconda3/envs/capstone-env/lib/python3.11/pickle.py:1213\u001b[0m, in \u001b[0;36m_Unpickler.load\u001b[0;34m(self)\u001b[0m\n\u001b[1;32m   1211\u001b[0m             \u001b[38;5;28;01mraise\u001b[39;00m \u001b[38;5;167;01mEOFError\u001b[39;00m\n\u001b[1;32m   1212\u001b[0m         \u001b[38;5;28;01massert\u001b[39;00m \u001b[38;5;28misinstance\u001b[39m(key, bytes_types)\n\u001b[0;32m-> 1213\u001b[0m         dispatch[key[\u001b[38;5;241m0\u001b[39m]](\u001b[38;5;28mself\u001b[39m)\n\u001b[1;32m   1214\u001b[0m \u001b[38;5;28;01mexcept\u001b[39;00m _Stop \u001b[38;5;28;01mas\u001b[39;00m stopinst:\n\u001b[1;32m   1215\u001b[0m     \u001b[38;5;28;01mreturn\u001b[39;00m stopinst\u001b[38;5;241m.\u001b[39mvalue\n",
      "File \u001b[0;32m/opt/miniconda3/envs/capstone-env/lib/python3.11/pickle.py:1538\u001b[0m, in \u001b[0;36m_Unpickler.load_stack_global\u001b[0;34m(self)\u001b[0m\n\u001b[1;32m   1536\u001b[0m \u001b[38;5;28;01mif\u001b[39;00m \u001b[38;5;28mtype\u001b[39m(name) \u001b[38;5;129;01mis\u001b[39;00m \u001b[38;5;129;01mnot\u001b[39;00m \u001b[38;5;28mstr\u001b[39m \u001b[38;5;129;01mor\u001b[39;00m \u001b[38;5;28mtype\u001b[39m(module) \u001b[38;5;129;01mis\u001b[39;00m \u001b[38;5;129;01mnot\u001b[39;00m \u001b[38;5;28mstr\u001b[39m:\n\u001b[1;32m   1537\u001b[0m     \u001b[38;5;28;01mraise\u001b[39;00m UnpicklingError(\u001b[38;5;124m\"\u001b[39m\u001b[38;5;124mSTACK_GLOBAL requires str\u001b[39m\u001b[38;5;124m\"\u001b[39m)\n\u001b[0;32m-> 1538\u001b[0m \u001b[38;5;28mself\u001b[39m\u001b[38;5;241m.\u001b[39mappend(\u001b[38;5;28mself\u001b[39m\u001b[38;5;241m.\u001b[39mfind_class(module, name))\n",
      "File \u001b[0;32m/opt/miniconda3/envs/capstone-env/lib/python3.11/pickle.py:1582\u001b[0m, in \u001b[0;36m_Unpickler.find_class\u001b[0;34m(self, module, name)\u001b[0m\n\u001b[1;32m   1580\u001b[0m \u001b[38;5;28m__import__\u001b[39m(module, level\u001b[38;5;241m=\u001b[39m\u001b[38;5;241m0\u001b[39m)\n\u001b[1;32m   1581\u001b[0m \u001b[38;5;28;01mif\u001b[39;00m \u001b[38;5;28mself\u001b[39m\u001b[38;5;241m.\u001b[39mproto \u001b[38;5;241m>\u001b[39m\u001b[38;5;241m=\u001b[39m \u001b[38;5;241m4\u001b[39m:\n\u001b[0;32m-> 1582\u001b[0m     \u001b[38;5;28;01mreturn\u001b[39;00m _getattribute(sys\u001b[38;5;241m.\u001b[39mmodules[module], name)[\u001b[38;5;241m0\u001b[39m]\n\u001b[1;32m   1583\u001b[0m \u001b[38;5;28;01melse\u001b[39;00m:\n\u001b[1;32m   1584\u001b[0m     \u001b[38;5;28;01mreturn\u001b[39;00m \u001b[38;5;28mgetattr\u001b[39m(sys\u001b[38;5;241m.\u001b[39mmodules[module], name)\n",
      "File \u001b[0;32m/opt/miniconda3/envs/capstone-env/lib/python3.11/pickle.py:331\u001b[0m, in \u001b[0;36m_getattribute\u001b[0;34m(obj, name)\u001b[0m\n\u001b[1;32m    329\u001b[0m         obj \u001b[38;5;241m=\u001b[39m \u001b[38;5;28mgetattr\u001b[39m(obj, subpath)\n\u001b[1;32m    330\u001b[0m     \u001b[38;5;28;01mexcept\u001b[39;00m \u001b[38;5;167;01mAttributeError\u001b[39;00m:\n\u001b[0;32m--> 331\u001b[0m         \u001b[38;5;28;01mraise\u001b[39;00m \u001b[38;5;167;01mAttributeError\u001b[39;00m(\u001b[38;5;124m\"\u001b[39m\u001b[38;5;124mCan\u001b[39m\u001b[38;5;124m'\u001b[39m\u001b[38;5;124mt get attribute \u001b[39m\u001b[38;5;132;01m{!r}\u001b[39;00m\u001b[38;5;124m on \u001b[39m\u001b[38;5;132;01m{!r}\u001b[39;00m\u001b[38;5;124m\"\u001b[39m\n\u001b[1;32m    332\u001b[0m                              \u001b[38;5;241m.\u001b[39mformat(name, obj)) \u001b[38;5;28;01mfrom\u001b[39;00m \u001b[38;5;28;01mNone\u001b[39;00m\n\u001b[1;32m    333\u001b[0m \u001b[38;5;28;01mreturn\u001b[39;00m obj, parent\n",
      "\u001b[0;31mAttributeError\u001b[0m: Can't get attribute 'to_dense' on <module '__main__'>"
     ]
    }
   ],
   "source": [
    "from joblib import load\n",
    "dummy_model = load('dummy_pipeline.joblib')\n",
    "baseline_model = load('baseline_pipeline.joblib')\n",
    "final_model = load('mlp_pipeline.joblib')"
   ]
  },
  {
   "cell_type": "code",
   "execution_count": 43,
   "id": "d67e722a-51ab-49ea-a4cb-11e4daaa36fa",
   "metadata": {},
   "outputs": [
    {
     "data": {
      "text/html": [
       "<div>\n",
       "<style scoped>\n",
       "    .dataframe tbody tr th:only-of-type {\n",
       "        vertical-align: middle;\n",
       "    }\n",
       "\n",
       "    .dataframe tbody tr th {\n",
       "        vertical-align: top;\n",
       "    }\n",
       "\n",
       "    .dataframe thead th {\n",
       "        text-align: right;\n",
       "    }\n",
       "</style>\n",
       "<table border=\"1\" class=\"dataframe\">\n",
       "  <thead>\n",
       "    <tr style=\"text-align: right;\">\n",
       "      <th></th>\n",
       "      <th>Test Loss</th>\n",
       "      <th>Test Recall</th>\n",
       "      <th>Test AUC</th>\n",
       "    </tr>\n",
       "  </thead>\n",
       "  <tbody>\n",
       "    <tr>\n",
       "      <th>Baseline Model</th>\n",
       "      <td>0.2914</td>\n",
       "      <td>0.8388</td>\n",
       "      <td>0.9449</td>\n",
       "    </tr>\n",
       "    <tr>\n",
       "      <th>Overfit Model</th>\n",
       "      <td>0.3313</td>\n",
       "      <td>0.9579</td>\n",
       "      <td>0.9666</td>\n",
       "    </tr>\n",
       "    <tr>\n",
       "      <th>Resnet Model</th>\n",
       "      <td>0.3291</td>\n",
       "      <td>0.9299</td>\n",
       "      <td>0.9327</td>\n",
       "    </tr>\n",
       "    <tr>\n",
       "      <th>Final Model</th>\n",
       "      <td>0.1089</td>\n",
       "      <td>0.9720</td>\n",
       "      <td>0.9911</td>\n",
       "    </tr>\n",
       "  </tbody>\n",
       "</table>\n",
       "</div>"
      ],
      "text/plain": [
       "                Test Loss  Test Recall  Test AUC\n",
       "Baseline Model     0.2914       0.8388    0.9449\n",
       "Overfit Model      0.3313       0.9579    0.9666\n",
       "Resnet Model       0.3291       0.9299    0.9327\n",
       "Final Model        0.1089       0.9720    0.9911"
      ]
     },
     "metadata": {},
     "output_type": "display_data"
    }
   ],
   "source": [
    "# Dictionary mapping model names to their corresponding model and test dataset\n",
    "models_dict = {\n",
    "    'Dummy Model': [baseline_model, test_ds],\n",
    "    'Baseline Model': [baseline_model, test_ds],\n",
    "    'MLP Model': [overfit_model, test_ds],\n",
    "}\n",
    "\n",
    "# Initialize an empty list to hold evaluation scores for each model\n",
    "scores_list = []\n",
    "\n",
    "# Iterate through the models dictionary to evaluate each model\n",
    "# and collect their  scores\n",
    "for model_name, (model, test_dataset) in models_dict.items():\n",
    "    scores = evaluate_model(model, test_dataset)\n",
    "    scores_list.append(scores)\n",
    "\n",
    "# Create a DataFrame to summarize the scores for each model\n",
    "summary_df = pd.DataFrame(scores_list, \n",
    "                          columns=['Test Accuracy','Test AUC'],\n",
    "                          index=models_dict.keys())\n",
    "\n",
    "# Display the summary DataFrame\n",
    "display(summary_df)"
   ]
  },
  {
   "cell_type": "code",
   "execution_count": 42,
   "id": "e5dfd60b-1c7c-443d-8086-91db88f0a3cf",
   "metadata": {},
   "outputs": [],
   "source": [
    "def evaluate_model(model, test_dataset):\n",
    "    \"\"\"\n",
    "    Evaluates a given model on a test dataset and returns scores for loss, recall, and AUC.\n",
    "    \"\"\"\n",
    "    # Evaluate the model on the test dataset\n",
    "    test_scores = model.evaluate(test_dataset, verbose=0)\n",
    "\n",
    "    # Initialize an empty list to hold scores\n",
    "    scores = []\n",
    "\n",
    "    # Indices for loss, recall, and AUC in `test_scores` are 0, 2, and 1, respectively.\n",
    "    # Appending rounded scores for loss, recall, and AUC to the scores list\n",
    "    for index in [0, 2, 1]:\n",
    "        scores.append(round(test_scores[index], 4))\n",
    "        \n",
    "    return scores\n"
   ]
  },
  {
   "cell_type": "code",
   "execution_count": 44,
   "id": "18481715-da3a-4e2b-9c1a-f95b96008a35",
   "metadata": {
    "scrolled": true
   },
   "outputs": [
    {
     "name": "stdout",
     "output_type": "stream",
     "text": [
      "19/19 [==============================] - 1s 34ms/step\n"
     ]
    },
    {
     "data": {
      "image/png": "[encoded data removed]",
      "text/plain": [
       "<Figure size 400x400 with 2 Axes>"
      ]
     },
     "metadata": {},
     "output_type": "display_data"
    }
   ],
   "source": [
    "data_modeling.cnf_mat(dropout_model, test_ds)"
   ]
  },
  {
   "cell_type": "markdown",
   "id": "98936711-ee7c-49b3-a1f5-df400a02c9c1",
   "metadata": {},
   "source": [
    "The final model demonstrated exceptional performance on the unseen test dataset, achieving a recall of 97.2% and an AUC of 99.11%. These results indicate a high ability to correctly identify pneumonia cases, with the model correctly identifying 97.2% of all pneumonia images. The strong performance across validation and testing datasets suggests that the model is likely to generalize well to new, unseen data"
   ]
  },
  {
   "cell_type": "markdown",
   "id": "ee02e1b3-7a6b-4511-8b67-d3ccc9bf0cad",
   "metadata": {},
   "source": [
    "## Conclusions\n",
    "***\n",
    "### Recommendations\n",
    "Based on the final model, it is recommended that the children's hospital consider incorporating this model into their pneumonia diagnosis workflow. Initially, radiologists and the model should independently evaluate chest X-rays, with their diagnoses being compared to assess the model's reliability and accuracy. Over time, as confidence in the model's diagnostic capabilities grows, the hospital could gradually shift more responsibility to the model. This approach aims to not only enhance diagnostic efficiency but also improve accuracy, ultimately benefiting patient care.\n",
    "\n",
    "### Limitations\n",
    "- Although a 97% accuracy rate is impressive, it implies that 3% of patients with the condition are misdiagnosed as healthy.\n",
    "- Given that the images in this dataset underwent initial quality control, removing low-quality and unreadable scans, the model is likely most effective with high-quality images.\n",
    "  \n",
    "### Next Steps\n",
    "- Encourage increased use of chest X-ray imaging, as the cost to diagnose images has decreased.\n",
    "- Continuously update the training sets with new images to refine and improve model accuracy.\n",
    "- Instead of a binary classifier, future models could be made to detect bacterial vs viral pneumonia cases. "
   ]
  }
 ],
 "metadata": {
  "kernelspec": {
   "display_name": "Python 3 (ipykernel)",
   "language": "python",
   "name": "python3"
  },
  "language_info": {
   "codemirror_mode": {
    "name": "ipython",
    "version": 3
   },
   "file_extension": ".py",
   "mimetype": "text/x-python",
   "name": "python",
   "nbconvert_exporter": "python",
   "pygments_lexer": "ipython3",
   "version": "3.11.5"
  }
 },
 "nbformat": 4,
 "nbformat_minor": 5
}
