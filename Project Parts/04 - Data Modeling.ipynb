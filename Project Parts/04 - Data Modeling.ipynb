{
 "cells": [
  {
   "cell_type": "markdown",
   "id": "cb850a0f-8c58-4916-abf4-361949fa9d43",
   "metadata": {},
   "source": [
    "## Data Modeling\n",
    "***\n",
    "During the modeling process, I iteratively trained and evaluated numerous models to identify the most effective one. A validation dataset, previously unseen by the model, was used for evaluation to ensure accuracy in real-world scenarios. To inform my decision-making, I relied on both loss and recall metrics, aiming to minimize error while maximizing the model's ability to correctly identify pneumonia cases. I also included the Area Under the ROC Curve (AUC) to provide insight into the model's overall performance, ensuring it doesn't just achieve high recall by simply labeling all cases as positive.\n",
    "\n",
    "Key adjustments made during model iterations and hyperparameter tuning included:\n",
    "\n",
    "- Adjusting the number and configuration of layers and nodes.\n",
    "- Choosing between Dense and Conv2D layers for structure.\n",
    "- Implementing regularization techniques such as Dropout layers, L1/L2 regularization, and data augmentation to prevent overfitting.\n",
    "- Selecting appropriate initializers and optimizers for optimization.\n",
    "- Applying transfer learning with the pretrained ResNet50 model to leverage pre-existing neural network architectures."
   ]
  },
  {
   "cell_type": "code",
   "execution_count": null,
   "id": "c588e1f1-14d4-473e-ad5a-e09d85919dbe",
   "metadata": {},
   "outputs": [],
   "source": []
  },
  {
   "cell_type": "code",
   "execution_count": null,
   "id": "351eeaeb-b402-40bd-8db3-13b584de5024",
   "metadata": {},
   "outputs": [],
   "source": []
  },
  {
   "cell_type": "code",
   "execution_count": null,
   "id": "174e0cff-32a8-4768-b2a2-533a4ae80b5e",
   "metadata": {},
   "outputs": [],
   "source": []
  },
  {
   "cell_type": "code",
   "execution_count": null,
   "id": "e8f47b7f-f1a7-4152-b3be-72a5eced527b",
   "metadata": {},
   "outputs": [],
   "source": []
  },
  {
   "cell_type": "code",
   "execution_count": null,
   "id": "41ca3e81-ed53-458a-b25e-d26bf1b8632e",
   "metadata": {},
   "outputs": [],
   "source": []
  }
 ],
 "metadata": {
  "kernelspec": {
   "display_name": "Python 3 (ipykernel)",
   "language": "python",
   "name": "python3"
  },
  "language_info": {
   "codemirror_mode": {
    "name": "ipython",
    "version": 3
   },
   "file_extension": ".py",
   "mimetype": "text/x-python",
   "name": "python",
   "nbconvert_exporter": "python",
   "pygments_lexer": "ipython3",
   "version": "3.11.8"
  }
 },
 "nbformat": 4,
 "nbformat_minor": 5
}
