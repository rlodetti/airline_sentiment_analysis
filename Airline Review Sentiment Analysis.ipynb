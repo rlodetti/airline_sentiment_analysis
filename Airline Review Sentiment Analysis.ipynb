{
 "cells": [
  {
   "cell_type": "markdown",
   "id": "29d7224e-5979-4aa9-9fbb-5f42a759c257",
   "metadata": {},
   "source": [
    "# Airline Review Sentiment Analysis\n",
    "***\n",
    "**Author:** Ron Lodetti Jr.\n",
    "![doctor](./images/doctor_crop.jpg)\n",
    "\n",
    "Image by <a href=\"https://www.freepik.com/free-photo/doctor-checking-radiography-front-view_35436186.htm#fromView=search&page=1&position=0&uuid=0c377c4a-a764-4319-8c20-d708851a4835\">Freepik</a>"
   ]
  },
  {
   "cell_type": "markdown",
   "id": "e2eacfe9-292e-4b1d-a05b-1a6814be3839",
   "metadata": {
    "jp-MarkdownHeadingCollapsed": true
   },
   "source": [
    "## Overview\n",
    "***"
   ]
  },
  {
   "cell_type": "markdown",
   "id": "b7d7f350-4bb1-436c-8339-c3622197c614",
   "metadata": {},
   "source": [
    "A one-paragraph overview of the project, including the business problem, data, methods, results and recommendations."
   ]
  },
  {
   "cell_type": "markdown",
   "id": "dad6f105-0444-4c6d-908b-44c812c5c845",
   "metadata": {},
   "source": [
    "## Business Problem\n",
    "***"
   ]
  },
  {
   "cell_type": "markdown",
   "id": "0cd1b025-62b5-4ef7-9299-816ab12ce567",
   "metadata": {},
   "source": [
    "A popular airline company wants to increase customer sentiment and foster loyalty through improving customer service. Some difficulties include the many different areas the company could focus on, such as flight attendant training, food quality, seat comfort, as well as the challenge of manually reviewing survey data.\n",
    "\n",
    "The airline has tasked me with analyzing over 20,000 historical reviews to help predict customer satisfaction and identify the most influential features responsible for customer satisfaction.\n",
    "\n",
    "By creating a predictive model to analyze customer sentiment at scale, our project aims to provide the airline with the insights needed to make informed decisions, ultimately improving the customer experience, fostering loyalty, and enhancing the brand's competitive edge in the market."
   ]
  },
  {
   "cell_type": "code",
   "execution_count": 12,
   "id": "fe29dc08-b66f-4ebc-a207-a3a1c1dec5c2",
   "metadata": {},
   "outputs": [
    {
     "name": "stdout",
     "output_type": "stream",
     "text": [
      "The autoreload extension is already loaded. To reload it, use:\n",
      "  %reload_ext autoreload\n"
     ]
    }
   ],
   "source": [
    "import numpy as np\n",
    "import pandas as pd\n",
    "import matplotlib.pyplot as plt\n",
    "from joblib import dump\n",
    "from sklearn.dummy import DummyClassifier\n",
    "from sklearn.ensemble import GradientBoostingClassifier, RandomForestClassifier\n",
    "from sklearn.feature_extraction.text import TfidfVectorizer\n",
    "from sklearn.feature_selection import SelectKBest\n",
    "from sklearn.linear_model import LogisticRegression\n",
    "from sklearn.model_selection import train_test_split, StratifiedKFold, cross_validate\n",
    "from sklearn.naive_bayes import MultinomialNB\n",
    "from sklearn.pipeline import Pipeline\n",
    "from sklearn.preprocessing import FunctionTransformer\n",
    "from tensorflow.data import AUTOTUNE as tf_AUTOTUNE, Dataset as tf_Dataset\n",
    "from tensorflow.keras.callbacks import EarlyStopping\n",
    "from tensorflow.keras.layers import Dense, Dropout, Embedding, Bidirectional, GRU, TextVectorization\n",
    "from tensorflow.keras.models import Sequential\n",
    "from scikeras.wrappers import KerasClassifier\n",
    "import seaborn as sns\n",
    "from nltk.tokenize import RegexpTokenizer\n",
    "from src import code\n",
    "\n",
    "import nltk\n",
    "from nltk.corpus import stopwords, wordnet\n",
    "from nltk.stem import WordNetLemmatizer\n",
    "from nltk.tag import pos_tag\n",
    "from nltk.tokenize import RegexpTokenizer\n",
    "nltk.download('stopwords', quiet=True)\n",
    "nltk.download('wordnet', quiet=True)\n",
    "nltk.download('averaged_perceptron_tagger', quiet=True)\n",
    "\n",
    "STOPWORDS = stopwords.words('english')\n",
    "%load_ext autoreload\n",
    "%autoreload 2\n",
    "\n",
    "import os\n",
    "os.environ['TF_CPP_MIN_LOG_LEVEL'] = '2'  # Suppress TensorFlow logging (1: INFO, 2: WARNING, 3: ERROR)\n",
    "import warnings\n",
    "warnings.filterwarnings('ignore')  # Suppress Python warnings"
   ]
  },
  {
   "cell_type": "markdown",
   "id": "0a1bbb05-f17a-4a19-9e73-0823723b7bd1",
   "metadata": {},
   "source": [
    "## Data Understanding"
   ]
  },
  {
   "cell_type": "markdown",
   "id": "7a8e9585-6177-40e2-8e72-b17423ccfcf1",
   "metadata": {
    "jupyter": {
     "source_hidden": true
    }
   },
   "source": [
    "The original dataset was collected from from [airlineequallity.com](https://www.airlinequality.com/review-pages/a-z-airline-reviews/) by \n",
    "Juhi Bhojani. You can find more details about their collection process at their [GitHub](https://github.com/Juhibhojani/Airline-Reviews-). I found and downloaded the data directly from [Kaggle](https://www.kaggle.com/datasets/juhibhojani/airline-reviews) in the form of a csv. \n",
    "\n",
    "While originally including 20 columns, I decided to select just 3 of them to focus this project on Natual Language Processing. The `Review_Title` and `Review` columns will be combined to serve as the review texts and the target will be the `Recommended` column which consists of either \"yes\" or \"no\". "
   ]
  },
  {
   "cell_type": "markdown",
   "id": "158bafda-9b2e-4bf2-85ce-1af92ab7ddfb",
   "metadata": {
    "jupyter": {
     "source_hidden": true
    }
   },
   "source": [
    "Data Understanding: Notebook clearly describes the source and properties of the data to show how useful the data are for solving the problem of interest.\n",
    "Describe the data sources and explain why the data are suitable for the project\n",
    "Present the size of the dataset and descriptive statistics for all features used in the analysis\n",
    "Justify the inclusion of features based on their properties and relevance for the project\n",
    "Identify any limitations of the data that have implications for the project\n",
    "\n",
    "Describe the data being used for this project.\n",
    "***\n",
    "Questions to consider:\n",
    "* Where did the data come from, and how do they relate to the data analysis questions?\n",
    "* What do the data represent? Who is in the sample and what variables are included?\n",
    "* What is the target variable?\n",
    "* What are the properties of the variables you intend to use?\n",
    "***\n"
   ]
  },
  {
   "cell_type": "code",
   "execution_count": 3,
   "id": "8494a4f7-beb0-4eee-8df7-48889c018a91",
   "metadata": {},
   "outputs": [
    {
     "data": {
      "text/html": [
       "<div>\n",
       "<style scoped>\n",
       "    .dataframe tbody tr th:only-of-type {\n",
       "        vertical-align: middle;\n",
       "    }\n",
       "\n",
       "    .dataframe tbody tr th {\n",
       "        vertical-align: top;\n",
       "    }\n",
       "\n",
       "    .dataframe thead th {\n",
       "        text-align: right;\n",
       "    }\n",
       "</style>\n",
       "<table border=\"1\" class=\"dataframe\">\n",
       "  <thead>\n",
       "    <tr style=\"text-align: right;\">\n",
       "      <th></th>\n",
       "      <th>Review_Title</th>\n",
       "      <th>Review</th>\n",
       "      <th>Recommended</th>\n",
       "    </tr>\n",
       "  </thead>\n",
       "  <tbody>\n",
       "    <tr>\n",
       "      <th>0</th>\n",
       "      <td>\"pretty decent airline\"</td>\n",
       "      <td>Moroni to Moheli. Turned out to be a pretty ...</td>\n",
       "      <td>yes</td>\n",
       "    </tr>\n",
       "    <tr>\n",
       "      <th>1</th>\n",
       "      <td>\"Not a good airline\"</td>\n",
       "      <td>Moroni to Anjouan. It is a very small airline...</td>\n",
       "      <td>no</td>\n",
       "    </tr>\n",
       "    <tr>\n",
       "      <th>2</th>\n",
       "      <td>\"flight was fortunately short\"</td>\n",
       "      <td>Anjouan to Dzaoudzi. A very small airline an...</td>\n",
       "      <td>no</td>\n",
       "    </tr>\n",
       "    <tr>\n",
       "      <th>3</th>\n",
       "      <td>\"I will never fly again with Adria\"</td>\n",
       "      <td>Please do a favor yourself and do not fly wi...</td>\n",
       "      <td>no</td>\n",
       "    </tr>\n",
       "    <tr>\n",
       "      <th>4</th>\n",
       "      <td>\"it ruined our last days of holidays\"</td>\n",
       "      <td>Do not book a flight with this airline! My fr...</td>\n",
       "      <td>no</td>\n",
       "    </tr>\n",
       "  </tbody>\n",
       "</table>\n",
       "</div>"
      ],
      "text/plain": [
       "                            Review_Title  \\\n",
       "0                \"pretty decent airline\"   \n",
       "1                   \"Not a good airline\"   \n",
       "2         \"flight was fortunately short\"   \n",
       "3    \"I will never fly again with Adria\"   \n",
       "4  \"it ruined our last days of holidays\"   \n",
       "\n",
       "                                              Review Recommended  \n",
       "0    Moroni to Moheli. Turned out to be a pretty ...         yes  \n",
       "1   Moroni to Anjouan. It is a very small airline...          no  \n",
       "2    Anjouan to Dzaoudzi. A very small airline an...          no  \n",
       "3    Please do a favor yourself and do not fly wi...          no  \n",
       "4   Do not book a flight with this airline! My fr...          no  "
      ]
     },
     "execution_count": 3,
     "metadata": {},
     "output_type": "execute_result"
    }
   ],
   "source": [
    "df = pd.read_csv('data/Airline_review.csv')[['Review_Title','Review','Recommended']]\n",
    "df.head()"
   ]
  },
  {
   "cell_type": "code",
   "execution_count": 4,
   "id": "961edd8c-2beb-4d05-9189-6639442ba353",
   "metadata": {},
   "outputs": [
    {
     "name": "stdout",
     "output_type": "stream",
     "text": [
      "<class 'pandas.core.frame.DataFrame'>\n",
      "RangeIndex: 23171 entries, 0 to 23170\n",
      "Data columns (total 3 columns):\n",
      " #   Column        Non-Null Count  Dtype \n",
      "---  ------        --------------  ----- \n",
      " 0   Review_Title  23171 non-null  object\n",
      " 1   Review        23171 non-null  object\n",
      " 2   Recommended   23171 non-null  object\n",
      "dtypes: object(3)\n",
      "memory usage: 543.2+ KB\n"
     ]
    }
   ],
   "source": [
    "df.info()"
   ]
  },
  {
   "cell_type": "code",
   "execution_count": 6,
   "id": "43f0812c-544e-49f5-a132-1ec965998409",
   "metadata": {},
   "outputs": [],
   "source": [
    "df['reviews'] = df['Review_Title'] + ' ' + df['Review']\n",
    "\n",
    "tokenizer = RegexpTokenizer(r\"([a-zA-Z]+(?:’[a-z]+)?)\")\n",
    "df['clean_review'] = code.preprocess_texts(df['reviews'], tokenizer)\n",
    "df['tokens'] = df['clean_review'].apply(lambda x : x.split())\n",
    "df['word_count'] = df['tokens'].apply(lambda x: len(x))\n",
    "df['char_count'] = df['clean_review'].apply(lambda x: len(x))\n",
    "df = df.drop(['Review_Title','Review','reviews'],axis=1)"
   ]
  },
  {
   "cell_type": "code",
   "execution_count": 7,
   "id": "6f25a662-b9e3-4f3d-96a7-9eb02bd81fa7",
   "metadata": {},
   "outputs": [],
   "source": [
    "yes_df = df.loc[df['Recommended']=='yes'].copy()\n",
    "no_df = df.loc[df['Recommended']=='no'].copy()"
   ]
  },
  {
   "cell_type": "code",
   "execution_count": 8,
   "id": "300d426a-6488-4054-bd9a-c9db9f795bea",
   "metadata": {},
   "outputs": [
    {
     "data": {
      "text/plain": [
       "Recommended\n",
       "no     15364\n",
       "yes     7807\n",
       "Name: count, dtype: int64"
      ]
     },
     "metadata": {},
     "output_type": "display_data"
    },
    {
     "name": "stdout",
     "output_type": "stream",
     "text": [
      "\n"
     ]
    },
    {
     "data": {
      "text/plain": [
       "Recommended\n",
       "no     0.66307\n",
       "yes    0.33693\n",
       "Name: proportion, dtype: float64"
      ]
     },
     "metadata": {},
     "output_type": "display_data"
    }
   ],
   "source": [
    "# Number and distribution of target\n",
    "display(df['Recommended'].value_counts())\n",
    "print('')\n",
    "display(df['Recommended'].value_counts(normalize=True))"
   ]
  },
  {
   "cell_type": "code",
   "execution_count": 14,
   "id": "92f3bb89-ab69-4204-b2bf-201ae50e3c16",
   "metadata": {},
   "outputs": [
    {
     "data": {
      "image/png": "[encoded data removed]",
      "text/plain": [
       "<Figure size 640x480 with 1 Axes>"
      ]
     },
     "metadata": {},
     "output_type": "display_data"
    }
   ],
   "source": [
    "sns.boxplot(data=df, x='word_count', y='Recommended', hue='Recommended',dodge=False)\n",
    "plt.legend().remove()\n",
    "plt.tight_layout()\n",
    "plt.show()"
   ]
  },
  {
   "cell_type": "code",
   "execution_count": 15,
   "id": "6107666f-a732-436d-b3ac-45ead198c905",
   "metadata": {},
   "outputs": [
    {
     "data": {
      "image/png": "[encoded data removed]",
      "text/plain": [
       "<Figure size 640x480 with 1 Axes>"
      ]
     },
     "metadata": {},
     "output_type": "display_data"
    }
   ],
   "source": [
    "sns.boxplot(data=df, x='char_count', y='Recommended', hue='Recommended',dodge=False)\n",
    "plt.legend().remove()\n",
    "plt.tight_layout()\n",
    "plt.show()"
   ]
  },
  {
   "cell_type": "markdown",
   "id": "fd513029-e0d5-47f0-83c4-dfc12249cec2",
   "metadata": {},
   "source": [
    "### Stopped & Lemmatized Data"
   ]
  },
  {
   "cell_type": "code",
   "execution_count": null,
   "id": "83085752-1abf-4221-9c92-f227cf1efd6b",
   "metadata": {},
   "outputs": [],
   "source": [
    "\n",
    "stopped_df = pd.read_csv('data/Airline_review.csv')[['Review_Title','Review','Recommended']]\n",
    "stopped_df['reviews'] = stopped_df['Review_Title'] + ' ' + stopped_df['Review']\n",
    "stopped_df['tokens'] = code.preprocess_texts(stopped_df['reviews'], tokenizer, stop_words=STOPWORDS, lemmatize=True, tokenize=True)\n",
    "yes_stopped_df = stopped_df.loc[stopped_df['Recommended']=='yes'].copy()\n",
    "no_stopped_df = stopped_df.loc[stopped_df['Recommended']=='no'].copy()\n",
    "yes_tokens = list(yes_stopped_df['tokens'].explode())\n",
    "no_tokens = list(no_stopped_df['tokens'].explode())\n",
    "freq_yes = FreqDist(yes_tokens)\n",
    "freq_no = FreqDist(no_tokens)\n",
    "distinct_yes = {word: freq_yes[word] - freq_no[word] for word in freq_yes}\n",
    "distinct_no = {word: freq_no[word] - freq_yes[word] for word in freq_no}\n",
    "distinct_yes_fd = FreqDist(distinct_yes)\n",
    "distinct_no_fd = FreqDist(distinct_no)\n",
    "common_yes = distinct_yes_fd.most_common(10)\n",
    "common_no = distinct_no_fd.most_common(10)"
   ]
  },
  {
   "cell_type": "code",
   "execution_count": 16,
   "id": "3ec8446c-621f-4bd1-85f0-086353b25db6",
   "metadata": {
    "collapsed": true,
    "jupyter": {
     "outputs_hidden": true
    },
    "scrolled": true
   },
   "outputs": [
    {
     "ename": "NameError",
     "evalue": "name 'stopped_df' is not defined",
     "output_type": "error",
     "traceback": [
      "\u001b[0;31m---------------------------------------------------------------------------\u001b[0m",
      "\u001b[0;31mNameError\u001b[0m                                 Traceback (most recent call last)",
      "Cell \u001b[0;32mIn[16], line 11\u001b[0m\n\u001b[1;32m      5\u001b[0m df[\u001b[38;5;124m'\u001b[39m\u001b[38;5;124mstopped_tokens\u001b[39m\u001b[38;5;124m'\u001b[39m] \u001b[38;5;241m=\u001b[39m code\u001b[38;5;241m.\u001b[39mpreprocess_texts(df[\u001b[38;5;124m'\u001b[39m\u001b[38;5;124mclean_review\u001b[39m\u001b[38;5;124m'\u001b[39m],\n\u001b[1;32m      6\u001b[0m                                              tokenizer, \n\u001b[1;32m      7\u001b[0m                                              stop_words\u001b[38;5;241m=\u001b[39mSTOPWORDS, \n\u001b[1;32m      8\u001b[0m                                              lemmatize\u001b[38;5;241m=\u001b[39m\u001b[38;5;28;01mTrue\u001b[39;00m, \n\u001b[1;32m      9\u001b[0m                                              tokenize\u001b[38;5;241m=\u001b[39m\u001b[38;5;28;01mTrue\u001b[39;00m)\n\u001b[1;32m     10\u001b[0m \u001b[38;5;66;03m# Split based on recommendation\u001b[39;00m\n\u001b[0;32m---> 11\u001b[0m yes_tokens \u001b[38;5;241m=\u001b[39m stopped_df\u001b[38;5;241m.\u001b[39mloc[df[\u001b[38;5;124m'\u001b[39m\u001b[38;5;124mRecommended\u001b[39m\u001b[38;5;124m'\u001b[39m] \u001b[38;5;241m==\u001b[39m \u001b[38;5;124m'\u001b[39m\u001b[38;5;124myes\u001b[39m\u001b[38;5;124m'\u001b[39m, \u001b[38;5;124m'\u001b[39m\u001b[38;5;124mstopped_tokens\u001b[39m\u001b[38;5;124m'\u001b[39m]\u001b[38;5;241m.\u001b[39mexplode()\n\u001b[1;32m     12\u001b[0m no_tokens \u001b[38;5;241m=\u001b[39m stopped_df\u001b[38;5;241m.\u001b[39mloc[df[\u001b[38;5;124m'\u001b[39m\u001b[38;5;124mRecommended\u001b[39m\u001b[38;5;124m'\u001b[39m] \u001b[38;5;241m==\u001b[39m \u001b[38;5;124m'\u001b[39m\u001b[38;5;124mno\u001b[39m\u001b[38;5;124m'\u001b[39m, \u001b[38;5;124m'\u001b[39m\u001b[38;5;124mstopped_tokens\u001b[39m\u001b[38;5;124m'\u001b[39m]\u001b[38;5;241m.\u001b[39mexplode()\n\u001b[1;32m     14\u001b[0m \u001b[38;5;66;03m# Calculate frequencies\u001b[39;00m\n",
      "\u001b[0;31mNameError\u001b[0m: name 'stopped_df' is not defined"
     ]
    }
   ],
   "source": [
    "from collections import Counter\n",
    "STOPWORDS.append(\"us\")\n",
    "STOPWORDS.append(\"u\")\n",
    "# Combine title and review, then preprocess and tokenize\n",
    "df['stopped_tokens'] = code.preprocess_texts(df['clean_review'],\n",
    "                                             tokenizer, \n",
    "                                             stop_words=STOPWORDS, \n",
    "                                             lemmatize=True, \n",
    "                                             tokenize=True)"
   ]
  },
  {
   "cell_type": "code",
   "execution_count": 17,
   "id": "c003a4b6-2ce3-4aba-8ba2-d9eca51ea81f",
   "metadata": {},
   "outputs": [],
   "source": [
    "# Split based on recommendation\n",
    "yes_tokens = df.loc[df['Recommended'] == 'yes', 'stopped_tokens'].explode()\n",
    "no_tokens = df.loc[df['Recommended'] == 'no', 'stopped_tokens'].explode()\n",
    "\n",
    "# Calculate frequencies\n",
    "freq_yes = Counter(yes_tokens)\n",
    "freq_no = Counter(no_tokens)\n",
    "\n",
    "# Find distinct terms by subtracting the counters\n",
    "distinct_yes = freq_yes - freq_no\n",
    "distinct_no = freq_no - freq_yes\n",
    "\n",
    "# Get the most common terms\n",
    "common_yes = distinct_yes.most_common(10)\n",
    "common_no = distinct_no.most_common(10)"
   ]
  },
  {
   "cell_type": "code",
   "execution_count": 18,
   "id": "d578f91f-7125-4862-ad6d-bf7a52780368",
   "metadata": {},
   "outputs": [
    {
     "data": {
      "image/png": "[encoded data removed]",
      "text/plain": [
       "<Figure size 640x480 with 1 Axes>"
      ]
     },
     "metadata": {},
     "output_type": "display_data"
    }
   ],
   "source": [
    "words = []\n",
    "counts = []\n",
    "for word, count in common_yes:\n",
    "    words.append(word)\n",
    "    counts.append(count)\n",
    "\n",
    "fig, ax = plt.subplots()\n",
    "sns.barplot(x=words, y=counts, ax= ax)\n",
    "plt.xticks(rotation=45)\n",
    "plt.show()"
   ]
  },
  {
   "cell_type": "code",
   "execution_count": 19,
   "id": "3ff4808d-6f48-4b96-987d-eb801704f113",
   "metadata": {},
   "outputs": [
    {
     "data": {
      "image/png": "[encoded data removed]",
      "text/plain": [
       "<Figure size 640x480 with 1 Axes>"
      ]
     },
     "metadata": {},
     "output_type": "display_data"
    }
   ],
   "source": [
    "words = []\n",
    "counts = []\n",
    "for word, count in common_no:\n",
    "    words.append(word)\n",
    "    counts.append(count)\n",
    "\n",
    "fig, ax = plt.subplots()\n",
    "sns.barplot(x=words, y=counts, ax= ax)\n",
    "plt.xticks(rotation=45)\n",
    "plt.show()"
   ]
  },
  {
   "cell_type": "markdown",
   "id": "8a495da6-78aa-4849-aab6-97cbd8b12a11",
   "metadata": {},
   "source": [
    "## Data Preparation\n",
    "***"
   ]
  },
  {
   "cell_type": "markdown",
   "id": "3675c7fe-c192-4073-a6c8-75a681301f55",
   "metadata": {
    "jupyter": {
     "source_hidden": true
    }
   },
   "source": [
    "To prepare my data for modeling I:\n",
    "- Reorganized the image files.\n",
    "- Imported my training data, standardizing aspect ratio.\n",
    "- Applied scaling to the training data for normalization.\n",
    "- Imported validation data to be used test the model's performance.\n",
    "- Created a specialized dataset specifically formatted for use with the ResNet50 classifier."
   ]
  },
  {
   "cell_type": "code",
   "execution_count": 33,
   "id": "585cfe2c-07e2-42f3-9749-01158c44df5a",
   "metadata": {},
   "outputs": [],
   "source": [
    "df = pd.read_csv('data/Airline_review.csv')[['Review_Title', 'Review', 'Recommended']]\n",
    "X = df['Review_Title'] + ' ' + df['Review']\n",
    "y = df['Recommended'].map({'yes': 1, 'no': 0})\n",
    "X_train, X_test, y_train, y_test = train_test_split(X, y, test_size=0.1, stratify=y, random_state=42)"
   ]
  },
  {
   "cell_type": "markdown",
   "id": "d4e2ab7f-5cf1-4ca5-9468-6217790faa3f",
   "metadata": {},
   "source": [
    "### Bag of Words Prep"
   ]
  },
  {
   "cell_type": "code",
   "execution_count": 34,
   "id": "c10233ff-e8b3-43ec-8ad4-6eb20b484646",
   "metadata": {},
   "outputs": [],
   "source": [
    "tf_idf = TfidfVectorizer(decode_error='replace',\n",
    "                         strip_accents='unicode',\n",
    "                         stop_words=None,\n",
    "                         ngram_range=(1, 2),\n",
    "                         max_df=0.95,\n",
    "                         min_df=2)\n",
    "k_best = SelectKBest(k=20000)\n",
    "\n",
    "# def to_dense(x):\n",
    "#     \"\"\"Convert a sparse matrix to a dense numpy array.\"\"\"\n",
    "#     return np.asarray(x.todense())\n",
    "    \n",
    "# to_dense_transformer = FunctionTransformer(to_dense, accept_sparse=True)\n",
    "\n",
    "# bow_pipe = Pipeline([\n",
    "#     (\"tf_idf\", tf_idf),\n",
    "#     ('feature_selection', k_best),\n",
    "#     ('to_dense',to_dense_transformer)])\n",
    "\n",
    "bow_pipe = Pipeline([\n",
    "    (\"tf_idf\", tf_idf),\n",
    "    ('feature_selection', k_best)])\n",
    "\n",
    "X_train_bow = code.preprocess_texts(X_train, tokenizer, stop_words=None, lemmatize=True)\n",
    "X_val_bow = code.preprocess_texts(X_val, tokenizer, stop_words=None, lemmatize=True)"
   ]
  },
  {
   "cell_type": "code",
   "execution_count": 35,
   "id": "221ec078-5515-417f-8b0f-a8273ce35a98",
   "metadata": {},
   "outputs": [],
   "source": [
    "# Cleaning text for sequence models\n",
    "X_train_seq = code.preprocess_texts(X_train, tokenizer)\n",
    "X_val_seq = code.preprocess_texts(X_val, tokenizer)"
   ]
  },
  {
   "cell_type": "code",
   "execution_count": 36,
   "id": "a6564760-6f0a-47e7-9b92-22678a548c70",
   "metadata": {},
   "outputs": [],
   "source": [
    "# Prep for RNN\n",
    "text_vectorization = TextVectorization(standardize=None,\n",
    "                                       max_tokens=20000,\n",
    "                                       output_mode='int',\n",
    "                                       output_sequence_length=200)\n",
    "\n",
    "text_vectorization.adapt(X_train_seq)\n",
    "X_train_seq_clean = text_vectorization(X_train_seq)\n",
    "X_val_seq_clean = text_vectorization(X_val_seq)"
   ]
  },
  {
   "cell_type": "code",
   "execution_count": 37,
   "id": "be53d94a-2633-4267-b5ed-1c4797dd60a1",
   "metadata": {},
   "outputs": [],
   "source": [
    "# Prep for Glove\n",
    "vocabulary = text_vectorization.get_vocabulary()\n",
    "vocab_size = len(vocabulary) \n",
    "\n",
    "glove_embeddings = {}\n",
    "with open('data/glove.6B.300d.txt', 'r', encoding='utf-8') as file:\n",
    "    for line in file:\n",
    "        values = line.split()\n",
    "        word = values[0]\n",
    "        vector = np.asarray(values[1:], dtype='float32')\n",
    "        glove_embeddings[word] = vector\n",
    "\n",
    "# Initialize the embedding matrix with zeros.\n",
    "embedding_matrix = np.zeros((vocab_size, 300))\n",
    "\n",
    "# Populate the embedding matrix with GloVe vectors.\n",
    "for i, word in enumerate(vocabulary):\n",
    "    embedding_vector = glove_embeddings.get(word)\n",
    "    if embedding_vector is not None:\n",
    "        embedding_matrix[i] = embedding_vector"
   ]
  },
  {
   "cell_type": "markdown",
   "id": "0dfbcc2d-5676-4b55-8909-0707518eb0eb",
   "metadata": {},
   "source": [
    "## Data Modeling\n",
    "***"
   ]
  },
  {
   "cell_type": "markdown",
   "id": "9a1cca72-5eb5-40ad-975d-2a4256e0133b",
   "metadata": {
    "jupyter": {
     "source_hidden": true
    }
   },
   "source": [
    "During the modeling process, I iteratively trained and evaluated numerous models to identify the most effective one. A validation dataset, previously unseen by the model, was used for evaluation to ensure accuracy in real-world scenarios. To inform my decision-making, I relied on both loss and recall metrics, aiming to minimize error while maximizing the model's ability to correctly identify pneumonia cases. I also included the Area Under the ROC Curve (AUC) to provide insight into the model's overall performance, ensuring it doesn't just achieve high recall by simply labeling all cases as positive.\n",
    "\n",
    "Key adjustments made during model iterations and hyperparameter tuning included:\n",
    "\n",
    "- Adjusting the number and configuration of layers and nodes.\n",
    "- Choosing between Dense and Conv2D layers for structure.\n",
    "- Implementing regularization techniques such as Dropout layers, L1/L2 regularization, and data augmentation to prevent overfitting.\n",
    "- Selecting appropriate initializers and optimizers for optimization.\n",
    "- Applying transfer learning with the pretrained ResNet50 model to leverage pre-existing neural network architectures."
   ]
  },
  {
   "cell_type": "code",
   "execution_count": 38,
   "id": "c4cdf895-9be5-45b9-a843-77d2ed7cd06a",
   "metadata": {},
   "outputs": [],
   "source": [
    "skf = StratifiedKFold(n_splits=5, shuffle=True, random_state=42)\n",
    "\n",
    "text_vec_cv = TextVectorization(\n",
    "    standardize=None,\n",
    "    max_tokens=20000,\n",
    "    output_mode='int',\n",
    "    output_sequence_length=200)\n",
    "\n",
    "CALLBACKS = [EarlyStopping(monitor='val_loss',\n",
    "                           min_delta=0.001,\n",
    "                           patience=5,\n",
    "                           restore_best_weights=True,\n",
    "                           verbose=0)]"
   ]
  },
  {
   "cell_type": "markdown",
   "id": "2074bf31-b674-4b6c-9327-8bf1fa893be0",
   "metadata": {},
   "source": [
    "### Baseline Models"
   ]
  },
  {
   "cell_type": "code",
   "execution_count": 39,
   "id": "ffbe6db9-e3f7-42e9-a3ad-dac30f4091c6",
   "metadata": {},
   "outputs": [
    {
     "data": {
      "text/html": [
       "<div>\n",
       "<style scoped>\n",
       "    .dataframe tbody tr th:only-of-type {\n",
       "        vertical-align: middle;\n",
       "    }\n",
       "\n",
       "    .dataframe tbody tr th {\n",
       "        vertical-align: top;\n",
       "    }\n",
       "\n",
       "    .dataframe thead th {\n",
       "        text-align: right;\n",
       "    }\n",
       "</style>\n",
       "<table border=\"1\" class=\"dataframe\">\n",
       "  <thead>\n",
       "    <tr style=\"text-align: right;\">\n",
       "      <th></th>\n",
       "      <th>Accuracy</th>\n",
       "      <th>AUC</th>\n",
       "    </tr>\n",
       "  </thead>\n",
       "  <tbody>\n",
       "    <tr>\n",
       "      <th>Dummy</th>\n",
       "      <td>0.499832</td>\n",
       "      <td>0.5</td>\n",
       "    </tr>\n",
       "  </tbody>\n",
       "</table>\n",
       "</div>"
      ],
      "text/plain": [
       "       Accuracy  AUC\n",
       "Dummy  0.499832  0.5"
      ]
     },
     "execution_count": 39,
     "metadata": {},
     "output_type": "execute_result"
    }
   ],
   "source": [
    "# Dummy Model\n",
    "dummy_model = DummyClassifier(strategy='uniform', random_state=42)\n",
    "\n",
    "def bag_of_words_CV(model_name, model, pipe, X_train, y_train, cv):\n",
    "    model_pipeline = Pipeline(\n",
    "        steps=pipe.steps + [\n",
    "            (model_name, model)\n",
    "        ]\n",
    "    )\n",
    "    cv_results = cross_validate(model_pipeline, \n",
    "                            X_train, \n",
    "                            y_train, \n",
    "                            cv=cv, \n",
    "                            scoring=['accuracy', 'roc_auc'], \n",
    "                            return_train_score=False)\n",
    "    \n",
    "    model_pipeline.fit(X_train, y_train)\n",
    "    \n",
    "    dump(model_pipeline,'data/' + model_name + '_pipeline.joblib')\n",
    "    \n",
    "    accuracy = cv_results['test_accuracy'].mean()\n",
    "    auc = cv_results['test_roc_auc'].mean()\n",
    "    df = pd.DataFrame([[accuracy,auc]],columns=['Accuracy','AUC'], index=[model_name])\n",
    "    return df\n",
    "\n",
    "bag_of_words_CV('Dummy', dummy_model, bow_pipe, X_train_bow, y_train, cv=skf)"
   ]
  },
  {
   "cell_type": "code",
   "execution_count": 40,
   "id": "a78ce3fd-46de-4522-a2fb-70c79623fb26",
   "metadata": {},
   "outputs": [
    {
     "data": {
      "text/html": [
       "<div>\n",
       "<style scoped>\n",
       "    .dataframe tbody tr th:only-of-type {\n",
       "        vertical-align: middle;\n",
       "    }\n",
       "\n",
       "    .dataframe tbody tr th {\n",
       "        vertical-align: top;\n",
       "    }\n",
       "\n",
       "    .dataframe thead th {\n",
       "        text-align: right;\n",
       "    }\n",
       "</style>\n",
       "<table border=\"1\" class=\"dataframe\">\n",
       "  <thead>\n",
       "    <tr style=\"text-align: right;\">\n",
       "      <th></th>\n",
       "      <th>Accuracy</th>\n",
       "      <th>AUC</th>\n",
       "    </tr>\n",
       "  </thead>\n",
       "  <tbody>\n",
       "    <tr>\n",
       "      <th>Baseline</th>\n",
       "      <td>0.904762</td>\n",
       "      <td>0.961384</td>\n",
       "    </tr>\n",
       "  </tbody>\n",
       "</table>\n",
       "</div>"
      ],
      "text/plain": [
       "          Accuracy       AUC\n",
       "Baseline  0.904762  0.961384"
      ]
     },
     "execution_count": 40,
     "metadata": {},
     "output_type": "execute_result"
    }
   ],
   "source": [
    "baseline_model = LogisticRegression(max_iter=1000)\n",
    "\n",
    "code.bag_of_words_CV('Baseline', baseline_model, bow_pipe, X_train_bow, y_train, cv=skf)"
   ]
  },
  {
   "cell_type": "markdown",
   "id": "1046dd1a-4c28-4866-a128-7b7c23fa8184",
   "metadata": {},
   "source": [
    "### Bag of Words Models"
   ]
  },
  {
   "cell_type": "code",
   "execution_count": 41,
   "id": "579f2115-2f93-4b96-b9e7-5372ae78cafa",
   "metadata": {},
   "outputs": [
    {
     "data": {
      "text/html": [
       "<div>\n",
       "<style scoped>\n",
       "    .dataframe tbody tr th:only-of-type {\n",
       "        vertical-align: middle;\n",
       "    }\n",
       "\n",
       "    .dataframe tbody tr th {\n",
       "        vertical-align: top;\n",
       "    }\n",
       "\n",
       "    .dataframe thead th {\n",
       "        text-align: right;\n",
       "    }\n",
       "</style>\n",
       "<table border=\"1\" class=\"dataframe\">\n",
       "  <thead>\n",
       "    <tr style=\"text-align: right;\">\n",
       "      <th></th>\n",
       "      <th>Accuracy</th>\n",
       "      <th>AUC</th>\n",
       "    </tr>\n",
       "  </thead>\n",
       "  <tbody>\n",
       "    <tr>\n",
       "      <th>Logistic_Regression</th>\n",
       "      <td>0.916079</td>\n",
       "      <td>0.967629</td>\n",
       "    </tr>\n",
       "  </tbody>\n",
       "</table>\n",
       "</div>"
      ],
      "text/plain": [
       "                     Accuracy       AUC\n",
       "Logistic_Regression  0.916079  0.967629"
      ]
     },
     "execution_count": 41,
     "metadata": {},
     "output_type": "execute_result"
    }
   ],
   "source": [
    "log_reg = LogisticRegression(C=9.42012179027564, \n",
    "                         max_iter= 100, \n",
    "                         solver= 'newton-cg')\n",
    "\n",
    "code.bag_of_words_CV('Logistic_Regression', log_reg, bow_pipe, X_train_bow, y_train, cv=skf)"
   ]
  },
  {
   "cell_type": "code",
   "execution_count": 42,
   "id": "10f62cfe-da23-4939-aa00-f651c0e569e8",
   "metadata": {},
   "outputs": [
    {
     "data": {
      "text/html": [
       "<div>\n",
       "<style scoped>\n",
       "    .dataframe tbody tr th:only-of-type {\n",
       "        vertical-align: middle;\n",
       "    }\n",
       "\n",
       "    .dataframe tbody tr th {\n",
       "        vertical-align: top;\n",
       "    }\n",
       "\n",
       "    .dataframe thead th {\n",
       "        text-align: right;\n",
       "    }\n",
       "</style>\n",
       "<table border=\"1\" class=\"dataframe\">\n",
       "  <thead>\n",
       "    <tr style=\"text-align: right;\">\n",
       "      <th></th>\n",
       "      <th>Accuracy</th>\n",
       "      <th>AUC</th>\n",
       "    </tr>\n",
       "  </thead>\n",
       "  <tbody>\n",
       "    <tr>\n",
       "      <th>MultinomialNB</th>\n",
       "      <td>0.887738</td>\n",
       "      <td>0.948371</td>\n",
       "    </tr>\n",
       "  </tbody>\n",
       "</table>\n",
       "</div>"
      ],
      "text/plain": [
       "               Accuracy       AUC\n",
       "MultinomialNB  0.887738  0.948371"
      ]
     },
     "execution_count": 42,
     "metadata": {},
     "output_type": "execute_result"
    }
   ],
   "source": [
    "mnb_model = MultinomialNB(fit_prior= False,\n",
    "                    class_prior= None,\n",
    "                    alpha= 0.01)\n",
    "\n",
    "code.bag_of_words_CV('MultinomialNB', mnb_model, bow_pipe, X_train_bow, y_train, cv=skf)"
   ]
  },
  {
   "cell_type": "code",
   "execution_count": 43,
   "id": "bb6f043e-fc35-4304-9d86-20e17ef0fbc2",
   "metadata": {},
   "outputs": [
    {
     "data": {
      "text/html": [
       "<div>\n",
       "<style scoped>\n",
       "    .dataframe tbody tr th:only-of-type {\n",
       "        vertical-align: middle;\n",
       "    }\n",
       "\n",
       "    .dataframe tbody tr th {\n",
       "        vertical-align: top;\n",
       "    }\n",
       "\n",
       "    .dataframe thead th {\n",
       "        text-align: right;\n",
       "    }\n",
       "</style>\n",
       "<table border=\"1\" class=\"dataframe\">\n",
       "  <thead>\n",
       "    <tr style=\"text-align: right;\">\n",
       "      <th></th>\n",
       "      <th>Accuracy</th>\n",
       "      <th>AUC</th>\n",
       "    </tr>\n",
       "  </thead>\n",
       "  <tbody>\n",
       "    <tr>\n",
       "      <th>Gradient_Boosting_Classifier</th>\n",
       "      <td>0.902412</td>\n",
       "      <td>0.959359</td>\n",
       "    </tr>\n",
       "  </tbody>\n",
       "</table>\n",
       "</div>"
      ],
      "text/plain": [
       "                              Accuracy       AUC\n",
       "Gradient_Boosting_Classifier  0.902412  0.959359"
      ]
     },
     "execution_count": 43,
     "metadata": {},
     "output_type": "execute_result"
    }
   ],
   "source": [
    "gbc_model = GradientBoostingClassifier(subsample=0.8,\n",
    "                                 n_estimators=300,\n",
    "                                 min_samples_split=2,\n",
    "                                 max_features='sqrt',\n",
    "                                 max_depth=6,\n",
    "                                 learning_rate=0.1)\n",
    "\n",
    "code.bag_of_words_CV('Gradient_Boosting_Classifier', gbc_model, bow_pipe, X_train_bow, y_train, cv=skf)"
   ]
  },
  {
   "cell_type": "code",
   "execution_count": 44,
   "id": "df01a3f7-a87d-486e-8494-448cd242bb53",
   "metadata": {},
   "outputs": [
    {
     "ename": "KeyboardInterrupt",
     "evalue": "",
     "output_type": "error",
     "traceback": [
      "\u001b[0;31m---------------------------------------------------------------------------\u001b[0m",
      "\u001b[0;31mKeyboardInterrupt\u001b[0m                         Traceback (most recent call last)",
      "Cell \u001b[0;32mIn[44], line 8\u001b[0m\n\u001b[1;32m      1\u001b[0m rfc_model \u001b[38;5;241m=\u001b[39m RandomForestClassifier(n_estimators\u001b[38;5;241m=\u001b[39m\u001b[38;5;241m500\u001b[39m,\n\u001b[1;32m      2\u001b[0m                              min_samples_split\u001b[38;5;241m=\u001b[39m\u001b[38;5;241m10\u001b[39m,\n\u001b[1;32m      3\u001b[0m                              min_samples_leaf\u001b[38;5;241m=\u001b[39m\u001b[38;5;241m1\u001b[39m,\n\u001b[1;32m      4\u001b[0m                              max_features\u001b[38;5;241m=\u001b[39m\u001b[38;5;124m'\u001b[39m\u001b[38;5;124msqrt\u001b[39m\u001b[38;5;124m'\u001b[39m,\n\u001b[1;32m      5\u001b[0m                              max_depth\u001b[38;5;241m=\u001b[39m\u001b[38;5;28;01mNone\u001b[39;00m,\n\u001b[1;32m      6\u001b[0m                              bootstrap\u001b[38;5;241m=\u001b[39m\u001b[38;5;28;01mTrue\u001b[39;00m)\n\u001b[0;32m----> 8\u001b[0m code\u001b[38;5;241m.\u001b[39mbag_of_words_CV(\u001b[38;5;124m'\u001b[39m\u001b[38;5;124mRandom_Forest_Classifier\u001b[39m\u001b[38;5;124m'\u001b[39m, rfc_model, bow_pipe, X_train_bow, y_train, cv\u001b[38;5;241m=\u001b[39mskf)\n",
      "File \u001b[0;32m~/Documents/Flatiron/capstone/airline_sentiment_analysis/src/code.py:94\u001b[0m, in \u001b[0;36mbag_of_words_CV\u001b[0;34m(model_name, model, pipe, X_train, y_train, cv)\u001b[0m\n\u001b[1;32m     82\u001b[0m model_pipeline \u001b[38;5;241m=\u001b[39m Pipeline(\n\u001b[1;32m     83\u001b[0m     steps\u001b[38;5;241m=\u001b[39mpipe\u001b[38;5;241m.\u001b[39msteps \u001b[38;5;241m+\u001b[39m [\n\u001b[1;32m     84\u001b[0m         (model_name, model)\n\u001b[1;32m     85\u001b[0m     ]\n\u001b[1;32m     86\u001b[0m )\n\u001b[1;32m     87\u001b[0m cv_results \u001b[38;5;241m=\u001b[39m cross_validate(model_pipeline, \n\u001b[1;32m     88\u001b[0m                         X_train, \n\u001b[1;32m     89\u001b[0m                         y_train, \n\u001b[1;32m     90\u001b[0m                         cv\u001b[38;5;241m=\u001b[39mcv, \n\u001b[1;32m     91\u001b[0m                         scoring\u001b[38;5;241m=\u001b[39m[\u001b[38;5;124m'\u001b[39m\u001b[38;5;124maccuracy\u001b[39m\u001b[38;5;124m'\u001b[39m, \u001b[38;5;124m'\u001b[39m\u001b[38;5;124mroc_auc\u001b[39m\u001b[38;5;124m'\u001b[39m], \n\u001b[1;32m     92\u001b[0m                         return_train_score\u001b[38;5;241m=\u001b[39m\u001b[38;5;28;01mFalse\u001b[39;00m)\n\u001b[0;32m---> 94\u001b[0m model_pipeline\u001b[38;5;241m.\u001b[39mfit(X_train, y_train)\n\u001b[1;32m     96\u001b[0m dump(model_pipeline, model_name \u001b[38;5;241m+\u001b[39m \u001b[38;5;124m'\u001b[39m\u001b[38;5;124m_pipeline.joblib\u001b[39m\u001b[38;5;124m'\u001b[39m)\n\u001b[1;32m     98\u001b[0m accuracy \u001b[38;5;241m=\u001b[39m cv_results[\u001b[38;5;124m'\u001b[39m\u001b[38;5;124mtest_accuracy\u001b[39m\u001b[38;5;124m'\u001b[39m]\u001b[38;5;241m.\u001b[39mmean()\n",
      "File \u001b[0;32m/opt/miniconda3/envs/capstone-env/lib/python3.11/site-packages/sklearn/pipeline.py:405\u001b[0m, in \u001b[0;36mPipeline.fit\u001b[0;34m(self, X, y, **fit_params)\u001b[0m\n\u001b[1;32m    403\u001b[0m     \u001b[38;5;28;01mif\u001b[39;00m \u001b[38;5;28mself\u001b[39m\u001b[38;5;241m.\u001b[39m_final_estimator \u001b[38;5;241m!=\u001b[39m \u001b[38;5;124m\"\u001b[39m\u001b[38;5;124mpassthrough\u001b[39m\u001b[38;5;124m\"\u001b[39m:\n\u001b[1;32m    404\u001b[0m         fit_params_last_step \u001b[38;5;241m=\u001b[39m fit_params_steps[\u001b[38;5;28mself\u001b[39m\u001b[38;5;241m.\u001b[39msteps[\u001b[38;5;241m-\u001b[39m\u001b[38;5;241m1\u001b[39m][\u001b[38;5;241m0\u001b[39m]]\n\u001b[0;32m--> 405\u001b[0m         \u001b[38;5;28mself\u001b[39m\u001b[38;5;241m.\u001b[39m_final_estimator\u001b[38;5;241m.\u001b[39mfit(Xt, y, \u001b[38;5;241m*\u001b[39m\u001b[38;5;241m*\u001b[39mfit_params_last_step)\n\u001b[1;32m    407\u001b[0m \u001b[38;5;28;01mreturn\u001b[39;00m \u001b[38;5;28mself\u001b[39m\n",
      "File \u001b[0;32m/opt/miniconda3/envs/capstone-env/lib/python3.11/site-packages/sklearn/ensemble/_forest.py:473\u001b[0m, in \u001b[0;36mBaseForest.fit\u001b[0;34m(self, X, y, sample_weight)\u001b[0m\n\u001b[1;32m    462\u001b[0m trees \u001b[38;5;241m=\u001b[39m [\n\u001b[1;32m    463\u001b[0m     \u001b[38;5;28mself\u001b[39m\u001b[38;5;241m.\u001b[39m_make_estimator(append\u001b[38;5;241m=\u001b[39m\u001b[38;5;28;01mFalse\u001b[39;00m, random_state\u001b[38;5;241m=\u001b[39mrandom_state)\n\u001b[1;32m    464\u001b[0m     \u001b[38;5;28;01mfor\u001b[39;00m i \u001b[38;5;129;01min\u001b[39;00m \u001b[38;5;28mrange\u001b[39m(n_more_estimators)\n\u001b[1;32m    465\u001b[0m ]\n\u001b[1;32m    467\u001b[0m \u001b[38;5;66;03m# Parallel loop: we prefer the threading backend as the Cython code\u001b[39;00m\n\u001b[1;32m    468\u001b[0m \u001b[38;5;66;03m# for fitting the trees is internally releasing the Python GIL\u001b[39;00m\n\u001b[1;32m    469\u001b[0m \u001b[38;5;66;03m# making threading more efficient than multiprocessing in\u001b[39;00m\n\u001b[1;32m    470\u001b[0m \u001b[38;5;66;03m# that case. However, for joblib 0.12+ we respect any\u001b[39;00m\n\u001b[1;32m    471\u001b[0m \u001b[38;5;66;03m# parallel_backend contexts set at a higher level,\u001b[39;00m\n\u001b[1;32m    472\u001b[0m \u001b[38;5;66;03m# since correctness does not rely on using threads.\u001b[39;00m\n\u001b[0;32m--> 473\u001b[0m trees \u001b[38;5;241m=\u001b[39m Parallel(\n\u001b[1;32m    474\u001b[0m     n_jobs\u001b[38;5;241m=\u001b[39m\u001b[38;5;28mself\u001b[39m\u001b[38;5;241m.\u001b[39mn_jobs,\n\u001b[1;32m    475\u001b[0m     verbose\u001b[38;5;241m=\u001b[39m\u001b[38;5;28mself\u001b[39m\u001b[38;5;241m.\u001b[39mverbose,\n\u001b[1;32m    476\u001b[0m     prefer\u001b[38;5;241m=\u001b[39m\u001b[38;5;124m\"\u001b[39m\u001b[38;5;124mthreads\u001b[39m\u001b[38;5;124m\"\u001b[39m,\n\u001b[1;32m    477\u001b[0m )(\n\u001b[1;32m    478\u001b[0m     delayed(_parallel_build_trees)(\n\u001b[1;32m    479\u001b[0m         t,\n\u001b[1;32m    480\u001b[0m         \u001b[38;5;28mself\u001b[39m\u001b[38;5;241m.\u001b[39mbootstrap,\n\u001b[1;32m    481\u001b[0m         X,\n\u001b[1;32m    482\u001b[0m         y,\n\u001b[1;32m    483\u001b[0m         sample_weight,\n\u001b[1;32m    484\u001b[0m         i,\n\u001b[1;32m    485\u001b[0m         \u001b[38;5;28mlen\u001b[39m(trees),\n\u001b[1;32m    486\u001b[0m         verbose\u001b[38;5;241m=\u001b[39m\u001b[38;5;28mself\u001b[39m\u001b[38;5;241m.\u001b[39mverbose,\n\u001b[1;32m    487\u001b[0m         class_weight\u001b[38;5;241m=\u001b[39m\u001b[38;5;28mself\u001b[39m\u001b[38;5;241m.\u001b[39mclass_weight,\n\u001b[1;32m    488\u001b[0m         n_samples_bootstrap\u001b[38;5;241m=\u001b[39mn_samples_bootstrap,\n\u001b[1;32m    489\u001b[0m     )\n\u001b[1;32m    490\u001b[0m     \u001b[38;5;28;01mfor\u001b[39;00m i, t \u001b[38;5;129;01min\u001b[39;00m \u001b[38;5;28menumerate\u001b[39m(trees)\n\u001b[1;32m    491\u001b[0m )\n\u001b[1;32m    493\u001b[0m \u001b[38;5;66;03m# Collect newly grown trees\u001b[39;00m\n\u001b[1;32m    494\u001b[0m \u001b[38;5;28mself\u001b[39m\u001b[38;5;241m.\u001b[39mestimators_\u001b[38;5;241m.\u001b[39mextend(trees)\n",
      "File \u001b[0;32m/opt/miniconda3/envs/capstone-env/lib/python3.11/site-packages/sklearn/utils/parallel.py:63\u001b[0m, in \u001b[0;36mParallel.__call__\u001b[0;34m(self, iterable)\u001b[0m\n\u001b[1;32m     58\u001b[0m config \u001b[38;5;241m=\u001b[39m get_config()\n\u001b[1;32m     59\u001b[0m iterable_with_config \u001b[38;5;241m=\u001b[39m (\n\u001b[1;32m     60\u001b[0m     (_with_config(delayed_func, config), args, kwargs)\n\u001b[1;32m     61\u001b[0m     \u001b[38;5;28;01mfor\u001b[39;00m delayed_func, args, kwargs \u001b[38;5;129;01min\u001b[39;00m iterable\n\u001b[1;32m     62\u001b[0m )\n\u001b[0;32m---> 63\u001b[0m \u001b[38;5;28;01mreturn\u001b[39;00m \u001b[38;5;28msuper\u001b[39m()\u001b[38;5;241m.\u001b[39m\u001b[38;5;21m__call__\u001b[39m(iterable_with_config)\n",
      "File \u001b[0;32m/opt/miniconda3/envs/capstone-env/lib/python3.11/site-packages/joblib/parallel.py:1088\u001b[0m, in \u001b[0;36mParallel.__call__\u001b[0;34m(self, iterable)\u001b[0m\n\u001b[1;32m   1085\u001b[0m \u001b[38;5;28;01mif\u001b[39;00m \u001b[38;5;28mself\u001b[39m\u001b[38;5;241m.\u001b[39mdispatch_one_batch(iterator):\n\u001b[1;32m   1086\u001b[0m     \u001b[38;5;28mself\u001b[39m\u001b[38;5;241m.\u001b[39m_iterating \u001b[38;5;241m=\u001b[39m \u001b[38;5;28mself\u001b[39m\u001b[38;5;241m.\u001b[39m_original_iterator \u001b[38;5;129;01mis\u001b[39;00m \u001b[38;5;129;01mnot\u001b[39;00m \u001b[38;5;28;01mNone\u001b[39;00m\n\u001b[0;32m-> 1088\u001b[0m \u001b[38;5;28;01mwhile\u001b[39;00m \u001b[38;5;28mself\u001b[39m\u001b[38;5;241m.\u001b[39mdispatch_one_batch(iterator):\n\u001b[1;32m   1089\u001b[0m     \u001b[38;5;28;01mpass\u001b[39;00m\n\u001b[1;32m   1091\u001b[0m \u001b[38;5;28;01mif\u001b[39;00m pre_dispatch \u001b[38;5;241m==\u001b[39m \u001b[38;5;124m\"\u001b[39m\u001b[38;5;124mall\u001b[39m\u001b[38;5;124m\"\u001b[39m \u001b[38;5;129;01mor\u001b[39;00m n_jobs \u001b[38;5;241m==\u001b[39m \u001b[38;5;241m1\u001b[39m:\n\u001b[1;32m   1092\u001b[0m     \u001b[38;5;66;03m# The iterable was consumed all at once by the above for loop.\u001b[39;00m\n\u001b[1;32m   1093\u001b[0m     \u001b[38;5;66;03m# No need to wait for async callbacks to trigger to\u001b[39;00m\n\u001b[1;32m   1094\u001b[0m     \u001b[38;5;66;03m# consumption.\u001b[39;00m\n",
      "File \u001b[0;32m/opt/miniconda3/envs/capstone-env/lib/python3.11/site-packages/joblib/parallel.py:901\u001b[0m, in \u001b[0;36mParallel.dispatch_one_batch\u001b[0;34m(self, iterator)\u001b[0m\n\u001b[1;32m    899\u001b[0m     \u001b[38;5;28;01mreturn\u001b[39;00m \u001b[38;5;28;01mFalse\u001b[39;00m\n\u001b[1;32m    900\u001b[0m \u001b[38;5;28;01melse\u001b[39;00m:\n\u001b[0;32m--> 901\u001b[0m     \u001b[38;5;28mself\u001b[39m\u001b[38;5;241m.\u001b[39m_dispatch(tasks)\n\u001b[1;32m    902\u001b[0m     \u001b[38;5;28;01mreturn\u001b[39;00m \u001b[38;5;28;01mTrue\u001b[39;00m\n",
      "File \u001b[0;32m/opt/miniconda3/envs/capstone-env/lib/python3.11/site-packages/joblib/parallel.py:819\u001b[0m, in \u001b[0;36mParallel._dispatch\u001b[0;34m(self, batch)\u001b[0m\n\u001b[1;32m    817\u001b[0m \u001b[38;5;28;01mwith\u001b[39;00m \u001b[38;5;28mself\u001b[39m\u001b[38;5;241m.\u001b[39m_lock:\n\u001b[1;32m    818\u001b[0m     job_idx \u001b[38;5;241m=\u001b[39m \u001b[38;5;28mlen\u001b[39m(\u001b[38;5;28mself\u001b[39m\u001b[38;5;241m.\u001b[39m_jobs)\n\u001b[0;32m--> 819\u001b[0m     job \u001b[38;5;241m=\u001b[39m \u001b[38;5;28mself\u001b[39m\u001b[38;5;241m.\u001b[39m_backend\u001b[38;5;241m.\u001b[39mapply_async(batch, callback\u001b[38;5;241m=\u001b[39mcb)\n\u001b[1;32m    820\u001b[0m     \u001b[38;5;66;03m# A job can complete so quickly than its callback is\u001b[39;00m\n\u001b[1;32m    821\u001b[0m     \u001b[38;5;66;03m# called before we get here, causing self._jobs to\u001b[39;00m\n\u001b[1;32m    822\u001b[0m     \u001b[38;5;66;03m# grow. To ensure correct results ordering, .insert is\u001b[39;00m\n\u001b[1;32m    823\u001b[0m     \u001b[38;5;66;03m# used (rather than .append) in the following line\u001b[39;00m\n\u001b[1;32m    824\u001b[0m     \u001b[38;5;28mself\u001b[39m\u001b[38;5;241m.\u001b[39m_jobs\u001b[38;5;241m.\u001b[39minsert(job_idx, job)\n",
      "File \u001b[0;32m/opt/miniconda3/envs/capstone-env/lib/python3.11/site-packages/joblib/_parallel_backends.py:208\u001b[0m, in \u001b[0;36mSequentialBackend.apply_async\u001b[0;34m(self, func, callback)\u001b[0m\n\u001b[1;32m    206\u001b[0m \u001b[38;5;28;01mdef\u001b[39;00m \u001b[38;5;21mapply_async\u001b[39m(\u001b[38;5;28mself\u001b[39m, func, callback\u001b[38;5;241m=\u001b[39m\u001b[38;5;28;01mNone\u001b[39;00m):\n\u001b[1;32m    207\u001b[0m \u001b[38;5;250m    \u001b[39m\u001b[38;5;124;03m\"\"\"Schedule a func to be run\"\"\"\u001b[39;00m\n\u001b[0;32m--> 208\u001b[0m     result \u001b[38;5;241m=\u001b[39m ImmediateResult(func)\n\u001b[1;32m    209\u001b[0m     \u001b[38;5;28;01mif\u001b[39;00m callback:\n\u001b[1;32m    210\u001b[0m         callback(result)\n",
      "File \u001b[0;32m/opt/miniconda3/envs/capstone-env/lib/python3.11/site-packages/joblib/_parallel_backends.py:597\u001b[0m, in \u001b[0;36mImmediateResult.__init__\u001b[0;34m(self, batch)\u001b[0m\n\u001b[1;32m    594\u001b[0m \u001b[38;5;28;01mdef\u001b[39;00m \u001b[38;5;21m__init__\u001b[39m(\u001b[38;5;28mself\u001b[39m, batch):\n\u001b[1;32m    595\u001b[0m     \u001b[38;5;66;03m# Don't delay the application, to avoid keeping the input\u001b[39;00m\n\u001b[1;32m    596\u001b[0m     \u001b[38;5;66;03m# arguments in memory\u001b[39;00m\n\u001b[0;32m--> 597\u001b[0m     \u001b[38;5;28mself\u001b[39m\u001b[38;5;241m.\u001b[39mresults \u001b[38;5;241m=\u001b[39m batch()\n",
      "File \u001b[0;32m/opt/miniconda3/envs/capstone-env/lib/python3.11/site-packages/joblib/parallel.py:288\u001b[0m, in \u001b[0;36mBatchedCalls.__call__\u001b[0;34m(self)\u001b[0m\n\u001b[1;32m    284\u001b[0m \u001b[38;5;28;01mdef\u001b[39;00m \u001b[38;5;21m__call__\u001b[39m(\u001b[38;5;28mself\u001b[39m):\n\u001b[1;32m    285\u001b[0m     \u001b[38;5;66;03m# Set the default nested backend to self._backend but do not set the\u001b[39;00m\n\u001b[1;32m    286\u001b[0m     \u001b[38;5;66;03m# change the default number of processes to -1\u001b[39;00m\n\u001b[1;32m    287\u001b[0m     \u001b[38;5;28;01mwith\u001b[39;00m parallel_backend(\u001b[38;5;28mself\u001b[39m\u001b[38;5;241m.\u001b[39m_backend, n_jobs\u001b[38;5;241m=\u001b[39m\u001b[38;5;28mself\u001b[39m\u001b[38;5;241m.\u001b[39m_n_jobs):\n\u001b[0;32m--> 288\u001b[0m         \u001b[38;5;28;01mreturn\u001b[39;00m [func(\u001b[38;5;241m*\u001b[39margs, \u001b[38;5;241m*\u001b[39m\u001b[38;5;241m*\u001b[39mkwargs)\n\u001b[1;32m    289\u001b[0m                 \u001b[38;5;28;01mfor\u001b[39;00m func, args, kwargs \u001b[38;5;129;01min\u001b[39;00m \u001b[38;5;28mself\u001b[39m\u001b[38;5;241m.\u001b[39mitems]\n",
      "File \u001b[0;32m/opt/miniconda3/envs/capstone-env/lib/python3.11/site-packages/joblib/parallel.py:288\u001b[0m, in \u001b[0;36m<listcomp>\u001b[0;34m(.0)\u001b[0m\n\u001b[1;32m    284\u001b[0m \u001b[38;5;28;01mdef\u001b[39;00m \u001b[38;5;21m__call__\u001b[39m(\u001b[38;5;28mself\u001b[39m):\n\u001b[1;32m    285\u001b[0m     \u001b[38;5;66;03m# Set the default nested backend to self._backend but do not set the\u001b[39;00m\n\u001b[1;32m    286\u001b[0m     \u001b[38;5;66;03m# change the default number of processes to -1\u001b[39;00m\n\u001b[1;32m    287\u001b[0m     \u001b[38;5;28;01mwith\u001b[39;00m parallel_backend(\u001b[38;5;28mself\u001b[39m\u001b[38;5;241m.\u001b[39m_backend, n_jobs\u001b[38;5;241m=\u001b[39m\u001b[38;5;28mself\u001b[39m\u001b[38;5;241m.\u001b[39m_n_jobs):\n\u001b[0;32m--> 288\u001b[0m         \u001b[38;5;28;01mreturn\u001b[39;00m [func(\u001b[38;5;241m*\u001b[39margs, \u001b[38;5;241m*\u001b[39m\u001b[38;5;241m*\u001b[39mkwargs)\n\u001b[1;32m    289\u001b[0m                 \u001b[38;5;28;01mfor\u001b[39;00m func, args, kwargs \u001b[38;5;129;01min\u001b[39;00m \u001b[38;5;28mself\u001b[39m\u001b[38;5;241m.\u001b[39mitems]\n",
      "File \u001b[0;32m/opt/miniconda3/envs/capstone-env/lib/python3.11/site-packages/sklearn/utils/parallel.py:123\u001b[0m, in \u001b[0;36m_FuncWrapper.__call__\u001b[0;34m(self, *args, **kwargs)\u001b[0m\n\u001b[1;32m    121\u001b[0m     config \u001b[38;5;241m=\u001b[39m {}\n\u001b[1;32m    122\u001b[0m \u001b[38;5;28;01mwith\u001b[39;00m config_context(\u001b[38;5;241m*\u001b[39m\u001b[38;5;241m*\u001b[39mconfig):\n\u001b[0;32m--> 123\u001b[0m     \u001b[38;5;28;01mreturn\u001b[39;00m \u001b[38;5;28mself\u001b[39m\u001b[38;5;241m.\u001b[39mfunction(\u001b[38;5;241m*\u001b[39margs, \u001b[38;5;241m*\u001b[39m\u001b[38;5;241m*\u001b[39mkwargs)\n",
      "File \u001b[0;32m/opt/miniconda3/envs/capstone-env/lib/python3.11/site-packages/sklearn/ensemble/_forest.py:184\u001b[0m, in \u001b[0;36m_parallel_build_trees\u001b[0;34m(tree, bootstrap, X, y, sample_weight, tree_idx, n_trees, verbose, class_weight, n_samples_bootstrap)\u001b[0m\n\u001b[1;32m    181\u001b[0m     \u001b[38;5;28;01melif\u001b[39;00m class_weight \u001b[38;5;241m==\u001b[39m \u001b[38;5;124m\"\u001b[39m\u001b[38;5;124mbalanced_subsample\u001b[39m\u001b[38;5;124m\"\u001b[39m:\n\u001b[1;32m    182\u001b[0m         curr_sample_weight \u001b[38;5;241m*\u001b[39m\u001b[38;5;241m=\u001b[39m compute_sample_weight(\u001b[38;5;124m\"\u001b[39m\u001b[38;5;124mbalanced\u001b[39m\u001b[38;5;124m\"\u001b[39m, y, indices\u001b[38;5;241m=\u001b[39mindices)\n\u001b[0;32m--> 184\u001b[0m     tree\u001b[38;5;241m.\u001b[39mfit(X, y, sample_weight\u001b[38;5;241m=\u001b[39mcurr_sample_weight, check_input\u001b[38;5;241m=\u001b[39m\u001b[38;5;28;01mFalse\u001b[39;00m)\n\u001b[1;32m    185\u001b[0m \u001b[38;5;28;01melse\u001b[39;00m:\n\u001b[1;32m    186\u001b[0m     tree\u001b[38;5;241m.\u001b[39mfit(X, y, sample_weight\u001b[38;5;241m=\u001b[39msample_weight, check_input\u001b[38;5;241m=\u001b[39m\u001b[38;5;28;01mFalse\u001b[39;00m)\n",
      "File \u001b[0;32m/opt/miniconda3/envs/capstone-env/lib/python3.11/site-packages/sklearn/tree/_classes.py:889\u001b[0m, in \u001b[0;36mDecisionTreeClassifier.fit\u001b[0;34m(self, X, y, sample_weight, check_input)\u001b[0m\n\u001b[1;32m    859\u001b[0m \u001b[38;5;28;01mdef\u001b[39;00m \u001b[38;5;21mfit\u001b[39m(\u001b[38;5;28mself\u001b[39m, X, y, sample_weight\u001b[38;5;241m=\u001b[39m\u001b[38;5;28;01mNone\u001b[39;00m, check_input\u001b[38;5;241m=\u001b[39m\u001b[38;5;28;01mTrue\u001b[39;00m):\n\u001b[1;32m    860\u001b[0m \u001b[38;5;250m    \u001b[39m\u001b[38;5;124;03m\"\"\"Build a decision tree classifier from the training set (X, y).\u001b[39;00m\n\u001b[1;32m    861\u001b[0m \n\u001b[1;32m    862\u001b[0m \u001b[38;5;124;03m    Parameters\u001b[39;00m\n\u001b[0;32m   (...)\u001b[0m\n\u001b[1;32m    886\u001b[0m \u001b[38;5;124;03m        Fitted estimator.\u001b[39;00m\n\u001b[1;32m    887\u001b[0m \u001b[38;5;124;03m    \"\"\"\u001b[39;00m\n\u001b[0;32m--> 889\u001b[0m     \u001b[38;5;28msuper\u001b[39m()\u001b[38;5;241m.\u001b[39mfit(\n\u001b[1;32m    890\u001b[0m         X,\n\u001b[1;32m    891\u001b[0m         y,\n\u001b[1;32m    892\u001b[0m         sample_weight\u001b[38;5;241m=\u001b[39msample_weight,\n\u001b[1;32m    893\u001b[0m         check_input\u001b[38;5;241m=\u001b[39mcheck_input,\n\u001b[1;32m    894\u001b[0m     )\n\u001b[1;32m    895\u001b[0m     \u001b[38;5;28;01mreturn\u001b[39;00m \u001b[38;5;28mself\u001b[39m\n",
      "File \u001b[0;32m/opt/miniconda3/envs/capstone-env/lib/python3.11/site-packages/sklearn/tree/_classes.py:379\u001b[0m, in \u001b[0;36mBaseDecisionTree.fit\u001b[0;34m(self, X, y, sample_weight, check_input)\u001b[0m\n\u001b[1;32m    368\u001b[0m \u001b[38;5;28;01melse\u001b[39;00m:\n\u001b[1;32m    369\u001b[0m     builder \u001b[38;5;241m=\u001b[39m BestFirstTreeBuilder(\n\u001b[1;32m    370\u001b[0m         splitter,\n\u001b[1;32m    371\u001b[0m         min_samples_split,\n\u001b[0;32m   (...)\u001b[0m\n\u001b[1;32m    376\u001b[0m         \u001b[38;5;28mself\u001b[39m\u001b[38;5;241m.\u001b[39mmin_impurity_decrease,\n\u001b[1;32m    377\u001b[0m     )\n\u001b[0;32m--> 379\u001b[0m builder\u001b[38;5;241m.\u001b[39mbuild(\u001b[38;5;28mself\u001b[39m\u001b[38;5;241m.\u001b[39mtree_, X, y, sample_weight)\n\u001b[1;32m    381\u001b[0m \u001b[38;5;28;01mif\u001b[39;00m \u001b[38;5;28mself\u001b[39m\u001b[38;5;241m.\u001b[39mn_outputs_ \u001b[38;5;241m==\u001b[39m \u001b[38;5;241m1\u001b[39m \u001b[38;5;129;01mand\u001b[39;00m is_classifier(\u001b[38;5;28mself\u001b[39m):\n\u001b[1;32m    382\u001b[0m     \u001b[38;5;28mself\u001b[39m\u001b[38;5;241m.\u001b[39mn_classes_ \u001b[38;5;241m=\u001b[39m \u001b[38;5;28mself\u001b[39m\u001b[38;5;241m.\u001b[39mn_classes_[\u001b[38;5;241m0\u001b[39m]\n",
      "\u001b[0;31mKeyboardInterrupt\u001b[0m: "
     ]
    }
   ],
   "source": [
    "rfc_model = RandomForestClassifier(n_estimators=500,\n",
    "                             min_samples_split=10,\n",
    "                             min_samples_leaf=1,\n",
    "                             max_features='sqrt',\n",
    "                             max_depth=None,\n",
    "                             bootstrap=True)\n",
    "\n",
    "code.bag_of_words_CV('Random_Forest_Classifier', rfc_model, bow_pipe, X_train_bow, y_train, cv=skf)"
   ]
  },
  {
   "cell_type": "code",
   "execution_count": null,
   "id": "56451408-6517-429a-8539-203d430bf715",
   "metadata": {},
   "outputs": [],
   "source": [
    "def mlp_model_builder():\n",
    "    model = Sequential([\n",
    "        Dense(128, activation='relu',input_shape=(20000,)),\n",
    "        Dropout(0.8),\n",
    "        Dense(1, activation='sigmoid')\n",
    "    ])\n",
    "    model.compile(optimizer='adam',\n",
    "                  loss='binary_crossentropy',\n",
    "                  metrics=['accuracy', 'AUC'])\n",
    "    return model\n",
    "\n",
    "mlp_model = KerasClassifier(model=mlp_model_builder, \n",
    "                           random_state=42,\n",
    "                           batch_size=256,\n",
    "                           verbose=0,\n",
    "                           callbacks=CALLBACKS, \n",
    "                           validation_split=0.1,\n",
    "                           shuffle=True,\n",
    "                           epochs=100)\n",
    "\n",
    "code.bag_of_words_CV('Multi-Layer_Perceptrons', mlp_model, bow_pipe, X_train_bow, y_train, cv=skf)"
   ]
  },
  {
   "cell_type": "markdown",
   "id": "ba0378c7-74e7-4b1f-b9fd-245236cc0e4b",
   "metadata": {},
   "source": [
    "### Sequence Models"
   ]
  },
  {
   "cell_type": "code",
   "execution_count": null,
   "id": "a02f5ee3-66be-413f-91e6-095e5193317c",
   "metadata": {},
   "outputs": [],
   "source": [
    "rnn_model = Sequential([\n",
    "    Embedding(input_dim=20000, output_dim=32, input_length=200),\n",
    "    Bidirectional(GRU(16)),\n",
    "    Dense(8, activation='relu'),\n",
    "    Dense(1, activation='sigmoid')\n",
    "    ])\n",
    "\n",
    "rnn_model.compile(optimizer='adam',\n",
    "              loss='binary_crossentropy',\n",
    "              metrics=['accuracy', 'AUC'])\n",
    "\n",
    "rnn_model.fit(x=X_train_seq_clean,\n",
    "              y=y_train,\n",
    "              batch_size=256,\n",
    "              epochs=100,\n",
    "              verbose=0,\n",
    "              validation_split=0.1,\n",
    "              callbacks=CALLBACKS,\n",
    "              shuffle=True)\n",
    "\n",
    "rnn_model.save('rnn_model')\n",
    "\n",
    "code.keras_cv('RNN',\n",
    "              X_train,\n",
    "              y_train,\n",
    "              skf,\n",
    "              tokenizer,\n",
    "              text_vec_cv,\n",
    "              CALLBACKS)"
   ]
  },
  {
   "cell_type": "code",
   "execution_count": null,
   "id": "c2502d55-a651-42e0-b4a7-03ee9e314e75",
   "metadata": {},
   "outputs": [],
   "source": [
    "glv_model = Sequential([\n",
    "    Embedding(input_dim=vocab_size, output_dim=300, input_length=200, weights=[embedding_matrix], trainable=False),\n",
    "    Bidirectional(GRU(32)),\n",
    "    Dropout(0.4),\n",
    "    Dense(16, activation='relu'),\n",
    "    Dropout(0.4),\n",
    "    Dense(1, activation='sigmoid')\n",
    "    ])\n",
    "\n",
    "glv_model.compile(optimizer='adam',\n",
    "                  loss='binary_crossentropy',\n",
    "                  metrics=['accuracy', 'AUC'])\n",
    "\n",
    "glv_model.fit(x=X_train_seq_clean,\n",
    "              y=y_train,\n",
    "              batch_size=64,\n",
    "              epochs=100,\n",
    "              verbose=0,\n",
    "              callbacks=CALLBACKS,\n",
    "              shuffle=True)\n",
    "\n",
    "glv_model.save('glv_model')\n",
    "\n",
    "code.keras_cv('GloVe',\n",
    "              X_train,\n",
    "              y_train,\n",
    "              skf,\n",
    "              tokenizer,\n",
    "              text_vec_cv,\n",
    "              CALLBACKS,\n",
    "              glove=True, \n",
    "              glove_path = '../data/glove.6B.300d.txt')"
   ]
  },
  {
   "cell_type": "markdown",
   "id": "bac2f2c0-6c48-4191-a7cf-de76134deae3",
   "metadata": {},
   "source": [
    "## Evaluation\n",
    "***"
   ]
  },
  {
   "cell_type": "code",
   "execution_count": null,
   "id": "bea9a10a-9cf4-4a35-be4e-d0874c19f800",
   "metadata": {},
   "outputs": [],
   "source": [
    "X_test_bow = code.preprocess_texts(X_test, tokenizer, stop_words=None, lemmatize=True)"
   ]
  },
  {
   "cell_type": "code",
   "execution_count": 2,
   "id": "9fe25bd0-3128-47ec-910c-a913338c8096",
   "metadata": {},
   "outputs": [
    {
     "ename": "AttributeError",
     "evalue": "Can't get attribute 'to_dense' on <module '__main__'>",
     "output_type": "error",
     "traceback": [
      "\u001b[0;31m---------------------------------------------------------------------------\u001b[0m",
      "\u001b[0;31mAttributeError\u001b[0m                            Traceback (most recent call last)",
      "Cell \u001b[0;32mIn[2], line 2\u001b[0m\n\u001b[1;32m      1\u001b[0m \u001b[38;5;28;01mfrom\u001b[39;00m \u001b[38;5;21;01mjoblib\u001b[39;00m \u001b[38;5;28;01mimport\u001b[39;00m load\n\u001b[0;32m----> 2\u001b[0m dummy_model \u001b[38;5;241m=\u001b[39m load(\u001b[38;5;124m'\u001b[39m\u001b[38;5;124mdummy_pipeline.joblib\u001b[39m\u001b[38;5;124m'\u001b[39m)\n\u001b[1;32m      3\u001b[0m baseline_model \u001b[38;5;241m=\u001b[39m load(\u001b[38;5;124m'\u001b[39m\u001b[38;5;124mbaseline_pipeline.joblib\u001b[39m\u001b[38;5;124m'\u001b[39m)\n\u001b[1;32m      4\u001b[0m final_model \u001b[38;5;241m=\u001b[39m load(\u001b[38;5;124m'\u001b[39m\u001b[38;5;124mmlp_pipeline.joblib\u001b[39m\u001b[38;5;124m'\u001b[39m)\n",
      "File \u001b[0;32m/opt/miniconda3/envs/capstone-env/lib/python3.11/site-packages/joblib/numpy_pickle.py:658\u001b[0m, in \u001b[0;36mload\u001b[0;34m(filename, mmap_mode)\u001b[0m\n\u001b[1;32m    652\u001b[0m             \u001b[38;5;28;01mif\u001b[39;00m \u001b[38;5;28misinstance\u001b[39m(fobj, \u001b[38;5;28mstr\u001b[39m):\n\u001b[1;32m    653\u001b[0m                 \u001b[38;5;66;03m# if the returned file object is a string, this means we\u001b[39;00m\n\u001b[1;32m    654\u001b[0m                 \u001b[38;5;66;03m# try to load a pickle file generated with an version of\u001b[39;00m\n\u001b[1;32m    655\u001b[0m                 \u001b[38;5;66;03m# Joblib so we load it with joblib compatibility function.\u001b[39;00m\n\u001b[1;32m    656\u001b[0m                 \u001b[38;5;28;01mreturn\u001b[39;00m load_compatibility(fobj)\n\u001b[0;32m--> 658\u001b[0m             obj \u001b[38;5;241m=\u001b[39m _unpickle(fobj, filename, mmap_mode)\n\u001b[1;32m    659\u001b[0m \u001b[38;5;28;01mreturn\u001b[39;00m obj\n",
      "File \u001b[0;32m/opt/miniconda3/envs/capstone-env/lib/python3.11/site-packages/joblib/numpy_pickle.py:577\u001b[0m, in \u001b[0;36m_unpickle\u001b[0;34m(fobj, filename, mmap_mode)\u001b[0m\n\u001b[1;32m    575\u001b[0m obj \u001b[38;5;241m=\u001b[39m \u001b[38;5;28;01mNone\u001b[39;00m\n\u001b[1;32m    576\u001b[0m \u001b[38;5;28;01mtry\u001b[39;00m:\n\u001b[0;32m--> 577\u001b[0m     obj \u001b[38;5;241m=\u001b[39m unpickler\u001b[38;5;241m.\u001b[39mload()\n\u001b[1;32m    578\u001b[0m     \u001b[38;5;28;01mif\u001b[39;00m unpickler\u001b[38;5;241m.\u001b[39mcompat_mode:\n\u001b[1;32m    579\u001b[0m         warnings\u001b[38;5;241m.\u001b[39mwarn(\u001b[38;5;124m\"\u001b[39m\u001b[38;5;124mThe file \u001b[39m\u001b[38;5;124m'\u001b[39m\u001b[38;5;132;01m%s\u001b[39;00m\u001b[38;5;124m'\u001b[39m\u001b[38;5;124m has been generated with a \u001b[39m\u001b[38;5;124m\"\u001b[39m\n\u001b[1;32m    580\u001b[0m                       \u001b[38;5;124m\"\u001b[39m\u001b[38;5;124mjoblib version less than 0.10. \u001b[39m\u001b[38;5;124m\"\u001b[39m\n\u001b[1;32m    581\u001b[0m                       \u001b[38;5;124m\"\u001b[39m\u001b[38;5;124mPlease regenerate this pickle file.\u001b[39m\u001b[38;5;124m\"\u001b[39m\n\u001b[1;32m    582\u001b[0m                       \u001b[38;5;241m%\u001b[39m filename,\n\u001b[1;32m    583\u001b[0m                       \u001b[38;5;167;01mDeprecationWarning\u001b[39;00m, stacklevel\u001b[38;5;241m=\u001b[39m\u001b[38;5;241m3\u001b[39m)\n",
      "File \u001b[0;32m/opt/miniconda3/envs/capstone-env/lib/python3.11/pickle.py:1213\u001b[0m, in \u001b[0;36m_Unpickler.load\u001b[0;34m(self)\u001b[0m\n\u001b[1;32m   1211\u001b[0m             \u001b[38;5;28;01mraise\u001b[39;00m \u001b[38;5;167;01mEOFError\u001b[39;00m\n\u001b[1;32m   1212\u001b[0m         \u001b[38;5;28;01massert\u001b[39;00m \u001b[38;5;28misinstance\u001b[39m(key, bytes_types)\n\u001b[0;32m-> 1213\u001b[0m         dispatch[key[\u001b[38;5;241m0\u001b[39m]](\u001b[38;5;28mself\u001b[39m)\n\u001b[1;32m   1214\u001b[0m \u001b[38;5;28;01mexcept\u001b[39;00m _Stop \u001b[38;5;28;01mas\u001b[39;00m stopinst:\n\u001b[1;32m   1215\u001b[0m     \u001b[38;5;28;01mreturn\u001b[39;00m stopinst\u001b[38;5;241m.\u001b[39mvalue\n",
      "File \u001b[0;32m/opt/miniconda3/envs/capstone-env/lib/python3.11/pickle.py:1538\u001b[0m, in \u001b[0;36m_Unpickler.load_stack_global\u001b[0;34m(self)\u001b[0m\n\u001b[1;32m   1536\u001b[0m \u001b[38;5;28;01mif\u001b[39;00m \u001b[38;5;28mtype\u001b[39m(name) \u001b[38;5;129;01mis\u001b[39;00m \u001b[38;5;129;01mnot\u001b[39;00m \u001b[38;5;28mstr\u001b[39m \u001b[38;5;129;01mor\u001b[39;00m \u001b[38;5;28mtype\u001b[39m(module) \u001b[38;5;129;01mis\u001b[39;00m \u001b[38;5;129;01mnot\u001b[39;00m \u001b[38;5;28mstr\u001b[39m:\n\u001b[1;32m   1537\u001b[0m     \u001b[38;5;28;01mraise\u001b[39;00m UnpicklingError(\u001b[38;5;124m\"\u001b[39m\u001b[38;5;124mSTACK_GLOBAL requires str\u001b[39m\u001b[38;5;124m\"\u001b[39m)\n\u001b[0;32m-> 1538\u001b[0m \u001b[38;5;28mself\u001b[39m\u001b[38;5;241m.\u001b[39mappend(\u001b[38;5;28mself\u001b[39m\u001b[38;5;241m.\u001b[39mfind_class(module, name))\n",
      "File \u001b[0;32m/opt/miniconda3/envs/capstone-env/lib/python3.11/pickle.py:1582\u001b[0m, in \u001b[0;36m_Unpickler.find_class\u001b[0;34m(self, module, name)\u001b[0m\n\u001b[1;32m   1580\u001b[0m \u001b[38;5;28m__import__\u001b[39m(module, level\u001b[38;5;241m=\u001b[39m\u001b[38;5;241m0\u001b[39m)\n\u001b[1;32m   1581\u001b[0m \u001b[38;5;28;01mif\u001b[39;00m \u001b[38;5;28mself\u001b[39m\u001b[38;5;241m.\u001b[39mproto \u001b[38;5;241m>\u001b[39m\u001b[38;5;241m=\u001b[39m \u001b[38;5;241m4\u001b[39m:\n\u001b[0;32m-> 1582\u001b[0m     \u001b[38;5;28;01mreturn\u001b[39;00m _getattribute(sys\u001b[38;5;241m.\u001b[39mmodules[module], name)[\u001b[38;5;241m0\u001b[39m]\n\u001b[1;32m   1583\u001b[0m \u001b[38;5;28;01melse\u001b[39;00m:\n\u001b[1;32m   1584\u001b[0m     \u001b[38;5;28;01mreturn\u001b[39;00m \u001b[38;5;28mgetattr\u001b[39m(sys\u001b[38;5;241m.\u001b[39mmodules[module], name)\n",
      "File \u001b[0;32m/opt/miniconda3/envs/capstone-env/lib/python3.11/pickle.py:331\u001b[0m, in \u001b[0;36m_getattribute\u001b[0;34m(obj, name)\u001b[0m\n\u001b[1;32m    329\u001b[0m         obj \u001b[38;5;241m=\u001b[39m \u001b[38;5;28mgetattr\u001b[39m(obj, subpath)\n\u001b[1;32m    330\u001b[0m     \u001b[38;5;28;01mexcept\u001b[39;00m \u001b[38;5;167;01mAttributeError\u001b[39;00m:\n\u001b[0;32m--> 331\u001b[0m         \u001b[38;5;28;01mraise\u001b[39;00m \u001b[38;5;167;01mAttributeError\u001b[39;00m(\u001b[38;5;124m\"\u001b[39m\u001b[38;5;124mCan\u001b[39m\u001b[38;5;124m'\u001b[39m\u001b[38;5;124mt get attribute \u001b[39m\u001b[38;5;132;01m{!r}\u001b[39;00m\u001b[38;5;124m on \u001b[39m\u001b[38;5;132;01m{!r}\u001b[39;00m\u001b[38;5;124m\"\u001b[39m\n\u001b[1;32m    332\u001b[0m                              \u001b[38;5;241m.\u001b[39mformat(name, obj)) \u001b[38;5;28;01mfrom\u001b[39;00m \u001b[38;5;28;01mNone\u001b[39;00m\n\u001b[1;32m    333\u001b[0m \u001b[38;5;28;01mreturn\u001b[39;00m obj, parent\n",
      "\u001b[0;31mAttributeError\u001b[0m: Can't get attribute 'to_dense' on <module '__main__'>"
     ]
    }
   ],
   "source": [
    "from joblib import load\n",
    "dummy_model = load('dummy_pipeline.joblib')\n",
    "baseline_model = load('baseline_pipeline.joblib')\n",
    "final_model = load('mlp_pipeline.joblib')"
   ]
  },
  {
   "cell_type": "code",
   "execution_count": 43,
   "id": "d67e722a-51ab-49ea-a4cb-11e4daaa36fa",
   "metadata": {},
   "outputs": [
    {
     "data": {
      "text/html": [
       "<div>\n",
       "<style scoped>\n",
       "    .dataframe tbody tr th:only-of-type {\n",
       "        vertical-align: middle;\n",
       "    }\n",
       "\n",
       "    .dataframe tbody tr th {\n",
       "        vertical-align: top;\n",
       "    }\n",
       "\n",
       "    .dataframe thead th {\n",
       "        text-align: right;\n",
       "    }\n",
       "</style>\n",
       "<table border=\"1\" class=\"dataframe\">\n",
       "  <thead>\n",
       "    <tr style=\"text-align: right;\">\n",
       "      <th></th>\n",
       "      <th>Test Loss</th>\n",
       "      <th>Test Recall</th>\n",
       "      <th>Test AUC</th>\n",
       "    </tr>\n",
       "  </thead>\n",
       "  <tbody>\n",
       "    <tr>\n",
       "      <th>Baseline Model</th>\n",
       "      <td>0.2914</td>\n",
       "      <td>0.8388</td>\n",
       "      <td>0.9449</td>\n",
       "    </tr>\n",
       "    <tr>\n",
       "      <th>Overfit Model</th>\n",
       "      <td>0.3313</td>\n",
       "      <td>0.9579</td>\n",
       "      <td>0.9666</td>\n",
       "    </tr>\n",
       "    <tr>\n",
       "      <th>Resnet Model</th>\n",
       "      <td>0.3291</td>\n",
       "      <td>0.9299</td>\n",
       "      <td>0.9327</td>\n",
       "    </tr>\n",
       "    <tr>\n",
       "      <th>Final Model</th>\n",
       "      <td>0.1089</td>\n",
       "      <td>0.9720</td>\n",
       "      <td>0.9911</td>\n",
       "    </tr>\n",
       "  </tbody>\n",
       "</table>\n",
       "</div>"
      ],
      "text/plain": [
       "                Test Loss  Test Recall  Test AUC\n",
       "Baseline Model     0.2914       0.8388    0.9449\n",
       "Overfit Model      0.3313       0.9579    0.9666\n",
       "Resnet Model       0.3291       0.9299    0.9327\n",
       "Final Model        0.1089       0.9720    0.9911"
      ]
     },
     "metadata": {},
     "output_type": "display_data"
    }
   ],
   "source": [
    "# Dictionary mapping model names to their corresponding model and test dataset\n",
    "models_dict = {\n",
    "    'Dummy Model': [baseline_model, test_ds],\n",
    "    'Baseline Model': [baseline_model, test_ds],\n",
    "    'MLP Model': [overfit_model, test_ds],\n",
    "}\n",
    "\n",
    "# Initialize an empty list to hold evaluation scores for each model\n",
    "scores_list = []\n",
    "\n",
    "# Iterate through the models dictionary to evaluate each model\n",
    "# and collect their  scores\n",
    "for model_name, (model, test_dataset) in models_dict.items():\n",
    "    scores = evaluate_model(model, test_dataset)\n",
    "    scores_list.append(scores)\n",
    "\n",
    "# Create a DataFrame to summarize the scores for each model\n",
    "summary_df = pd.DataFrame(scores_list, \n",
    "                          columns=['Test Accuracy','Test AUC'],\n",
    "                          index=models_dict.keys())\n",
    "\n",
    "# Display the summary DataFrame\n",
    "display(summary_df)"
   ]
  },
  {
   "cell_type": "code",
   "execution_count": 42,
   "id": "e5dfd60b-1c7c-443d-8086-91db88f0a3cf",
   "metadata": {},
   "outputs": [],
   "source": [
    "def evaluate_model(model, test_dataset):\n",
    "    \"\"\"\n",
    "    Evaluates a given model on a test dataset and returns scores for loss, recall, and AUC.\n",
    "    \"\"\"\n",
    "    # Evaluate the model on the test dataset\n",
    "    test_scores = model.evaluate(test_dataset, verbose=0)\n",
    "\n",
    "    # Initialize an empty list to hold scores\n",
    "    scores = []\n",
    "\n",
    "    # Indices for loss, recall, and AUC in `test_scores` are 0, 2, and 1, respectively.\n",
    "    # Appending rounded scores for loss, recall, and AUC to the scores list\n",
    "    for index in [0, 2, 1]:\n",
    "        scores.append(round(test_scores[index], 4))\n",
    "        \n",
    "    return scores\n"
   ]
  },
  {
   "cell_type": "code",
   "execution_count": 44,
   "id": "18481715-da3a-4e2b-9c1a-f95b96008a35",
   "metadata": {
    "scrolled": true
   },
   "outputs": [
    {
     "name": "stdout",
     "output_type": "stream",
     "text": [
      "19/19 [==============================] - 1s 34ms/step\n"
     ]
    },
    {
     "data": {
      "image/png": "[encoded data removed]",
      "text/plain": [
       "<Figure size 400x400 with 2 Axes>"
      ]
     },
     "metadata": {},
     "output_type": "display_data"
    }
   ],
   "source": [
    "data_modeling.cnf_mat(dropout_model, test_ds)"
   ]
  },
  {
   "cell_type": "markdown",
   "id": "98936711-ee7c-49b3-a1f5-df400a02c9c1",
   "metadata": {},
   "source": [
    "The final model demonstrated exceptional performance on the unseen test dataset, achieving a recall of 97.2% and an AUC of 99.11%. These results indicate a high ability to correctly identify pneumonia cases, with the model correctly identifying 97.2% of all pneumonia images. The strong performance across validation and testing datasets suggests that the model is likely to generalize well to new, unseen data"
   ]
  },
  {
   "cell_type": "markdown",
   "id": "ee02e1b3-7a6b-4511-8b67-d3ccc9bf0cad",
   "metadata": {},
   "source": [
    "## Conclusions\n",
    "***\n",
    "### Recommendations\n",
    "Based on the final model, it is recommended that the children's hospital consider incorporating this model into their pneumonia diagnosis workflow. Initially, radiologists and the model should independently evaluate chest X-rays, with their diagnoses being compared to assess the model's reliability and accuracy. Over time, as confidence in the model's diagnostic capabilities grows, the hospital could gradually shift more responsibility to the model. This approach aims to not only enhance diagnostic efficiency but also improve accuracy, ultimately benefiting patient care.\n",
    "\n",
    "### Limitations\n",
    "- Although a 97% accuracy rate is impressive, it implies that 3% of patients with the condition are misdiagnosed as healthy.\n",
    "- Given that the images in this dataset underwent initial quality control, removing low-quality and unreadable scans, the model is likely most effective with high-quality images.\n",
    "  \n",
    "### Next Steps\n",
    "- Encourage increased use of chest X-ray imaging, as the cost to diagnose images has decreased.\n",
    "- Continuously update the training sets with new images to refine and improve model accuracy.\n",
    "- Instead of a binary classifier, future models could be made to detect bacterial vs viral pneumonia cases. "
   ]
  }
 ],
 "metadata": {
  "kernelspec": {
   "display_name": "Python 3 (ipykernel)",
   "language": "python",
   "name": "python3"
  },
  "language_info": {
   "codemirror_mode": {
    "name": "ipython",
    "version": 3
   },
   "file_extension": ".py",
   "mimetype": "text/x-python",
   "name": "python",
   "nbconvert_exporter": "python",
   "pygments_lexer": "ipython3",
   "version": "3.11.8"
  }
 },
 "nbformat": 4,
 "nbformat_minor": 5
}
