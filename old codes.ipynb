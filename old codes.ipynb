{
 "cells": [
  {
   "cell_type": "code",
   "execution_count": 18,
   "id": "75b35b93-fda5-4119-8144-d089f8f31e1f",
   "metadata": {},
   "outputs": [],
   "source": [
    "import pandas as pd\n",
    "# import string\n",
    "import math\n",
    "from rapidfuzz import process, fuzz\n",
    "\n",
    "def split_route(route):\n",
    "    route_clean = str(route).lower().strip()\n",
    "    if ' to ' in route_clean:\n",
    "        if ' via ' in route_clean:\n",
    "            direct_route = route_clean.split(' via ')\n",
    "            locations = direct_route[0].split(' to ')\n",
    "        else:\n",
    "            locations = route_clean.split(' to ')\n",
    "        origin = locations[0].strip()\n",
    "        destination = locations[-1].strip()\n",
    "    else:\n",
    "        origin = None\n",
    "        destination = None\n",
    "\n",
    "    # Extracting the first (departing) and last (arriving) locations\n",
    "    return origin, destination\n",
    "\n",
    "# Function to clean and get unique values from a DataFrame column\n",
    "def get_unique_col_values(df, col_names):\n",
    "    unique_vals = pd.concat([df[col].str.lower().str.strip() for col in col_names]).unique()\n",
    "    return unique_vals\n",
    "    \n",
    "def closest_match(query, choices):\n",
    "    try:\n",
    "        closest_match = process.extractOne(query, choices, scorer=fuzz.WRatio)\n",
    "        match = closest_match[0]\n",
    "        score = closest_match[1]\n",
    "        return match, score\n",
    "    except Exception:\n",
    "        return (None, 0)\n",
    "\n",
    "def try_map(word,mapper):\n",
    "    try:\n",
    "        return mapper[word]\n",
    "    except:\n",
    "        return None\n",
    "\n",
    "def calculate_distance(origin, destination):\n",
    "    try:\n",
    "        origin_lat, origin_lon = [float(x) for x in origin.split(', ')]\n",
    "        destination_lat, destination_lon = [float(x) for x in destination.split(', ')]\n",
    "        # Calculating haversine distance\n",
    "        origin_lon, origin_lat, destination_lon, destination_lat = map(math.radians, [origin_lon, origin_lat, destination_lon, destination_lat])\n",
    "        dlon = destination_lon - origin_lon\n",
    "        dlat = destination_lat - origin_lat\n",
    "        a = math.sin(dlat/2)**2 + math.cos(origin_lat) * math.cos(destination_lat) * math.sin(dlon/2)**2\n",
    "        c = 2 * math.asin(math.sqrt(a))\n",
    "        r = 6371\n",
    "        return c * r\n",
    "    except:\n",
    "        return None"
   ]
  },
  {
   "cell_type": "code",
   "execution_count": 20,
   "id": "00df8cee-e170-4443-90f9-72f9e2257073",
   "metadata": {},
   "outputs": [],
   "source": [
    "# Load the original dataset\n",
    "df = pd.read_csv('data/Airline_review.csv').iloc[:, 1:]\n",
    "df.dropna(subset='Route', inplace=True)\n",
    "\n",
    "# Splitting Route into origin and destination\n",
    "df['origin'], df['destination'] = zip(*df['Route'].apply(split_route))"
   ]
  },
  {
   "cell_type": "code",
   "execution_count": null,
   "id": "fbf1ea72-0c4a-4c6c-b610-1ee68d741beb",
   "metadata": {},
   "outputs": [],
   "source": [
    "# Importing and cleaning the airport codes data\n",
    "codes_df = pd.read_csv('data/airport_codes.csv', sep=';')\n",
    "codes_df = codes_df.rename(columns={\n",
    "    'Airport Code': 'code',\n",
    "    'Airport Name': 'airport',\n",
    "    'City Name': 'city'\n",
    "}).apply(lambda x: x.str.lower().str.strip() if x.name in ['code', 'airport', 'city'] else x)\n",
    "codes_df = codes_df[['code', 'airport', 'city', 'coordinates']]"
   ]
  },
  {
   "cell_type": "code",
   "execution_count": null,
   "id": "bac3fad4-c6e5-446e-ad3f-533d940be698",
   "metadata": {},
   "outputs": [],
   "source": [
    "# Getting all unique airport codes, airport names and city names\n",
    "unique_codes = get_unique_col_values(codes_df, ['code', 'airport', 'city'])\n",
    "\n",
    "# Getting all unique origins and destinations\n",
    "unique_originals = get_unique_col_values(df, ['origin', 'destination'])\n",
    "\n",
    "# Finding the closest match to help merge dataframes\n",
    "matches = []\n",
    "scores = []\n",
    "for word in unique_originals:\n",
    "    match, score = closest_match(word,unique_codes)\n",
    "    matches.append(match)\n",
    "    scores.append(score)\n",
    "score_df = pd.DataFrame({'word': unique_originals, 'match': matches, 'score': scores})\n",
    "\n",
    "# Filtering out rows with match scores of less than 80\n",
    "score_df = score_df.loc[score_df['score'] >= 80]\n",
    "\n",
    "# Creating a dictionary to map coordinates onto matched values\n",
    "melted_df = codes_df.melt(id_vars='coordinates', value_vars=['code', 'airport', 'city'], value_name='Key').drop('variable', axis=1)\n",
    "result_dict = dict(zip(melted_df['Key'], melted_df['coordinates']))\n",
    "\n",
    "# Adding coordinates to score_Df\n",
    "score_df['coordinates'] = score_df['match'].apply(lambda x: try_map(x,result_dict))"
   ]
  },
  {
   "cell_type": "code",
   "execution_count": null,
   "id": "6a35fbc9-4bea-4343-bcc5-4e850012c434",
   "metadata": {},
   "outputs": [],
   "source": [
    "df_new = df[['Route', 'origin', 'destination', 'Overall_Rating', 'Recommended']].copy().dropna()\n",
    "\n",
    "df_origins = pd.merge(df_new, score_df[['word','match','coordinates']], left_on= 'origin',right_on='word', how='left')\n",
    "df_origins.rename(columns={'match':'origin_city','coordinates':'origin_coordinates'},inplace=True)\n",
    "df_origins.drop(columns='word', inplace=True)\n",
    "\n",
    "df_dest = pd.merge(df_origins, score_df[['word','match','coordinates']], left_on= 'destination',right_on='word', how='left')\n",
    "df_dest.rename(columns={'match':'destination_city','coordinates':'destination_coordinates'},inplace=True)\n",
    "df_dest.drop(columns='word', inplace=True)\n",
    "\n",
    "df_final = df_dest[['Route','origin','origin_city','origin_coordinates','destination',\n",
    "                    'destination_city','destination_coordinates']].dropna().copy()\n",
    "\n",
    "df_final['distance'] = df_final.apply(\n",
    "    lambda row: calculate_distance(row['origin_coordinates'], \n",
    "                                   row['destination_coordinates']), axis=1)"
   ]
  },
  {
   "cell_type": "code",
   "execution_count": null,
   "id": "588753ee-229e-4b21-9ef4-a691d4203d1a",
   "metadata": {},
   "outputs": [],
   "source": [
    "score_df2=score_df.loc[score_df['score']==100]"
   ]
  },
  {
   "cell_type": "code",
   "execution_count": null,
   "id": "71718291-9f73-48d8-bebb-1c897718ed4c",
   "metadata": {},
   "outputs": [],
   "source": [
    "df_new = df[['Route', 'origin', 'destination', 'Overall_Rating', 'Recommended']].copy().dropna()\n",
    "\n",
    "df_origins = pd.merge(df_new, score_df2[['word','match','coordinates']], left_on= 'origin',right_on='word', how='left')\n",
    "df_origins.rename(columns={'match':'origin_city','coordinates':'origin_coordinates'},inplace=True)\n",
    "df_origins.drop(columns='word', inplace=True)\n",
    "\n",
    "df_dest = pd.merge(df_origins, score_df2[['word','match','coordinates']], left_on= 'destination',right_on='word', how='left')\n",
    "df_dest.rename(columns={'match':'destination_city','coordinates':'destination_coordinates'},inplace=True)\n",
    "df_dest.drop(columns='word', inplace=True)\n",
    "\n",
    "df_final2 = df_dest[['Route','origin','origin_city','origin_coordinates','destination',\n",
    "                    'destination_city','destination_coordinates']].dropna().copy()\n",
    "\n",
    "df_final2['distance'] = df_final2.apply(\n",
    "    lambda row: calculate_distance(row['origin_coordinates'], \n",
    "                                   row['destination_coordinates']), axis=1)"
   ]
  },
  {
   "cell_type": "code",
   "execution_count": null,
   "id": "e5708e63-26a6-4b1a-b6c5-efd1fe19997f",
   "metadata": {},
   "outputs": [],
   "source": []
  },
  {
   "cell_type": "code",
   "execution_count": null,
   "id": "d2d3a574-74b9-4f2c-b053-b845ff2492ad",
   "metadata": {},
   "outputs": [],
   "source": [
    "import seaborn as sns\n",
    "sns.histplot(df_final2['distance'])"
   ]
  },
  {
   "cell_type": "code",
   "execution_count": null,
   "id": "fca7c433-039a-4a46-86ad-3c7a331cf9bc",
   "metadata": {},
   "outputs": [],
   "source": [
    "df_final2.loc[df_final2['distance']>17500]\n",
    "37.7749° N,\n",
    "122.4194° W"
   ]
  },
  {
   "cell_type": "code",
   "execution_count": null,
   "id": "7f0423ac-c139-4e55-bba1-271586e80982",
   "metadata": {},
   "outputs": [],
   "source": [
    "codes_df.loc[codes_df['coordinates']=='-38.7, -60.016667']"
   ]
  },
  {
   "cell_type": "code",
   "execution_count": null,
   "id": "7b375d7c-1c51-4001-8908-a86ea43780f3",
   "metadata": {},
   "outputs": [],
   "source": []
  }
 ],
 "metadata": {
  "kernelspec": {
   "display_name": "Python 3 (ipykernel)",
   "language": "python",
   "name": "python3"
  },
  "language_info": {
   "codemirror_mode": {
    "name": "ipython",
    "version": 3
   },
   "file_extension": ".py",
   "mimetype": "text/x-python",
   "name": "python",
   "nbconvert_exporter": "python",
   "pygments_lexer": "ipython3",
   "version": "3.12.2"
  }
 },
 "nbformat": 4,
 "nbformat_minor": 5
}
