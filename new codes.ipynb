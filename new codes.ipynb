{
 "cells": [
  {
   "cell_type": "code",
   "execution_count": 2,
   "id": "75b35b93-fda5-4119-8144-d089f8f31e1f",
   "metadata": {},
   "outputs": [],
   "source": [
    "import pandas as pd\n",
    "# import string\n",
    "import math\n",
    "from rapidfuzz import process, fuzz\n",
    "\n",
    "def split_route(route):\n",
    "    route_clean = str(route).lower().strip()\n",
    "    if ' to ' in route_clean:\n",
    "        if ' via ' in route_clean:\n",
    "            direct_route = route_clean.split(' via ')\n",
    "            locations = direct_route[0].split(' to ')\n",
    "        else:\n",
    "            locations = route_clean.split(' to ')\n",
    "        origin = locations[0].strip()\n",
    "        destination = locations[-1].strip()\n",
    "    else:\n",
    "        origin = None\n",
    "        destination = None\n",
    "\n",
    "    # Extracting the first (departing) and last (arriving) locations\n",
    "    return origin, destination\n",
    "\n",
    "# Function to clean and get unique values from a DataFrame column\n",
    "def get_unique_col_values(df, col_names):\n",
    "    unique_vals = pd.concat([df[col].str.lower().str.strip() for col in col_names]).unique()\n",
    "    return unique_vals\n",
    "    \n",
    "def closest_match(query, choices):\n",
    "    try:\n",
    "        closest_match = process.extractOne(query, choices, scorer=fuzz.WRatio)\n",
    "        match = closest_match[0]\n",
    "        score = closest_match[1]\n",
    "        return match, score\n",
    "    except Exception:\n",
    "        return (None, 0)\n",
    "\n",
    "def try_map(word,mapper):\n",
    "    try:\n",
    "        return mapper[word]\n",
    "    except:\n",
    "        return None\n",
    "\n",
    "def calculate_distance(origin, destination):\n",
    "    try:\n",
    "        origin_lat, origin_lon = [float(x) for x in origin.split(', ')]\n",
    "        destination_lat, destination_lon = [float(x) for x in destination.split(', ')]\n",
    "        # Calculating haversine distance\n",
    "        origin_lon, origin_lat, destination_lon, destination_lat = map(math.radians, [origin_lon, origin_lat, destination_lon, destination_lat])\n",
    "        dlon = destination_lon - origin_lon\n",
    "        dlat = destination_lat - origin_lat\n",
    "        a = math.sin(dlat/2)**2 + math.cos(origin_lat) * math.cos(destination_lat) * math.sin(dlon/2)**2\n",
    "        c = 2 * math.asin(math.sqrt(a))\n",
    "        r = 6371\n",
    "        return c * r\n",
    "    except:\n",
    "        return None"
   ]
  },
  {
   "cell_type": "code",
   "execution_count": 3,
   "id": "00df8cee-e170-4443-90f9-72f9e2257073",
   "metadata": {},
   "outputs": [],
   "source": [
    "# Load the original dataset\n",
    "df = pd.read_csv('data/Airline_review.csv').iloc[:, 1:]\n",
    "df.dropna(subset='Route', inplace=True)\n",
    "\n",
    "# Splitting Route into origin and destination\n",
    "df['origin'], df['destination'] = zip(*df['Route'].apply(split_route))"
   ]
  },
  {
   "cell_type": "code",
   "execution_count": 31,
   "id": "0bbbfda4-757d-4bc5-8e4d-1aea3f2b9d21",
   "metadata": {},
   "outputs": [
    {
     "data": {
      "text/html": [
       "<div>\n",
       "<style scoped>\n",
       "    .dataframe tbody tr th:only-of-type {\n",
       "        vertical-align: middle;\n",
       "    }\n",
       "\n",
       "    .dataframe tbody tr th {\n",
       "        vertical-align: top;\n",
       "    }\n",
       "\n",
       "    .dataframe thead th {\n",
       "        text-align: right;\n",
       "    }\n",
       "</style>\n",
       "<table border=\"1\" class=\"dataframe\">\n",
       "  <thead>\n",
       "    <tr style=\"text-align: right;\">\n",
       "      <th></th>\n",
       "      <th>big_code</th>\n",
       "      <th>code</th>\n",
       "      <th>airport</th>\n",
       "      <th>city</th>\n",
       "      <th>country</th>\n",
       "      <th>coordinates</th>\n",
       "    </tr>\n",
       "  </thead>\n",
       "  <tbody>\n",
       "    <tr>\n",
       "      <th>0</th>\n",
       "      <td>AYGA</td>\n",
       "      <td>gka</td>\n",
       "      <td>goroka</td>\n",
       "      <td>goroka</td>\n",
       "      <td>papua new guinea</td>\n",
       "      <td>-6.082, 145.392</td>\n",
       "    </tr>\n",
       "    <tr>\n",
       "      <th>2</th>\n",
       "      <td>AYMD</td>\n",
       "      <td>mag</td>\n",
       "      <td>madang</td>\n",
       "      <td>madang</td>\n",
       "      <td>papua new guinea</td>\n",
       "      <td>-5.207, 145.789</td>\n",
       "    </tr>\n",
       "    <tr>\n",
       "      <th>3</th>\n",
       "      <td>AYMH</td>\n",
       "      <td>hgu</td>\n",
       "      <td>mount hagen</td>\n",
       "      <td>mount hagen</td>\n",
       "      <td>papua new guinea</td>\n",
       "      <td>-5.826, 144.296</td>\n",
       "    </tr>\n",
       "    <tr>\n",
       "      <th>4</th>\n",
       "      <td>AYNZ</td>\n",
       "      <td>lae</td>\n",
       "      <td>nadzab</td>\n",
       "      <td>nadzab</td>\n",
       "      <td>papua new guinea</td>\n",
       "      <td>-6.57, 146.726</td>\n",
       "    </tr>\n",
       "    <tr>\n",
       "      <th>5</th>\n",
       "      <td>AYPY</td>\n",
       "      <td>pom</td>\n",
       "      <td>port moresby jacksons international</td>\n",
       "      <td>port moresby</td>\n",
       "      <td>papua new guinea</td>\n",
       "      <td>-9.443, 147.22</td>\n",
       "    </tr>\n",
       "  </tbody>\n",
       "</table>\n",
       "</div>"
      ],
      "text/plain": [
       "  big_code code                              airport          city  \\\n",
       "0     AYGA  gka                               goroka        goroka   \n",
       "2     AYMD  mag                               madang        madang   \n",
       "3     AYMH  hgu                          mount hagen   mount hagen   \n",
       "4     AYNZ  lae                               nadzab        nadzab   \n",
       "5     AYPY  pom  port moresby jacksons international  port moresby   \n",
       "\n",
       "            country      coordinates  \n",
       "0  papua new guinea  -6.082, 145.392  \n",
       "2  papua new guinea  -5.207, 145.789  \n",
       "3  papua new guinea  -5.826, 144.296  \n",
       "4  papua new guinea   -6.57, 146.726  \n",
       "5  papua new guinea   -9.443, 147.22  "
      ]
     },
     "execution_count": 31,
     "metadata": {},
     "output_type": "execute_result"
    }
   ],
   "source": [
    "# Define the column names if they are not included in the file\n",
    "column_names = [\n",
    "    \"big_code\", \"code\", \"airport\", \"city\", \"country\",\n",
    "    \"Latitude Degree\", \"Latitude Minute\", \"Latitude Second\", \"Latitude Direction\",\n",
    "    \"Longitude Degree\", \"Longitude Minute\", \"Longitude Second\", \"Longitude Direction\",\n",
    "    \"Altitude\", \"latitude\", \"longitude\"\n",
    "]\n",
    "\n",
    "# Load the data\n",
    "codes = pd.read_csv(\n",
    "    'data/GlobalAirportDatabase.txt',  # File path\n",
    "    delimiter=':',                # Delimiter\n",
    "    names=column_names            # Names of the columns\n",
    ")[['big_code','code','airport','city','country', 'latitude', 'longitude']]\n",
    "codes['code'] = codes['code'].str.lower()\n",
    "codes['airport'] = codes['airport'].str.lower()\n",
    "codes['city'] = codes['city'].str.lower()\n",
    "codes['country'] = codes['country'].str.lower()\n",
    "codes['coordinates'] = codes['latitude'].astype(str) + ', ' + codes['longitude'].astype(str)\n",
    "codes.drop(columns=['latitude','longitude'],inplace=True)\n",
    "codes.dropna(subset='airport',inplace=True)\n",
    "# Display the first few rows of the DataFrame to check\n",
    "codes.head()"
   ]
  },
  {
   "cell_type": "code",
   "execution_count": 45,
   "id": "b4af7e33-78b8-43a8-8fd7-0b349d2f3cb0",
   "metadata": {},
   "outputs": [],
   "source": [
    "unique_codes = get_unique_col_values(codes, ['code'])\n",
    "unique_cities = get_unique_col_values(codes, ['city'])\n",
    "unique_originals = get_unique_col_values(df, ['origin', 'destination'])"
   ]
  },
  {
   "cell_type": "code",
   "execution_count": 46,
   "id": "791043fb-9319-4626-ae43-d0d4dac7c579",
   "metadata": {},
   "outputs": [
    {
     "data": {
      "text/plain": [
       "numpy.ndarray"
      ]
     },
     "execution_count": 46,
     "metadata": {},
     "output_type": "execute_result"
    }
   ],
   "source": [
    "type(unique_originals)"
   ]
  },
  {
   "cell_type": "code",
   "execution_count": 49,
   "id": "8c824bb8-a20f-4372-be77-0f179fa616cd",
   "metadata": {},
   "outputs": [
    {
     "data": {
      "text/plain": [
       "array(['moroni', 'anjouan', 'frankfurt', ..., 'bhairahawa', 'bhadrapur',\n",
       "       'japan'], dtype=object)"
      ]
     },
     "execution_count": 49,
     "metadata": {},
     "output_type": "execute_result"
    }
   ],
   "source": [
    "unique_originals"
   ]
  },
  {
   "cell_type": "code",
   "execution_count": 63,
   "id": "bac3fad4-c6e5-446e-ad3f-533d940be698",
   "metadata": {},
   "outputs": [],
   "source": [
    "# Finding the closest match to help merge dataframes\n",
    "matches = []\n",
    "scores = []\n",
    "for word in unique_originals:\n",
    "    try:\n",
    "        if len(word)==3:\n",
    "            match, score = closest_match(word,unique_codes)\n",
    "        else:\n",
    "            match, score = closest_match(word,unique_cities)\n",
    "        \n",
    "    except:\n",
    "        match = None\n",
    "        score = 0\n",
    "    matches.append(match)\n",
    "    scores.append(score)\n",
    "score_df = pd.DataFrame({'word': unique_originals, 'match': matches, 'score': scores})\n",
    "score_df = score_df.loc[score_df['score'] >= 90]"
   ]
  },
  {
   "cell_type": "code",
   "execution_count": null,
   "id": "71c85ed4-3dc3-4a63-8d62-297dd7da0d48",
   "metadata": {},
   "outputs": [],
   "source": [
    "# Creating a dictionary to map coordinates onto matched values\n",
    "melted_df = codes_df.melt(id_vars='coordinates', value_vars=['code', 'airport', 'city'], value_name='Key').drop('variable', axis=1)\n",
    "result_dict = dict(zip(melted_df['Key'], melted_df['coordinates']))\n",
    "\n",
    "# Adding coordinates to score_Df\n",
    "score_df['coordinates'] = score_df['match'].apply(lambda x: try_map(x,result_dict))"
   ]
  },
  {
   "cell_type": "code",
   "execution_count": null,
   "id": "6a35fbc9-4bea-4343-bcc5-4e850012c434",
   "metadata": {},
   "outputs": [],
   "source": [
    "df_new = df[['Route', 'origin', 'destination', 'Overall_Rating', 'Recommended']].copy().dropna()\n",
    "\n",
    "df_origins = pd.merge(df_new, score_df[['word','match','coordinates']], left_on= 'origin',right_on='word', how='left')\n",
    "df_origins.rename(columns={'match':'origin_city','coordinates':'origin_coordinates'},inplace=True)\n",
    "df_origins.drop(columns='word', inplace=True)\n",
    "\n",
    "df_dest = pd.merge(df_origins, score_df[['word','match','coordinates']], left_on= 'destination',right_on='word', how='left')\n",
    "df_dest.rename(columns={'match':'destination_city','coordinates':'destination_coordinates'},inplace=True)\n",
    "df_dest.drop(columns='word', inplace=True)\n",
    "\n",
    "df_final = df_dest[['Route','origin','origin_city','origin_coordinates','destination',\n",
    "                    'destination_city','destination_coordinates']].dropna().copy()\n",
    "\n",
    "df_final['distance'] = df_final.apply(\n",
    "    lambda row: calculate_distance(row['origin_coordinates'], \n",
    "                                   row['destination_coordinates']), axis=1)"
   ]
  },
  {
   "cell_type": "code",
   "execution_count": null,
   "id": "588753ee-229e-4b21-9ef4-a691d4203d1a",
   "metadata": {},
   "outputs": [],
   "source": [
    "score_df2=score_df.loc[score_df['score']==100]"
   ]
  },
  {
   "cell_type": "code",
   "execution_count": null,
   "id": "71718291-9f73-48d8-bebb-1c897718ed4c",
   "metadata": {},
   "outputs": [],
   "source": [
    "df_new = df[['Route', 'origin', 'destination', 'Overall_Rating', 'Recommended']].copy().dropna()\n",
    "\n",
    "df_origins = pd.merge(df_new, score_df2[['word','match','coordinates']], left_on= 'origin',right_on='word', how='left')\n",
    "df_origins.rename(columns={'match':'origin_city','coordinates':'origin_coordinates'},inplace=True)\n",
    "df_origins.drop(columns='word', inplace=True)\n",
    "\n",
    "df_dest = pd.merge(df_origins, score_df2[['word','match','coordinates']], left_on= 'destination',right_on='word', how='left')\n",
    "df_dest.rename(columns={'match':'destination_city','coordinates':'destination_coordinates'},inplace=True)\n",
    "df_dest.drop(columns='word', inplace=True)\n",
    "\n",
    "df_final2 = df_dest[['Route','origin','origin_city','origin_coordinates','destination',\n",
    "                    'destination_city','destination_coordinates']].dropna().copy()\n",
    "\n",
    "df_final2['distance'] = df_final2.apply(\n",
    "    lambda row: calculate_distance(row['origin_coordinates'], \n",
    "                                   row['destination_coordinates']), axis=1)"
   ]
  },
  {
   "cell_type": "code",
   "execution_count": null,
   "id": "e5708e63-26a6-4b1a-b6c5-efd1fe19997f",
   "metadata": {},
   "outputs": [],
   "source": []
  },
  {
   "cell_type": "code",
   "execution_count": null,
   "id": "d2d3a574-74b9-4f2c-b053-b845ff2492ad",
   "metadata": {},
   "outputs": [],
   "source": [
    "import seaborn as sns\n",
    "sns.histplot(df_final2['distance'])"
   ]
  },
  {
   "cell_type": "code",
   "execution_count": null,
   "id": "fca7c433-039a-4a46-86ad-3c7a331cf9bc",
   "metadata": {},
   "outputs": [],
   "source": [
    "df_final2.loc[df_final2['distance']>17500]\n",
    "37.7749° N,\n",
    "122.4194° W"
   ]
  },
  {
   "cell_type": "code",
   "execution_count": null,
   "id": "7f0423ac-c139-4e55-bba1-271586e80982",
   "metadata": {},
   "outputs": [],
   "source": [
    "codes_df.loc[codes_df['coordinates']=='-38.7, -60.016667']"
   ]
  },
  {
   "cell_type": "code",
   "execution_count": null,
   "id": "7b375d7c-1c51-4001-8908-a86ea43780f3",
   "metadata": {},
   "outputs": [],
   "source": []
  }
 ],
 "metadata": {
  "kernelspec": {
   "display_name": "Python 3 (ipykernel)",
   "language": "python",
   "name": "python3"
  },
  "language_info": {
   "codemirror_mode": {
    "name": "ipython",
    "version": 3
   },
   "file_extension": ".py",
   "mimetype": "text/x-python",
   "name": "python",
   "nbconvert_exporter": "python",
   "pygments_lexer": "ipython3",
   "version": "3.12.2"
  }
 },
 "nbformat": 4,
 "nbformat_minor": 5
}
